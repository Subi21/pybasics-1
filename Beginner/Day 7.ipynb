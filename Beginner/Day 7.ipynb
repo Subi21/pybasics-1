{
 "cells": [
  {
   "cell_type": "markdown",
   "metadata": {},
   "source": [
<<<<<<< HEAD
    "## Day 7\n",
    "___\n",
    "- Numpy Intro\n",
    "- set\n",
    "- List/dict/set Comprehension"
   ]
  },
  {
   "cell_type": "markdown",
   "metadata": {},
   "source": [
    "Numeric python- used as a base for scientific computing, is very fast."
=======
    "# Day 7\n",
    "---\n",
    "\n",
    "- Numpy Intro\n",
    "- Set\n",
    "- List/Dict/Set Comprehension"
>>>>>>> a7d4c06a751b13b693b43ae0b0f6fb66f33e74fa
   ]
  },
  {
   "cell_type": "code",
   "execution_count": 1,
   "metadata": {
    "collapsed": true
   },
   "outputs": [],
   "source": [
    "import numpy as np"
   ]
  },
  {
   "cell_type": "code",
   "execution_count": 2,
   "metadata": {
    "collapsed": false
   },
   "outputs": [
    {
     "data": {
      "text/plain": [
       "-0.98803162409286183"
      ]
     },
     "execution_count": 2,
     "metadata": {},
     "output_type": "execute_result"
    }
   ],
   "source": [
    "np.sin(30)"
   ]
  },
  {
   "cell_type": "code",
   "execution_count": 3,
   "metadata": {
    "collapsed": false
   },
   "outputs": [
    {
     "data": {
      "text/plain": [
       "[0.0,\n",
       " 0.8414709848078965,\n",
       " 0.90929742682568171,\n",
       " 0.14112000805986721,\n",
       " -0.7568024953079282,\n",
       " -0.95892427466313845,\n",
       " -0.27941549819892586,\n",
       " 0.65698659871878906,\n",
       " 0.98935824662338179,\n",
       " 0.41211848524175659,\n",
<<<<<<< HEAD
       " -0.54402111088936989,\n",
=======
       " -0.54402111088936977,\n",
>>>>>>> a7d4c06a751b13b693b43ae0b0f6fb66f33e74fa
       " -0.99999020655070348,\n",
       " -0.53657291800043494,\n",
       " 0.42016703682664092,\n",
       " 0.99060735569487035,\n",
<<<<<<< HEAD
       " 0.65028784015711694,\n",
=======
       " 0.65028784015711683,\n",
>>>>>>> a7d4c06a751b13b693b43ae0b0f6fb66f33e74fa
       " -0.2879033166650653,\n",
       " -0.96139749187955681,\n",
       " -0.75098724677167605,\n",
       " 0.14987720966295234,\n",
       " 0.91294525072762767,\n",
<<<<<<< HEAD
       " 0.83665563853605596,\n",
=======
       " 0.83665563853605607,\n",
>>>>>>> a7d4c06a751b13b693b43ae0b0f6fb66f33e74fa
       " -0.0088513092904038762,\n",
       " -0.84622040417517064,\n",
       " -0.90557836200662389,\n",
       " -0.13235175009777303,\n",
<<<<<<< HEAD
       " 0.7625584504796028,\n",
=======
       " 0.76255845047960269,\n",
>>>>>>> a7d4c06a751b13b693b43ae0b0f6fb66f33e74fa
       " 0.95637592840450303,\n",
       " 0.27090578830786904,\n",
       " -0.66363388421296754,\n",
       " -0.98803162409286183,\n",
       " -0.40403764532306502,\n",
       " 0.55142668124169059,\n",
       " 0.99991186010726718,\n",
       " 0.52908268612002385,\n",
       " -0.42818266949615102,\n",
       " -0.99177885344311578,\n",
<<<<<<< HEAD
       " -0.64353813335699939,\n",
=======
       " -0.6435381333569995,\n",
>>>>>>> a7d4c06a751b13b693b43ae0b0f6fb66f33e74fa
       " 0.29636857870938532,\n",
       " 0.96379538628408779,\n",
       " 0.74511316047934883,\n",
       " -0.15862266880470899,\n",
       " -0.91652154791563378,\n",
       " -0.8317747426285983,\n",
       " 0.017701925105413577,\n",
       " 0.85090352453411844,\n",
       " 0.90178834764880922,\n",
       " 0.123573122745224,\n",
       " -0.76825466132366682,\n",
       " -0.95375265275947185,\n",
       " -0.26237485370392877,\n",
       " 0.67022917584337471,\n",
       " 0.98662759204048534,\n",
<<<<<<< HEAD
       " 0.39592515018183422,\n",
       " -0.55878904885161618,\n",
=======
       " 0.39592515018183416,\n",
       " -0.55878904885161629,\n",
>>>>>>> a7d4c06a751b13b693b43ae0b0f6fb66f33e74fa
       " -0.99975517335861985,\n",
       " -0.52155100208691185,\n",
       " 0.43616475524782494,\n",
       " 0.99287264808453712,\n",
       " 0.63673800713913786,\n",
       " -0.30481062110221668,\n",
       " -0.96611777000839294,\n",
<<<<<<< HEAD
       " -0.73918069664922292,\n",
       " 0.16735570030280694,\n",
       " 0.92002603819679074,\n",
       " 0.82682867949010352,\n",
=======
       " -0.73918069664922281,\n",
       " 0.16735570030280691,\n",
       " 0.92002603819679063,\n",
       " 0.82682867949010341,\n",
>>>>>>> a7d4c06a751b13b693b43ae0b0f6fb66f33e74fa
       " -0.026551154023966794,\n",
       " -0.85551997897532228,\n",
       " -0.8979276806892913,\n",
       " -0.11478481378318722,\n",
       " 0.77389068155788909,\n",
       " 0.95105465325437466,\n",
       " 0.25382336276203626,\n",
       " -0.67677195688730762,\n",
       " -0.98514626046824738,\n",
       " -0.38778163540943045,\n",
       " 0.56610763689818033,\n",
       " 0.99952015858073129,\n",
       " 0.51397845598753522,\n",
       " -0.44411266870750837,\n",
       " -0.99388865392337522,\n",
<<<<<<< HEAD
       " -0.62988799427445397,\n",
       " 0.31322878243308516,\n",
       " 0.96836446110018537,\n",
       " 0.7331903200732921,\n",
       " -0.17607561994858709,\n",
       " -0.92345844700405977,\n",
       " -0.82181783663082253,\n",
       " 0.035398302733660687,\n",
=======
       " -0.62988799427445386,\n",
       " 0.31322878243308516,\n",
       " 0.96836446110018537,\n",
       " 0.73319032007329221,\n",
       " -0.17607561994858709,\n",
       " -0.92345844700405977,\n",
       " -0.82181783663082253,\n",
       " 0.03539830273366068,\n",
>>>>>>> a7d4c06a751b13b693b43ae0b0f6fb66f33e74fa
       " 0.86006940581245328,\n",
       " 0.89399666360055785]"
      ]
     },
     "execution_count": 3,
     "metadata": {},
     "output_type": "execute_result"
    }
   ],
   "source": [
    "calculated = []\n",
    "for deg in range(0, 91):\n",
    "    calculated.append(np.sin(deg))\n",
    "calculated"
   ]
  },
  {
   "cell_type": "code",
   "execution_count": 4,
   "metadata": {
    "collapsed": false
   },
   "outputs": [
    {
     "data": {
      "text/plain": [
       "[0.0,\n",
       " 0.8414709848078965,\n",
       " 0.90929742682568171,\n",
       " 0.14112000805986721,\n",
       " -0.7568024953079282,\n",
       " -0.95892427466313845,\n",
       " -0.27941549819892586,\n",
       " 0.65698659871878906,\n",
       " 0.98935824662338179,\n",
       " 0.41211848524175659,\n",
<<<<<<< HEAD
       " -0.54402111088936989,\n",
=======
       " -0.54402111088936977,\n",
>>>>>>> a7d4c06a751b13b693b43ae0b0f6fb66f33e74fa
       " -0.99999020655070348,\n",
       " -0.53657291800043494,\n",
       " 0.42016703682664092,\n",
       " 0.99060735569487035,\n",
<<<<<<< HEAD
       " 0.65028784015711694,\n",
=======
       " 0.65028784015711683,\n",
>>>>>>> a7d4c06a751b13b693b43ae0b0f6fb66f33e74fa
       " -0.2879033166650653,\n",
       " -0.96139749187955681,\n",
       " -0.75098724677167605,\n",
       " 0.14987720966295234,\n",
       " 0.91294525072762767,\n",
<<<<<<< HEAD
       " 0.83665563853605596,\n",
=======
       " 0.83665563853605607,\n",
>>>>>>> a7d4c06a751b13b693b43ae0b0f6fb66f33e74fa
       " -0.0088513092904038762,\n",
       " -0.84622040417517064,\n",
       " -0.90557836200662389,\n",
       " -0.13235175009777303,\n",
<<<<<<< HEAD
       " 0.7625584504796028,\n",
=======
       " 0.76255845047960269,\n",
>>>>>>> a7d4c06a751b13b693b43ae0b0f6fb66f33e74fa
       " 0.95637592840450303,\n",
       " 0.27090578830786904,\n",
       " -0.66363388421296754,\n",
       " -0.98803162409286183,\n",
       " -0.40403764532306502,\n",
       " 0.55142668124169059,\n",
       " 0.99991186010726718,\n",
       " 0.52908268612002385,\n",
       " -0.42818266949615102,\n",
       " -0.99177885344311578,\n",
<<<<<<< HEAD
       " -0.64353813335699939,\n",
=======
       " -0.6435381333569995,\n",
>>>>>>> a7d4c06a751b13b693b43ae0b0f6fb66f33e74fa
       " 0.29636857870938532,\n",
       " 0.96379538628408779,\n",
       " 0.74511316047934883,\n",
       " -0.15862266880470899,\n",
       " -0.91652154791563378,\n",
       " -0.8317747426285983,\n",
       " 0.017701925105413577,\n",
       " 0.85090352453411844,\n",
       " 0.90178834764880922,\n",
       " 0.123573122745224,\n",
       " -0.76825466132366682,\n",
       " -0.95375265275947185,\n",
       " -0.26237485370392877,\n",
       " 0.67022917584337471,\n",
       " 0.98662759204048534,\n",
<<<<<<< HEAD
       " 0.39592515018183422,\n",
       " -0.55878904885161618,\n",
=======
       " 0.39592515018183416,\n",
       " -0.55878904885161629,\n",
>>>>>>> a7d4c06a751b13b693b43ae0b0f6fb66f33e74fa
       " -0.99975517335861985,\n",
       " -0.52155100208691185,\n",
       " 0.43616475524782494,\n",
       " 0.99287264808453712,\n",
       " 0.63673800713913786,\n",
       " -0.30481062110221668,\n",
       " -0.96611777000839294,\n",
<<<<<<< HEAD
       " -0.73918069664922292,\n",
       " 0.16735570030280694,\n",
       " 0.92002603819679074,\n",
       " 0.82682867949010352,\n",
=======
       " -0.73918069664922281,\n",
       " 0.16735570030280691,\n",
       " 0.92002603819679063,\n",
       " 0.82682867949010341,\n",
>>>>>>> a7d4c06a751b13b693b43ae0b0f6fb66f33e74fa
       " -0.026551154023966794,\n",
       " -0.85551997897532228,\n",
       " -0.8979276806892913,\n",
       " -0.11478481378318722,\n",
       " 0.77389068155788909,\n",
       " 0.95105465325437466,\n",
       " 0.25382336276203626,\n",
       " -0.67677195688730762,\n",
       " -0.98514626046824738,\n",
       " -0.38778163540943045,\n",
       " 0.56610763689818033,\n",
       " 0.99952015858073129,\n",
       " 0.51397845598753522,\n",
       " -0.44411266870750837,\n",
       " -0.99388865392337522,\n",
<<<<<<< HEAD
       " -0.62988799427445397,\n",
       " 0.31322878243308516,\n",
       " 0.96836446110018537,\n",
       " 0.7331903200732921,\n",
       " -0.17607561994858709,\n",
       " -0.92345844700405977,\n",
       " -0.82181783663082253,\n",
       " 0.035398302733660687,\n",
=======
       " -0.62988799427445386,\n",
       " 0.31322878243308516,\n",
       " 0.96836446110018537,\n",
       " 0.73319032007329221,\n",
       " -0.17607561994858709,\n",
       " -0.92345844700405977,\n",
       " -0.82181783663082253,\n",
       " 0.03539830273366068,\n",
>>>>>>> a7d4c06a751b13b693b43ae0b0f6fb66f33e74fa
       " 0.86006940581245328,\n",
       " 0.89399666360055785]"
      ]
     },
     "execution_count": 4,
     "metadata": {},
     "output_type": "execute_result"
    }
   ],
   "source": [
<<<<<<< HEAD
    "calculated2 = [np.sin(deg)for deg in range(0,91)]\n",
=======
    "calculated2 = [np.sin(deg) for deg in range(0, 91)]\n",
>>>>>>> a7d4c06a751b13b693b43ae0b0f6fb66f33e74fa
    "calculated2"
   ]
  },
  {
<<<<<<< HEAD
   "cell_type": "markdown",
   "metadata": {},
   "source": [
    "- during multiple for loops, it first goes to 1st for loop, the expression gets evaluated and is appended."
   ]
  },
  {
=======
>>>>>>> a7d4c06a751b13b693b43ae0b0f6fb66f33e74fa
   "cell_type": "code",
   "execution_count": 5,
   "metadata": {
    "collapsed": false
   },
   "outputs": [
    {
     "data": {
      "text/plain": [
       "array([ 0.        ,  0.84147098,  0.90929743,  0.14112001, -0.7568025 ,\n",
       "       -0.95892427, -0.2794155 ,  0.6569866 ,  0.98935825,  0.41211849,\n",
       "       -0.54402111, -0.99999021, -0.53657292,  0.42016704,  0.99060736,\n",
       "        0.65028784, -0.28790332, -0.96139749, -0.75098725,  0.14987721,\n",
       "        0.91294525,  0.83665564, -0.00885131, -0.8462204 , -0.90557836,\n",
       "       -0.13235175,  0.76255845,  0.95637593,  0.27090579, -0.66363388,\n",
       "       -0.98803162, -0.40403765,  0.55142668,  0.99991186,  0.52908269,\n",
       "       -0.42818267, -0.99177885, -0.64353813,  0.29636858,  0.96379539,\n",
       "        0.74511316, -0.15862267, -0.91652155, -0.83177474,  0.01770193,\n",
       "        0.85090352,  0.90178835,  0.12357312, -0.76825466, -0.95375265,\n",
       "       -0.26237485,  0.67022918,  0.98662759,  0.39592515, -0.55878905,\n",
       "       -0.99975517, -0.521551  ,  0.43616476,  0.99287265,  0.63673801,\n",
       "       -0.30481062, -0.96611777, -0.7391807 ,  0.1673557 ,  0.92002604,\n",
       "        0.82682868, -0.02655115, -0.85551998, -0.89792768, -0.11478481,\n",
       "        0.77389068,  0.95105465,  0.25382336, -0.67677196, -0.98514626,\n",
       "       -0.38778164,  0.56610764,  0.99952016,  0.51397846, -0.44411267,\n",
       "       -0.99388865, -0.62988799,  0.31322878,  0.96836446,  0.73319032,\n",
       "       -0.17607562, -0.92345845, -0.82181784,  0.0353983 ,  0.86006941,\n",
       "        0.89399666])"
      ]
     },
     "execution_count": 5,
     "metadata": {},
     "output_type": "execute_result"
    }
   ],
   "source": [
<<<<<<< HEAD
    "np.sin(range(0,91))"
=======
    "np.sin(range(0, 91))"
   ]
  },
  {
   "cell_type": "markdown",
   "metadata": {},
   "source": [
    "broadcast"
>>>>>>> a7d4c06a751b13b693b43ae0b0f6fb66f33e74fa
   ]
  },
  {
   "cell_type": "code",
   "execution_count": 6,
   "metadata": {
    "collapsed": false
   },
   "outputs": [
    {
     "data": {
      "text/plain": [
       "array([ 0.        ,  0.84147098,  0.90929743,  0.14112001, -0.7568025 ,\n",
       "       -0.95892427, -0.2794155 ,  0.6569866 ,  0.98935825,  0.41211849,\n",
       "       -0.54402111, -0.99999021, -0.53657292,  0.42016704,  0.99060736,\n",
       "        0.65028784, -0.28790332, -0.96139749, -0.75098725,  0.14987721,\n",
       "        0.91294525,  0.83665564, -0.00885131, -0.8462204 , -0.90557836,\n",
       "       -0.13235175,  0.76255845,  0.95637593,  0.27090579, -0.66363388,\n",
       "       -0.98803162, -0.40403765,  0.55142668,  0.99991186,  0.52908269,\n",
       "       -0.42818267, -0.99177885, -0.64353813,  0.29636858,  0.96379539,\n",
       "        0.74511316, -0.15862267, -0.91652155, -0.83177474,  0.01770193,\n",
       "        0.85090352,  0.90178835,  0.12357312, -0.76825466, -0.95375265,\n",
       "       -0.26237485,  0.67022918,  0.98662759,  0.39592515, -0.55878905,\n",
       "       -0.99975517, -0.521551  ,  0.43616476,  0.99287265,  0.63673801,\n",
       "       -0.30481062, -0.96611777, -0.7391807 ,  0.1673557 ,  0.92002604,\n",
       "        0.82682868, -0.02655115, -0.85551998, -0.89792768, -0.11478481,\n",
       "        0.77389068,  0.95105465,  0.25382336, -0.67677196, -0.98514626,\n",
       "       -0.38778164,  0.56610764,  0.99952016,  0.51397846, -0.44411267,\n",
       "       -0.99388865, -0.62988799,  0.31322878,  0.96836446,  0.73319032,\n",
       "       -0.17607562, -0.92345845, -0.82181784,  0.0353983 ,  0.86006941,\n",
       "        0.89399666])"
      ]
     },
     "execution_count": 6,
     "metadata": {},
     "output_type": "execute_result"
    }
   ],
   "source": [
<<<<<<< HEAD
    "np.sin([deg for deg in range(0,91)])"
   ]
  },
  {
   "cell_type": "markdown",
   "metadata": {},
   "source": [
    "- broadcast function. when an array is added to any function it is added to each item in array and returns the value."
=======
    "np.sin([deg for deg in range(0, 91)])"
>>>>>>> a7d4c06a751b13b693b43ae0b0f6fb66f33e74fa
   ]
  },
  {
   "cell_type": "code",
   "execution_count": 7,
   "metadata": {
    "collapsed": false
   },
   "outputs": [
    {
     "name": "stdout",
     "output_type": "stream",
     "text": [
<<<<<<< HEAD
      "10000 loops, best of 3: 124 µs per loop\n"
=======
      "1000 loops, best of 3: 566 µs per loop\n"
>>>>>>> a7d4c06a751b13b693b43ae0b0f6fb66f33e74fa
     ]
    }
   ],
   "source": [
<<<<<<< HEAD
    "%timeit [np.sin(deg) for deg in range (0,91)]"
=======
    "%timeit [np.sin(deg) for deg in range(0, 91)]"
>>>>>>> a7d4c06a751b13b693b43ae0b0f6fb66f33e74fa
   ]
  },
  {
   "cell_type": "code",
   "execution_count": 8,
   "metadata": {
    "collapsed": false
   },
   "outputs": [
    {
     "name": "stdout",
     "output_type": "stream",
     "text": [
<<<<<<< HEAD
      "The slowest run took 4.08 times longer than the fastest. This could mean that an intermediate result is being cached.\n",
      "10000 loops, best of 3: 16.2 µs per loop\n"
=======
      "The slowest run took 7.29 times longer than the fastest. This could mean that an intermediate result is being cached.\n",
      "10000 loops, best of 3: 43 µs per loop\n"
>>>>>>> a7d4c06a751b13b693b43ae0b0f6fb66f33e74fa
     ]
    }
   ],
   "source": [
<<<<<<< HEAD
    "%timeit np.sin([deg for deg in range(0,91)])"
=======
    "%timeit np.sin([deg for deg in range(0, 91)])"
>>>>>>> a7d4c06a751b13b693b43ae0b0f6fb66f33e74fa
   ]
  },
  {
   "cell_type": "code",
<<<<<<< HEAD
   "execution_count": 9,
=======
   "execution_count": null,
   "metadata": {
    "collapsed": true
   },
   "outputs": [],
   "source": []
  },
  {
   "cell_type": "code",
   "execution_count": 10,
>>>>>>> a7d4c06a751b13b693b43ae0b0f6fb66f33e74fa
   "metadata": {
    "collapsed": true
   },
   "outputs": [],
   "source": [
<<<<<<< HEAD
    "paragraph = \"\"\"The commencement of the move for a scientific standard of length in\n",
=======
    "paragraph = \"\"\"\n",
    "The commencement of the move for a scientific standard of length in\n",
>>>>>>> a7d4c06a751b13b693b43ae0b0f6fb66f33e74fa
    "France which resulted in the mètre was in 1790, when the revolutionary\n",
    "government proposed to England the formation of a commission of equal\n",
    "numbers from the English Royal Society and the French Academy, for the\n",
    "purpose of fixing the length of the seconds pendulum at latitude 45° as\n",
    "the basis of a new system of measures. This proposal was not favorably\n",
    "received, and the Academy, at the request of government, appointed as\n",
    "a commission Borda, Lagrange, Laplace, Monge, and Condorcet, to decide\n",
    "whether the seconds pendulum, the quarter of the equator, or the quarter\n",
    "of a meridian, should be used as the natural standard for the new system\n",
    "of measures. They settled on the last as best for the purpose, and\n",
    "resolved that the ten millionth of the meridian quadrant, or distance\n",
    "from equator to pole, measured at sea level, be taken for basis of the\n",
    "new system, and be called a mètre.\n",
<<<<<<< HEAD
    "\n",
=======
>>>>>>> a7d4c06a751b13b693b43ae0b0f6fb66f33e74fa
    "\"\"\""
   ]
  },
  {
   "cell_type": "code",
<<<<<<< HEAD
   "execution_count": 10,
   "metadata": {
    "collapsed": false
   },
   "outputs": [
    {
     "data": {
      "text/plain": [
       "'the commencement of the move for a scientific standard of length in\\nfrance which resulted in the mètre was in 1790, when the revolutionary\\ngovernment proposed to england the formation of a commission of equal\\nnumbers from the english royal society and the french academy, for the\\npurpose of fixing the length of the seconds pendulum at latitude 45° as\\nthe basis of a new system of measures. this proposal was not favorably\\nreceived, and the academy, at the request of government, appointed as\\na commission borda, lagrange, laplace, monge, and condorcet, to decide\\nwhether the seconds pendulum, the quarter of the equator, or the quarter\\nof a meridian, should be used as the natural standard for the new system\\nof measures. they settled on the last as best for the purpose, and\\nresolved that the ten millionth of the meridian quadrant, or distance\\nfrom equator to pole, measured at sea level, be taken for basis of the\\nnew system, and be called a mètre.\\n\\n'"
      ]
     },
     "execution_count": 10,
     "metadata": {},
     "output_type": "execute_result"
    }
   ],
   "source": [
    "paragraph.lower()"
   ]
  },
  {
   "cell_type": "code",
   "execution_count": 11,
   "metadata": {
    "collapsed": true
   },
   "outputs": [],
   "source": [
    "cleaned_text = paragraph.lower().replace(',','').replace('\\n',' ').strip()"
=======
   "execution_count": 28,
   "metadata": {
    "collapsed": false
   },
   "outputs": [],
   "source": [
    "cleaned_text = paragraph.lower().replace(',', '').\\\n",
    "    replace('.', '').replace('\\n', ' ').strip()"
>>>>>>> a7d4c06a751b13b693b43ae0b0f6fb66f33e74fa
   ]
  },
  {
   "cell_type": "code",
<<<<<<< HEAD
   "execution_count": 12,
=======
   "execution_count": 15,
>>>>>>> a7d4c06a751b13b693b43ae0b0f6fb66f33e74fa
   "metadata": {
    "collapsed": false
   },
   "outputs": [
    {
     "data": {
      "text/plain": [
<<<<<<< HEAD
       "'the commencement of the move for a scientific standard of length in france which resulted in the mètre was in 1790 when the revolutionary government proposed to england the formation of a commission of equal numbers from the english royal society and the french academy for the purpose of fixing the length of the seconds pendulum at latitude 45° as the basis of a new system of measures. this proposal was not favorably received and the academy at the request of government appointed as a commission borda lagrange laplace monge and condorcet to decide whether the seconds pendulum the quarter of the equator or the quarter of a meridian should be used as the natural standard for the new system of measures. they settled on the last as best for the purpose and resolved that the ten millionth of the meridian quadrant or distance from equator to pole measured at sea level be taken for basis of the new system and be called a mètre.'"
      ]
     },
     "execution_count": 12,
=======
       "'the commencement of the move for a scientific standard of length in france which resulted in the mètre was in 1790 when the revolutionary government proposed to england the formation of a commission of equal numbers from the english royal society and the french academy for the purpose of fixing the length of the seconds pendulum at latitude 45° as the basis of a new system of measures this proposal was not favorably received and the academy at the request of government appointed as a commission borda lagrange laplace monge and condorcet to decide whether the seconds pendulum the quarter of the equator or the quarter of a meridian should be used as the natural standard for the new system of measures they settled on the last as best for the purpose and resolved that the ten millionth of the meridian quadrant or distance from equator to pole measured at sea level be taken for basis of the new system and be called a mètre'"
      ]
     },
     "execution_count": 15,
>>>>>>> a7d4c06a751b13b693b43ae0b0f6fb66f33e74fa
     "metadata": {},
     "output_type": "execute_result"
    }
   ],
   "source": [
    "cleaned_text"
   ]
  },
  {
   "cell_type": "code",
   "execution_count": 17,
   "metadata": {
<<<<<<< HEAD
    "collapsed": true
   },
   "outputs": [],
   "source": [
    "set: cleaned_text"
=======
    "collapsed": false
   },
   "outputs": [
    {
     "data": {
      "text/plain": [
       "{' ',\n",
       " '0',\n",
       " '1',\n",
       " '4',\n",
       " '5',\n",
       " '7',\n",
       " '9',\n",
       " 'a',\n",
       " 'b',\n",
       " 'c',\n",
       " 'd',\n",
       " 'e',\n",
       " 'f',\n",
       " 'g',\n",
       " 'h',\n",
       " 'i',\n",
       " 'k',\n",
       " 'l',\n",
       " 'm',\n",
       " 'n',\n",
       " 'o',\n",
       " 'p',\n",
       " 'q',\n",
       " 'r',\n",
       " 's',\n",
       " 't',\n",
       " 'u',\n",
       " 'v',\n",
       " 'w',\n",
       " 'x',\n",
       " 'y',\n",
       " '°',\n",
       " 'è'}"
      ]
     },
     "execution_count": 17,
     "metadata": {},
     "output_type": "execute_result"
    }
   ],
   "source": [
    "set(cleaned_text)"
>>>>>>> a7d4c06a751b13b693b43ae0b0f6fb66f33e74fa
   ]
  },
  {
   "cell_type": "code",
   "execution_count": 18,
   "metadata": {
    "collapsed": false
   },
   "outputs": [
    {
     "data": {
      "text/plain": [
       "['the',\n",
       " 'commencement',\n",
       " 'of',\n",
       " 'the',\n",
       " 'move',\n",
       " 'for',\n",
       " 'a',\n",
       " 'scientific',\n",
       " 'standard',\n",
       " 'of',\n",
       " 'length',\n",
       " 'in',\n",
       " 'france',\n",
       " 'which',\n",
       " 'resulted',\n",
       " 'in',\n",
       " 'the',\n",
       " 'mètre',\n",
       " 'was',\n",
       " 'in',\n",
       " '1790',\n",
       " 'when',\n",
       " 'the',\n",
       " 'revolutionary',\n",
       " 'government',\n",
       " 'proposed',\n",
       " 'to',\n",
       " 'england',\n",
       " 'the',\n",
       " 'formation',\n",
       " 'of',\n",
       " 'a',\n",
       " 'commission',\n",
       " 'of',\n",
       " 'equal',\n",
       " 'numbers',\n",
       " 'from',\n",
       " 'the',\n",
       " 'english',\n",
       " 'royal',\n",
       " 'society',\n",
       " 'and',\n",
       " 'the',\n",
       " 'french',\n",
       " 'academy',\n",
       " 'for',\n",
       " 'the',\n",
       " 'purpose',\n",
       " 'of',\n",
       " 'fixing',\n",
       " 'the',\n",
       " 'length',\n",
       " 'of',\n",
       " 'the',\n",
       " 'seconds',\n",
       " 'pendulum',\n",
       " 'at',\n",
       " 'latitude',\n",
       " '45°',\n",
       " 'as',\n",
       " 'the',\n",
       " 'basis',\n",
       " 'of',\n",
       " 'a',\n",
       " 'new',\n",
       " 'system',\n",
       " 'of',\n",
<<<<<<< HEAD
       " 'measures.',\n",
=======
       " 'measures',\n",
>>>>>>> a7d4c06a751b13b693b43ae0b0f6fb66f33e74fa
       " 'this',\n",
       " 'proposal',\n",
       " 'was',\n",
       " 'not',\n",
       " 'favorably',\n",
       " 'received',\n",
       " 'and',\n",
       " 'the',\n",
       " 'academy',\n",
       " 'at',\n",
       " 'the',\n",
       " 'request',\n",
       " 'of',\n",
       " 'government',\n",
       " 'appointed',\n",
       " 'as',\n",
       " 'a',\n",
       " 'commission',\n",
       " 'borda',\n",
       " 'lagrange',\n",
       " 'laplace',\n",
       " 'monge',\n",
       " 'and',\n",
       " 'condorcet',\n",
       " 'to',\n",
       " 'decide',\n",
       " 'whether',\n",
       " 'the',\n",
       " 'seconds',\n",
       " 'pendulum',\n",
       " 'the',\n",
       " 'quarter',\n",
       " 'of',\n",
       " 'the',\n",
       " 'equator',\n",
       " 'or',\n",
       " 'the',\n",
       " 'quarter',\n",
       " 'of',\n",
       " 'a',\n",
       " 'meridian',\n",
       " 'should',\n",
       " 'be',\n",
       " 'used',\n",
       " 'as',\n",
       " 'the',\n",
       " 'natural',\n",
       " 'standard',\n",
       " 'for',\n",
       " 'the',\n",
       " 'new',\n",
       " 'system',\n",
       " 'of',\n",
<<<<<<< HEAD
       " 'measures.',\n",
=======
       " 'measures',\n",
>>>>>>> a7d4c06a751b13b693b43ae0b0f6fb66f33e74fa
       " 'they',\n",
       " 'settled',\n",
       " 'on',\n",
       " 'the',\n",
       " 'last',\n",
       " 'as',\n",
       " 'best',\n",
       " 'for',\n",
       " 'the',\n",
       " 'purpose',\n",
       " 'and',\n",
       " 'resolved',\n",
       " 'that',\n",
       " 'the',\n",
       " 'ten',\n",
       " 'millionth',\n",
       " 'of',\n",
       " 'the',\n",
       " 'meridian',\n",
       " 'quadrant',\n",
       " 'or',\n",
       " 'distance',\n",
       " 'from',\n",
       " 'equator',\n",
       " 'to',\n",
       " 'pole',\n",
       " 'measured',\n",
       " 'at',\n",
       " 'sea',\n",
       " 'level',\n",
       " 'be',\n",
       " 'taken',\n",
       " 'for',\n",
       " 'basis',\n",
       " 'of',\n",
       " 'the',\n",
       " 'new',\n",
       " 'system',\n",
       " 'and',\n",
       " 'be',\n",
       " 'called',\n",
       " 'a',\n",
<<<<<<< HEAD
       " 'mètre.']"
=======
       " 'mètre']"
>>>>>>> a7d4c06a751b13b693b43ae0b0f6fb66f33e74fa
      ]
     },
     "execution_count": 18,
     "metadata": {},
     "output_type": "execute_result"
    }
   ],
   "source": [
    "cleaned_text.split()"
   ]
  },
  {
   "cell_type": "code",
<<<<<<< HEAD
   "execution_count": 16,
=======
   "execution_count": 19,
>>>>>>> a7d4c06a751b13b693b43ae0b0f6fb66f33e74fa
   "metadata": {
    "collapsed": false
   },
   "outputs": [
    {
     "data": {
      "text/plain": [
       "{'1790',\n",
       " '45°',\n",
       " 'a',\n",
       " 'academy',\n",
       " 'and',\n",
       " 'appointed',\n",
       " 'as',\n",
       " 'at',\n",
       " 'basis',\n",
       " 'be',\n",
       " 'best',\n",
       " 'borda',\n",
       " 'called',\n",
       " 'commencement',\n",
       " 'commission',\n",
       " 'condorcet',\n",
       " 'decide',\n",
       " 'distance',\n",
       " 'england',\n",
       " 'english',\n",
       " 'equal',\n",
       " 'equator',\n",
       " 'favorably',\n",
       " 'fixing',\n",
       " 'for',\n",
       " 'formation',\n",
       " 'france',\n",
       " 'french',\n",
       " 'from',\n",
       " 'government',\n",
       " 'in',\n",
       " 'lagrange',\n",
       " 'laplace',\n",
       " 'last',\n",
       " 'latitude',\n",
       " 'length',\n",
       " 'level',\n",
       " 'measured',\n",
<<<<<<< HEAD
       " 'measures.',\n",
=======
       " 'measures',\n",
>>>>>>> a7d4c06a751b13b693b43ae0b0f6fb66f33e74fa
       " 'meridian',\n",
       " 'millionth',\n",
       " 'monge',\n",
       " 'move',\n",
       " 'mètre',\n",
<<<<<<< HEAD
       " 'mètre.',\n",
=======
>>>>>>> a7d4c06a751b13b693b43ae0b0f6fb66f33e74fa
       " 'natural',\n",
       " 'new',\n",
       " 'not',\n",
       " 'numbers',\n",
       " 'of',\n",
       " 'on',\n",
       " 'or',\n",
       " 'pendulum',\n",
       " 'pole',\n",
       " 'proposal',\n",
       " 'proposed',\n",
       " 'purpose',\n",
       " 'quadrant',\n",
       " 'quarter',\n",
       " 'received',\n",
       " 'request',\n",
       " 'resolved',\n",
       " 'resulted',\n",
       " 'revolutionary',\n",
       " 'royal',\n",
       " 'scientific',\n",
       " 'sea',\n",
       " 'seconds',\n",
       " 'settled',\n",
       " 'should',\n",
       " 'society',\n",
       " 'standard',\n",
       " 'system',\n",
       " 'taken',\n",
       " 'ten',\n",
       " 'that',\n",
       " 'the',\n",
       " 'they',\n",
       " 'this',\n",
       " 'to',\n",
       " 'used',\n",
       " 'was',\n",
       " 'when',\n",
       " 'whether',\n",
       " 'which'}"
      ]
     },
<<<<<<< HEAD
     "execution_count": 16,
=======
     "execution_count": 19,
>>>>>>> a7d4c06a751b13b693b43ae0b0f6fb66f33e74fa
     "metadata": {},
     "output_type": "execute_result"
    }
   ],
   "source": [
    "set(cleaned_text.split())"
   ]
  },
  {
   "cell_type": "code",
<<<<<<< HEAD
   "execution_count": 27,
   "metadata": {
    "collapsed": false,
    "scrolled": true
=======
   "execution_count": 20,
   "metadata": {
    "collapsed": false
>>>>>>> a7d4c06a751b13b693b43ae0b0f6fb66f33e74fa
   },
   "outputs": [
    {
     "data": {
      "text/plain": [
       "['__add__',\n",
       " '__class__',\n",
       " '__contains__',\n",
       " '__delattr__',\n",
       " '__delitem__',\n",
       " '__dir__',\n",
       " '__doc__',\n",
       " '__eq__',\n",
       " '__format__',\n",
       " '__ge__',\n",
       " '__getattribute__',\n",
       " '__getitem__',\n",
       " '__gt__',\n",
       " '__hash__',\n",
       " '__iadd__',\n",
       " '__imul__',\n",
       " '__init__',\n",
       " '__init_subclass__',\n",
       " '__iter__',\n",
       " '__le__',\n",
       " '__len__',\n",
       " '__lt__',\n",
       " '__mul__',\n",
       " '__ne__',\n",
       " '__new__',\n",
       " '__reduce__',\n",
       " '__reduce_ex__',\n",
       " '__repr__',\n",
       " '__reversed__',\n",
       " '__rmul__',\n",
       " '__setattr__',\n",
       " '__setitem__',\n",
       " '__sizeof__',\n",
       " '__str__',\n",
       " '__subclasshook__',\n",
       " 'append',\n",
       " 'clear',\n",
       " 'copy',\n",
       " 'count',\n",
       " 'extend',\n",
       " 'index',\n",
       " 'insert',\n",
       " 'pop',\n",
       " 'remove',\n",
       " 'reverse',\n",
       " 'sort']"
      ]
     },
<<<<<<< HEAD
     "execution_count": 27,
=======
     "execution_count": 20,
>>>>>>> a7d4c06a751b13b693b43ae0b0f6fb66f33e74fa
     "metadata": {},
     "output_type": "execute_result"
    }
   ],
   "source": [
    "dir([])"
   ]
  },
  {
   "cell_type": "code",
<<<<<<< HEAD
   "execution_count": 28,
=======
   "execution_count": 21,
>>>>>>> a7d4c06a751b13b693b43ae0b0f6fb66f33e74fa
   "metadata": {
    "collapsed": false
   },
   "outputs": [
    {
     "name": "stdout",
     "output_type": "stream",
     "text": [
      "Help on built-in function count:\n",
      "\n",
      "count(...) method of builtins.list instance\n",
      "    L.count(value) -> integer -- return number of occurrences of value\n",
      "\n"
     ]
    }
   ],
   "source": [
    "help([].count)"
   ]
  },
  {
<<<<<<< HEAD
   "cell_type": "markdown",
   "metadata": {},
   "source": [
    "if its string S.count, D.count for dictionary and L.count for list and arrow show what is returned.Integer is returned in an example above."
   ]
  },
  {
   "cell_type": "code",
   "execution_count": 21,
=======
   "cell_type": "code",
   "execution_count": 22,
>>>>>>> a7d4c06a751b13b693b43ae0b0f6fb66f33e74fa
   "metadata": {
    "collapsed": true
   },
   "outputs": [],
   "source": [
    "word_list = cleaned_text.split()"
   ]
  },
  {
   "cell_type": "code",
   "execution_count": 23,
   "metadata": {
    "collapsed": true
   },
   "outputs": [],
   "source": [
    "word_set = set(word_list)"
   ]
  },
  {
   "cell_type": "code",
<<<<<<< HEAD
   "execution_count": 24,
   "metadata": {
    "collapsed": false
   },
   "outputs": [
    {
     "data": {
      "text/plain": [
       "{'1790',\n",
       " '45°',\n",
       " 'a',\n",
       " 'academy',\n",
       " 'and',\n",
       " 'appointed',\n",
       " 'as',\n",
       " 'at',\n",
       " 'basis',\n",
       " 'be',\n",
       " 'best',\n",
       " 'borda',\n",
       " 'called',\n",
       " 'commencement',\n",
       " 'commission',\n",
       " 'condorcet',\n",
       " 'decide',\n",
       " 'distance',\n",
       " 'england',\n",
       " 'english',\n",
       " 'equal',\n",
       " 'equator',\n",
       " 'favorably',\n",
       " 'fixing',\n",
       " 'for',\n",
       " 'formation',\n",
       " 'france',\n",
       " 'french',\n",
       " 'from',\n",
       " 'government',\n",
       " 'in',\n",
       " 'lagrange',\n",
       " 'laplace',\n",
       " 'last',\n",
       " 'latitude',\n",
       " 'length',\n",
       " 'level',\n",
       " 'measured',\n",
       " 'measures.',\n",
       " 'meridian',\n",
       " 'millionth',\n",
       " 'monge',\n",
       " 'move',\n",
       " 'mètre',\n",
       " 'mètre.',\n",
       " 'natural',\n",
       " 'new',\n",
       " 'not',\n",
       " 'numbers',\n",
       " 'of',\n",
       " 'on',\n",
       " 'or',\n",
       " 'pendulum',\n",
       " 'pole',\n",
       " 'proposal',\n",
       " 'proposed',\n",
       " 'purpose',\n",
       " 'quadrant',\n",
       " 'quarter',\n",
       " 'received',\n",
       " 'request',\n",
       " 'resolved',\n",
       " 'resulted',\n",
       " 'revolutionary',\n",
       " 'royal',\n",
       " 'scientific',\n",
       " 'sea',\n",
       " 'seconds',\n",
       " 'settled',\n",
       " 'should',\n",
       " 'society',\n",
       " 'standard',\n",
       " 'system',\n",
       " 'taken',\n",
       " 'ten',\n",
       " 'that',\n",
       " 'the',\n",
       " 'they',\n",
       " 'this',\n",
       " 'to',\n",
       " 'used',\n",
       " 'was',\n",
       " 'when',\n",
       " 'whether',\n",
       " 'which'}"
      ]
     },
     "execution_count": 24,
     "metadata": {},
     "output_type": "execute_result"
    }
   ],
   "source": [
    "{word for word in word_list}"
   ]
  },
  {
   "cell_type": "code",
   "execution_count": 26,
=======
   "execution_count": 25,
>>>>>>> a7d4c06a751b13b693b43ae0b0f6fb66f33e74fa
   "metadata": {
    "collapsed": false
   },
   "outputs": [
    {
     "data": {
      "text/plain": [
       "{'1790': 1,\n",
       " '45°': 1,\n",
       " 'a': 6,\n",
       " 'academy': 2,\n",
       " 'and': 5,\n",
       " 'appointed': 1,\n",
       " 'as': 4,\n",
       " 'at': 3,\n",
       " 'basis': 2,\n",
       " 'be': 3,\n",
       " 'best': 1,\n",
       " 'borda': 1,\n",
       " 'called': 1,\n",
       " 'commencement': 1,\n",
       " 'commission': 2,\n",
       " 'condorcet': 1,\n",
       " 'decide': 1,\n",
       " 'distance': 1,\n",
       " 'england': 1,\n",
       " 'english': 1,\n",
       " 'equal': 1,\n",
       " 'equator': 2,\n",
       " 'favorably': 1,\n",
       " 'fixing': 1,\n",
       " 'for': 5,\n",
       " 'formation': 1,\n",
       " 'france': 1,\n",
       " 'french': 1,\n",
       " 'from': 2,\n",
       " 'government': 2,\n",
       " 'in': 3,\n",
       " 'lagrange': 1,\n",
       " 'laplace': 1,\n",
       " 'last': 1,\n",
       " 'latitude': 1,\n",
       " 'length': 2,\n",
       " 'level': 1,\n",
       " 'measured': 1,\n",
<<<<<<< HEAD
       " 'measures.': 2,\n",
=======
       " 'measures': 2,\n",
>>>>>>> a7d4c06a751b13b693b43ae0b0f6fb66f33e74fa
       " 'meridian': 2,\n",
       " 'millionth': 1,\n",
       " 'monge': 1,\n",
       " 'move': 1,\n",
<<<<<<< HEAD
       " 'mètre': 1,\n",
       " 'mètre.': 1,\n",
=======
       " 'mètre': 2,\n",
>>>>>>> a7d4c06a751b13b693b43ae0b0f6fb66f33e74fa
       " 'natural': 1,\n",
       " 'new': 3,\n",
       " 'not': 1,\n",
       " 'numbers': 1,\n",
       " 'of': 14,\n",
       " 'on': 1,\n",
       " 'or': 2,\n",
       " 'pendulum': 2,\n",
       " 'pole': 1,\n",
       " 'proposal': 1,\n",
       " 'proposed': 1,\n",
       " 'purpose': 2,\n",
       " 'quadrant': 1,\n",
       " 'quarter': 2,\n",
       " 'received': 1,\n",
       " 'request': 1,\n",
       " 'resolved': 1,\n",
       " 'resulted': 1,\n",
       " 'revolutionary': 1,\n",
       " 'royal': 1,\n",
       " 'scientific': 1,\n",
       " 'sea': 1,\n",
       " 'seconds': 2,\n",
       " 'settled': 1,\n",
       " 'should': 1,\n",
       " 'society': 1,\n",
       " 'standard': 2,\n",
       " 'system': 3,\n",
       " 'taken': 1,\n",
       " 'ten': 1,\n",
       " 'that': 1,\n",
       " 'the': 24,\n",
       " 'they': 1,\n",
       " 'this': 1,\n",
       " 'to': 3,\n",
       " 'used': 1,\n",
       " 'was': 2,\n",
       " 'when': 1,\n",
       " 'whether': 1,\n",
       " 'which': 1}"
      ]
     },
<<<<<<< HEAD
     "execution_count": 26,
=======
     "execution_count": 25,
>>>>>>> a7d4c06a751b13b693b43ae0b0f6fb66f33e74fa
     "metadata": {},
     "output_type": "execute_result"
    }
   ],
   "source": [
<<<<<<< HEAD
    "{word:word_list.count(word) for word in word_set}"
   ]
  },
  {
   "cell_type": "markdown",
   "metadata": {},
   "source": [
    "{} used in sets and dictionaries. '' separates. {} - empty dictionary. to use it as empty{} add set function"
=======
    "{word: word_list.count(word) for word in word_set}"
>>>>>>> a7d4c06a751b13b693b43ae0b0f6fb66f33e74fa
   ]
  },
  {
   "cell_type": "code",
   "execution_count": 29,
   "metadata": {
    "collapsed": false
   },
   "outputs": [
    {
     "data": {
      "text/plain": [
       "list"
      ]
     },
     "execution_count": 29,
     "metadata": {},
     "output_type": "execute_result"
    }
   ],
   "source": [
    "type([])"
   ]
  },
  {
   "cell_type": "code",
   "execution_count": 30,
   "metadata": {
    "collapsed": false
   },
   "outputs": [
    {
     "data": {
      "text/plain": [
       "dict"
      ]
     },
     "execution_count": 30,
     "metadata": {},
     "output_type": "execute_result"
    }
   ],
   "source": [
    "type({})"
   ]
  },
  {
   "cell_type": "code",
<<<<<<< HEAD
   "execution_count": 31,
   "metadata": {
    "collapsed": false
   },
   "outputs": [
    {
     "ename": "SyntaxError",
     "evalue": "invalid syntax (<ipython-input-31-21eccbe9b1de>, line 1)",
     "output_type": "error",
     "traceback": [
      "\u001b[0;36m  File \u001b[0;32m\"<ipython-input-31-21eccbe9b1de>\"\u001b[0;36m, line \u001b[0;32m1\u001b[0m\n\u001b[0;31m    type((,))\u001b[0m\n\u001b[0m          ^\u001b[0m\n\u001b[0;31mSyntaxError\u001b[0m\u001b[0;31m:\u001b[0m invalid syntax\n"
     ]
    }
   ],
   "source": [
    "type((,))"
   ]
  },
  {
   "cell_type": "markdown",
   "metadata": {},
   "source": [
    "- Why no empty tuple ? empty tuples has no meaning because tuple is immutable."
   ]
  },
  {
   "cell_type": "code",
=======
>>>>>>> a7d4c06a751b13b693b43ae0b0f6fb66f33e74fa
   "execution_count": 32,
   "metadata": {
    "collapsed": false
   },
   "outputs": [
    {
     "data": {
      "text/plain": [
       "set"
      ]
     },
     "execution_count": 32,
     "metadata": {},
     "output_type": "execute_result"
    }
   ],
   "source": [
    "type(set())"
   ]
  },
  {
   "cell_type": "code",
   "execution_count": 34,
   "metadata": {
    "collapsed": false
   },
   "outputs": [
    {
     "data": {
      "text/plain": [
<<<<<<< HEAD
       "{'1790',\n",
       " '45°',\n",
       " 'a',\n",
       " 'academy',\n",
       " 'and',\n",
       " 'appointed',\n",
       " 'as',\n",
       " 'at',\n",
       " 'basis',\n",
       " 'be',\n",
       " 'best',\n",
       " 'borda',\n",
       " 'called',\n",
       " 'commencement',\n",
       " 'commission',\n",
       " 'condorcet',\n",
       " 'decide',\n",
       " 'distance',\n",
       " 'england',\n",
       " 'english',\n",
       " 'equal',\n",
       " 'equator',\n",
       " 'favorably',\n",
       " 'fixing',\n",
       " 'for',\n",
       " 'formation',\n",
       " 'france',\n",
       " 'french',\n",
       " 'from',\n",
       " 'government',\n",
       " 'in',\n",
       " 'lagrange',\n",
       " 'laplace',\n",
       " 'last',\n",
       " 'latitude',\n",
       " 'length',\n",
       " 'level',\n",
       " 'measured',\n",
       " 'measures.',\n",
       " 'meridian',\n",
       " 'millionth',\n",
       " 'monge',\n",
       " 'move',\n",
       " 'mètre',\n",
       " 'mètre.',\n",
       " 'natural',\n",
       " 'new',\n",
       " 'not',\n",
       " 'numbers',\n",
       " 'of',\n",
       " 'on',\n",
       " 'or',\n",
       " 'pendulum',\n",
       " 'pole',\n",
       " 'proposal',\n",
       " 'proposed',\n",
       " 'purpose',\n",
       " 'quadrant',\n",
       " 'quarter',\n",
       " 'received',\n",
       " 'request',\n",
       " 'resolved',\n",
       " 'resulted',\n",
       " 'revolutionary',\n",
       " 'royal',\n",
       " 'scientific',\n",
       " 'sea',\n",
       " 'seconds',\n",
       " 'settled',\n",
       " 'should',\n",
       " 'society',\n",
       " 'standard',\n",
       " 'system',\n",
       " 'taken',\n",
       " 'ten',\n",
       " 'that',\n",
       " 'the',\n",
       " 'they',\n",
       " 'this',\n",
       " 'to',\n",
       " 'used',\n",
       " 'was',\n",
       " 'when',\n",
       " 'whether',\n",
       " 'which'}"
      ]
     },
     "execution_count": 34,
     "metadata": {},
     "output_type": "execute_result"
    }
   ],
   "source": [
    "# example of list comprehension\n",
    "{word for word in word_list}"
   ]
  },
  {
   "cell_type": "code",
   "execution_count": 38,
   "metadata": {
    "collapsed": false
   },
   "outputs": [
    {
     "data": {
      "text/plain": [
=======
>>>>>>> a7d4c06a751b13b693b43ae0b0f6fb66f33e74fa
       "['__add__',\n",
       " '__class__',\n",
       " '__contains__',\n",
       " '__delattr__',\n",
       " '__dir__',\n",
       " '__doc__',\n",
       " '__eq__',\n",
       " '__format__',\n",
       " '__ge__',\n",
       " '__getattribute__',\n",
       " '__getitem__',\n",
       " '__getnewargs__',\n",
       " '__gt__',\n",
       " '__hash__',\n",
       " '__init__',\n",
       " '__init_subclass__',\n",
       " '__iter__',\n",
       " '__le__',\n",
       " '__len__',\n",
       " '__lt__',\n",
       " '__mod__',\n",
       " '__mul__',\n",
       " '__ne__',\n",
       " '__new__',\n",
       " '__reduce__',\n",
       " '__reduce_ex__',\n",
       " '__repr__',\n",
       " '__rmod__',\n",
       " '__rmul__',\n",
       " '__setattr__',\n",
       " '__sizeof__',\n",
       " '__str__',\n",
       " '__subclasshook__',\n",
       " 'capitalize',\n",
       " 'casefold',\n",
       " 'center',\n",
       " 'count',\n",
       " 'encode',\n",
       " 'endswith',\n",
       " 'expandtabs',\n",
       " 'find',\n",
       " 'format',\n",
       " 'format_map',\n",
       " 'index',\n",
       " 'isalnum',\n",
       " 'isalpha',\n",
       " 'isdecimal',\n",
       " 'isdigit',\n",
       " 'isidentifier',\n",
       " 'islower',\n",
       " 'isnumeric',\n",
       " 'isprintable',\n",
       " 'isspace',\n",
       " 'istitle',\n",
       " 'isupper',\n",
       " 'join',\n",
       " 'ljust',\n",
       " 'lower',\n",
       " 'lstrip',\n",
       " 'maketrans',\n",
       " 'partition',\n",
       " 'replace',\n",
       " 'rfind',\n",
       " 'rindex',\n",
       " 'rjust',\n",
       " 'rpartition',\n",
       " 'rsplit',\n",
       " 'rstrip',\n",
       " 'split',\n",
       " 'splitlines',\n",
       " 'startswith',\n",
       " 'strip',\n",
       " 'swapcase',\n",
       " 'title',\n",
       " 'translate',\n",
       " 'upper',\n",
       " 'zfill']"
      ]
     },
<<<<<<< HEAD
     "execution_count": 38,
=======
     "execution_count": 34,
>>>>>>> a7d4c06a751b13b693b43ae0b0f6fb66f33e74fa
     "metadata": {},
     "output_type": "execute_result"
    }
   ],
   "source": [
    "dir('')"
   ]
  },
  {
   "cell_type": "code",
<<<<<<< HEAD
   "execution_count": 45,
=======
   "execution_count": 35,
>>>>>>> a7d4c06a751b13b693b43ae0b0f6fb66f33e74fa
   "metadata": {
    "collapsed": false
   },
   "outputs": [
    {
     "data": {
      "text/plain": [
<<<<<<< HEAD
       "{'a',\n",
       " 'academy',\n",
       " 'and',\n",
       " 'appointed',\n",
       " 'as',\n",
       " 'at',\n",
       " 'basis',\n",
       " 'be',\n",
       " 'best',\n",
       " 'borda',\n",
       " 'called',\n",
       " 'commencement',\n",
       " 'commission',\n",
       " 'condorcet',\n",
       " 'decide',\n",
       " 'distance',\n",
       " 'england',\n",
       " 'english',\n",
       " 'equal',\n",
       " 'equator',\n",
       " 'favorably',\n",
       " 'fixing',\n",
       " 'for',\n",
       " 'formation',\n",
       " 'france',\n",
       " 'french',\n",
       " 'from',\n",
       " 'government',\n",
       " 'in',\n",
       " 'lagrange',\n",
       " 'laplace',\n",
       " 'last',\n",
       " 'latitude',\n",
       " 'length',\n",
       " 'level',\n",
       " 'measured',\n",
       " 'meridian',\n",
       " 'millionth',\n",
       " 'monge',\n",
       " 'move',\n",
       " 'mètre',\n",
       " 'natural',\n",
       " 'new',\n",
       " 'not',\n",
       " 'numbers',\n",
       " 'of',\n",
       " 'on',\n",
       " 'or',\n",
       " 'pendulum',\n",
       " 'pole',\n",
       " 'proposal',\n",
       " 'proposed',\n",
       " 'purpose',\n",
       " 'quadrant',\n",
       " 'quarter',\n",
       " 'received',\n",
       " 'request',\n",
       " 'resolved',\n",
       " 'resulted',\n",
       " 'revolutionary',\n",
       " 'royal',\n",
       " 'scientific',\n",
       " 'sea',\n",
       " 'seconds',\n",
       " 'settled',\n",
       " 'should',\n",
       " 'society',\n",
       " 'standard',\n",
       " 'system',\n",
       " 'taken',\n",
       " 'ten',\n",
       " 'that',\n",
       " 'the',\n",
       " 'they',\n",
       " 'this',\n",
       " 'to',\n",
       " 'used',\n",
       " 'was',\n",
       " 'when',\n",
       " 'whether',\n",
       " 'which'}"
      ]
     },
     "execution_count": 45,
=======
       "False"
      ]
     },
     "execution_count": 35,
>>>>>>> a7d4c06a751b13b693b43ae0b0f6fb66f33e74fa
     "metadata": {},
     "output_type": "execute_result"
    }
   ],
   "source": [
<<<<<<< HEAD
    "{word for word in word_list if word.isalpha()}"
=======
    "'45°'.isdigit()"
>>>>>>> a7d4c06a751b13b693b43ae0b0f6fb66f33e74fa
   ]
  },
  {
   "cell_type": "code",
<<<<<<< HEAD
   "execution_count": 44,
=======
   "execution_count": 36,
>>>>>>> a7d4c06a751b13b693b43ae0b0f6fb66f33e74fa
   "metadata": {
    "collapsed": false
   },
   "outputs": [
    {
     "name": "stdout",
     "output_type": "stream",
     "text": [
<<<<<<< HEAD
      "Help on built-in function isalpha:\n",
      "\n",
      "isalpha(...) method of builtins.str instance\n",
      "    S.isalpha() -> bool\n",
      "    \n",
      "    Return True if all characters in S are alphabetic\n",
=======
      "Help on built-in function isdigit:\n",
      "\n",
      "isdigit(...) method of builtins.str instance\n",
      "    S.isdigit() -> bool\n",
      "    \n",
      "    Return True if all characters in S are digits\n",
>>>>>>> a7d4c06a751b13b693b43ae0b0f6fb66f33e74fa
      "    and there is at least one character in S, False otherwise.\n",
      "\n"
     ]
    }
   ],
   "source": [
<<<<<<< HEAD
    "help(''.isalpha)"
=======
    "help(''.isdigit)"
>>>>>>> a7d4c06a751b13b693b43ae0b0f6fb66f33e74fa
   ]
  },
  {
   "cell_type": "code",
<<<<<<< HEAD
   "execution_count": 39,
=======
   "execution_count": 38,
>>>>>>> a7d4c06a751b13b693b43ae0b0f6fb66f33e74fa
   "metadata": {
    "collapsed": false
   },
   "outputs": [
    {
     "name": "stdout",
     "output_type": "stream",
     "text": [
<<<<<<< HEAD
      "Help on built-in function isdigit:\n",
      "\n",
      "isdigit(...) method of builtins.str instance\n",
      "    S.isdigit() -> bool\n",
      "    \n",
      "    Return True if all characters in S are digits\n",
=======
      "Help on built-in function isalnum:\n",
      "\n",
      "isalnum(...) method of builtins.str instance\n",
      "    S.isalnum() -> bool\n",
      "    \n",
      "    Return True if all characters in S are alphanumeric\n",
>>>>>>> a7d4c06a751b13b693b43ae0b0f6fb66f33e74fa
      "    and there is at least one character in S, False otherwise.\n",
      "\n"
     ]
    }
   ],
   "source": [
<<<<<<< HEAD
    "help(''.isdigit)"
=======
    "help(''.isalnum)"
>>>>>>> a7d4c06a751b13b693b43ae0b0f6fb66f33e74fa
   ]
  },
  {
   "cell_type": "code",
   "execution_count": 40,
   "metadata": {
    "collapsed": false
   },
   "outputs": [
    {
     "name": "stdout",
     "output_type": "stream",
     "text": [
<<<<<<< HEAD
      "Help on built-in function isalnum:\n",
      "\n",
      "isalnum(...) method of builtins.str instance\n",
      "    S.isalnum() -> bool\n",
      "    \n",
      "    Return True if all characters in S are alphanumeric\n",
      "    and there is at least one character in S, False otherwise.\n",
=======
      "Help on built-in function isnumeric:\n",
      "\n",
      "isnumeric(...) method of builtins.str instance\n",
      "    S.isnumeric() -> bool\n",
      "    \n",
      "    Return True if there are only numeric characters in S,\n",
      "    False otherwise.\n",
>>>>>>> a7d4c06a751b13b693b43ae0b0f6fb66f33e74fa
      "\n"
     ]
    }
   ],
   "source": [
<<<<<<< HEAD
    "help(''.isalnum)"
=======
    "help(''.isnumeric)"
>>>>>>> a7d4c06a751b13b693b43ae0b0f6fb66f33e74fa
   ]
  },
  {
   "cell_type": "code",
   "execution_count": 41,
   "metadata": {
    "collapsed": false
   },
   "outputs": [
    {
     "name": "stdout",
     "output_type": "stream",
     "text": [
<<<<<<< HEAD
      "Help on built-in function isnumeric:\n",
      "\n",
      "isnumeric(...) method of builtins.str instance\n",
      "    S.isnumeric() -> bool\n",
      "    \n",
      "    Return True if there are only numeric characters in S,\n",
=======
      "Help on built-in function isdecimal:\n",
      "\n",
      "isdecimal(...) method of builtins.str instance\n",
      "    S.isdecimal() -> bool\n",
      "    \n",
      "    Return True if there are only decimal characters in S,\n",
>>>>>>> a7d4c06a751b13b693b43ae0b0f6fb66f33e74fa
      "    False otherwise.\n",
      "\n"
     ]
    }
   ],
   "source": [
<<<<<<< HEAD
    "help(''.isnumeric)"
=======
    "help(''.isdecimal)"
>>>>>>> a7d4c06a751b13b693b43ae0b0f6fb66f33e74fa
   ]
  },
  {
   "cell_type": "code",
   "execution_count": 42,
   "metadata": {
    "collapsed": false
   },
   "outputs": [
    {
     "name": "stdout",
     "output_type": "stream",
     "text": [
<<<<<<< HEAD
      "Help on built-in function isdecimal:\n",
      "\n",
      "isdecimal(...) method of builtins.str instance\n",
      "    S.isdecimal() -> bool\n",
      "    \n",
      "    Return True if there are only decimal characters in S,\n",
      "    False otherwise.\n",
=======
      "Help on built-in function isalpha:\n",
      "\n",
      "isalpha(...) method of builtins.str instance\n",
      "    S.isalpha() -> bool\n",
      "    \n",
      "    Return True if all characters in S are alphabetic\n",
      "    and there is at least one character in S, False otherwise.\n",
>>>>>>> a7d4c06a751b13b693b43ae0b0f6fb66f33e74fa
      "\n"
     ]
    }
   ],
   "source": [
<<<<<<< HEAD
    "help(''.isdecimal)"
=======
    "help(''.isalpha)"
>>>>>>> a7d4c06a751b13b693b43ae0b0f6fb66f33e74fa
   ]
  },
  {
   "cell_type": "code",
<<<<<<< HEAD
   "execution_count": 46,
=======
   "execution_count": 43,
   "metadata": {
    "collapsed": false
   },
   "outputs": [
    {
     "data": {
      "text/plain": [
       "{'a',\n",
       " 'academy',\n",
       " 'and',\n",
       " 'appointed',\n",
       " 'as',\n",
       " 'at',\n",
       " 'basis',\n",
       " 'be',\n",
       " 'best',\n",
       " 'borda',\n",
       " 'called',\n",
       " 'commencement',\n",
       " 'commission',\n",
       " 'condorcet',\n",
       " 'decide',\n",
       " 'distance',\n",
       " 'england',\n",
       " 'english',\n",
       " 'equal',\n",
       " 'equator',\n",
       " 'favorably',\n",
       " 'fixing',\n",
       " 'for',\n",
       " 'formation',\n",
       " 'france',\n",
       " 'french',\n",
       " 'from',\n",
       " 'government',\n",
       " 'in',\n",
       " 'lagrange',\n",
       " 'laplace',\n",
       " 'last',\n",
       " 'latitude',\n",
       " 'length',\n",
       " 'level',\n",
       " 'measured',\n",
       " 'measures',\n",
       " 'meridian',\n",
       " 'millionth',\n",
       " 'monge',\n",
       " 'move',\n",
       " 'mètre',\n",
       " 'natural',\n",
       " 'new',\n",
       " 'not',\n",
       " 'numbers',\n",
       " 'of',\n",
       " 'on',\n",
       " 'or',\n",
       " 'pendulum',\n",
       " 'pole',\n",
       " 'proposal',\n",
       " 'proposed',\n",
       " 'purpose',\n",
       " 'quadrant',\n",
       " 'quarter',\n",
       " 'received',\n",
       " 'request',\n",
       " 'resolved',\n",
       " 'resulted',\n",
       " 'revolutionary',\n",
       " 'royal',\n",
       " 'scientific',\n",
       " 'sea',\n",
       " 'seconds',\n",
       " 'settled',\n",
       " 'should',\n",
       " 'society',\n",
       " 'standard',\n",
       " 'system',\n",
       " 'taken',\n",
       " 'ten',\n",
       " 'that',\n",
       " 'the',\n",
       " 'they',\n",
       " 'this',\n",
       " 'to',\n",
       " 'used',\n",
       " 'was',\n",
       " 'when',\n",
       " 'whether',\n",
       " 'which'}"
      ]
     },
     "execution_count": 43,
     "metadata": {},
     "output_type": "execute_result"
    }
   ],
   "source": [
    "{word for word in word_list if word.isalpha()}"
   ]
  },
  {
   "cell_type": "code",
   "execution_count": 44,
>>>>>>> a7d4c06a751b13b693b43ae0b0f6fb66f33e74fa
   "metadata": {
    "collapsed": false
   },
   "outputs": [
    {
     "data": {
      "text/plain": [
       "{'',\n",
       " 'a',\n",
       " 'academy',\n",
       " 'and',\n",
       " 'appointed',\n",
       " 'as',\n",
       " 'at',\n",
       " 'basis',\n",
       " 'be',\n",
       " 'best',\n",
       " 'borda',\n",
       " 'called',\n",
       " 'commencement',\n",
       " 'commission',\n",
       " 'condorcet',\n",
       " 'decide',\n",
       " 'distance',\n",
       " 'england',\n",
       " 'english',\n",
       " 'equal',\n",
       " 'equator',\n",
       " 'favorably',\n",
       " 'fixing',\n",
       " 'for',\n",
       " 'formation',\n",
       " 'france',\n",
       " 'french',\n",
       " 'from',\n",
       " 'government',\n",
       " 'in',\n",
       " 'lagrange',\n",
       " 'laplace',\n",
       " 'last',\n",
       " 'latitude',\n",
       " 'length',\n",
       " 'level',\n",
       " 'measured',\n",
<<<<<<< HEAD
=======
       " 'measures',\n",
>>>>>>> a7d4c06a751b13b693b43ae0b0f6fb66f33e74fa
       " 'meridian',\n",
       " 'millionth',\n",
       " 'monge',\n",
       " 'move',\n",
       " 'mètre',\n",
       " 'natural',\n",
       " 'new',\n",
       " 'not',\n",
       " 'numbers',\n",
       " 'of',\n",
       " 'on',\n",
       " 'or',\n",
       " 'pendulum',\n",
       " 'pole',\n",
       " 'proposal',\n",
       " 'proposed',\n",
       " 'purpose',\n",
       " 'quadrant',\n",
       " 'quarter',\n",
       " 'received',\n",
       " 'request',\n",
       " 'resolved',\n",
       " 'resulted',\n",
       " 'revolutionary',\n",
       " 'royal',\n",
       " 'scientific',\n",
       " 'sea',\n",
       " 'seconds',\n",
       " 'settled',\n",
       " 'should',\n",
       " 'society',\n",
       " 'standard',\n",
       " 'system',\n",
       " 'taken',\n",
       " 'ten',\n",
       " 'that',\n",
       " 'the',\n",
       " 'they',\n",
       " 'this',\n",
       " 'to',\n",
       " 'used',\n",
       " 'was',\n",
       " 'when',\n",
       " 'whether',\n",
       " 'which'}"
      ]
     },
<<<<<<< HEAD
     "execution_count": 46,
=======
     "execution_count": 44,
>>>>>>> a7d4c06a751b13b693b43ae0b0f6fb66f33e74fa
     "metadata": {},
     "output_type": "execute_result"
    }
   ],
   "source": [
<<<<<<< HEAD
    "{word if word.isalpha() else \"\" for word in word_list}"
=======
    "{word if word.isalpha() else '' for word in word_list}"
>>>>>>> a7d4c06a751b13b693b43ae0b0f6fb66f33e74fa
   ]
  },
  {
   "cell_type": "code",
<<<<<<< HEAD
   "execution_count": 47,
=======
   "execution_count": 45,
>>>>>>> a7d4c06a751b13b693b43ae0b0f6fb66f33e74fa
   "metadata": {
    "collapsed": false
   },
   "outputs": [
    {
     "data": {
      "text/plain": [
       "['__and__',\n",
       " '__class__',\n",
       " '__contains__',\n",
       " '__delattr__',\n",
       " '__dir__',\n",
       " '__doc__',\n",
       " '__eq__',\n",
       " '__format__',\n",
       " '__ge__',\n",
       " '__getattribute__',\n",
       " '__gt__',\n",
       " '__hash__',\n",
       " '__iand__',\n",
       " '__init__',\n",
       " '__init_subclass__',\n",
       " '__ior__',\n",
       " '__isub__',\n",
       " '__iter__',\n",
       " '__ixor__',\n",
       " '__le__',\n",
       " '__len__',\n",
       " '__lt__',\n",
       " '__ne__',\n",
       " '__new__',\n",
       " '__or__',\n",
       " '__rand__',\n",
       " '__reduce__',\n",
       " '__reduce_ex__',\n",
       " '__repr__',\n",
       " '__ror__',\n",
       " '__rsub__',\n",
       " '__rxor__',\n",
       " '__setattr__',\n",
       " '__sizeof__',\n",
       " '__str__',\n",
       " '__sub__',\n",
       " '__subclasshook__',\n",
       " '__xor__',\n",
       " 'add',\n",
       " 'clear',\n",
       " 'copy',\n",
       " 'difference',\n",
       " 'difference_update',\n",
       " 'discard',\n",
       " 'intersection',\n",
       " 'intersection_update',\n",
       " 'isdisjoint',\n",
       " 'issubset',\n",
       " 'issuperset',\n",
       " 'pop',\n",
       " 'remove',\n",
       " 'symmetric_difference',\n",
       " 'symmetric_difference_update',\n",
       " 'union',\n",
       " 'update']"
      ]
     },
<<<<<<< HEAD
     "execution_count": 47,
=======
     "execution_count": 45,
>>>>>>> a7d4c06a751b13b693b43ae0b0f6fb66f33e74fa
     "metadata": {},
     "output_type": "execute_result"
    }
   ],
   "source": [
    "dir(set())"
   ]
  },
  {
   "cell_type": "code",
<<<<<<< HEAD
   "execution_count": 48,
=======
   "execution_count": 46,
>>>>>>> a7d4c06a751b13b693b43ae0b0f6fb66f33e74fa
   "metadata": {
    "collapsed": false
   },
   "outputs": [
    {
     "data": {
      "text/plain": [
       "{5, 6, 7, 8, 9}"
      ]
     },
<<<<<<< HEAD
     "execution_count": 48,
=======
     "execution_count": 46,
>>>>>>> a7d4c06a751b13b693b43ae0b0f6fb66f33e74fa
     "metadata": {},
     "output_type": "execute_result"
    }
   ],
   "source": [
<<<<<<< HEAD
    "{5,6,7,8,9}"
=======
    "{5, 6, 7, 8, 9, 9}"
>>>>>>> a7d4c06a751b13b693b43ae0b0f6fb66f33e74fa
   ]
  },
  {
   "cell_type": "code",
<<<<<<< HEAD
   "execution_count": 49,
=======
   "execution_count": 47,
>>>>>>> a7d4c06a751b13b693b43ae0b0f6fb66f33e74fa
   "metadata": {
    "collapsed": true
   },
   "outputs": [],
   "source": [
<<<<<<< HEAD
    "abc = {4,5,6,7,7,8,9,9}"
=======
    "abc = {4, 5, 6, 6, 7, 7, 8, 9, 9}"
>>>>>>> a7d4c06a751b13b693b43ae0b0f6fb66f33e74fa
   ]
  },
  {
   "cell_type": "code",
<<<<<<< HEAD
   "execution_count": 50,
=======
   "execution_count": 48,
>>>>>>> a7d4c06a751b13b693b43ae0b0f6fb66f33e74fa
   "metadata": {
    "collapsed": false
   },
   "outputs": [
    {
     "data": {
      "text/plain": [
       "{4, 5, 6, 7, 8, 9}"
      ]
     },
<<<<<<< HEAD
     "execution_count": 50,
=======
     "execution_count": 48,
>>>>>>> a7d4c06a751b13b693b43ae0b0f6fb66f33e74fa
     "metadata": {},
     "output_type": "execute_result"
    }
   ],
   "source": [
    "abc"
   ]
  },
  {
   "cell_type": "code",
<<<<<<< HEAD
   "execution_count": 51,
=======
   "execution_count": 49,
>>>>>>> a7d4c06a751b13b693b43ae0b0f6fb66f33e74fa
   "metadata": {
    "collapsed": true
   },
   "outputs": [],
   "source": [
    "abc.add(4)"
   ]
  },
  {
   "cell_type": "code",
<<<<<<< HEAD
   "execution_count": 52,
=======
   "execution_count": 50,
>>>>>>> a7d4c06a751b13b693b43ae0b0f6fb66f33e74fa
   "metadata": {
    "collapsed": false
   },
   "outputs": [
    {
     "data": {
      "text/plain": [
       "{4, 5, 6, 7, 8, 9}"
      ]
     },
<<<<<<< HEAD
     "execution_count": 52,
=======
     "execution_count": 50,
>>>>>>> a7d4c06a751b13b693b43ae0b0f6fb66f33e74fa
     "metadata": {},
     "output_type": "execute_result"
    }
   ],
   "source": [
    "abc"
   ]
  },
  {
   "cell_type": "code",
<<<<<<< HEAD
   "execution_count": 53,
=======
   "execution_count": 51,
>>>>>>> a7d4c06a751b13b693b43ae0b0f6fb66f33e74fa
   "metadata": {
    "collapsed": true
   },
   "outputs": [],
   "source": [
<<<<<<< HEAD
    "pqr = {7,8,9}"
=======
    "pqr = {7, 8, 9}"
>>>>>>> a7d4c06a751b13b693b43ae0b0f6fb66f33e74fa
   ]
  },
  {
   "cell_type": "code",
<<<<<<< HEAD
   "execution_count": 54,
=======
   "execution_count": 52,
>>>>>>> a7d4c06a751b13b693b43ae0b0f6fb66f33e74fa
   "metadata": {
    "collapsed": false
   },
   "outputs": [
    {
     "data": {
      "text/plain": [
       "{7, 8, 9}"
      ]
     },
<<<<<<< HEAD
     "execution_count": 54,
=======
     "execution_count": 52,
>>>>>>> a7d4c06a751b13b693b43ae0b0f6fb66f33e74fa
     "metadata": {},
     "output_type": "execute_result"
    }
   ],
   "source": [
    "pqr"
   ]
  },
  {
   "cell_type": "code",
<<<<<<< HEAD
   "execution_count": 55,
=======
   "execution_count": 53,
>>>>>>> a7d4c06a751b13b693b43ae0b0f6fb66f33e74fa
   "metadata": {
    "collapsed": true
   },
   "outputs": [],
   "source": [
    "abc.update(pqr)"
   ]
  },
  {
   "cell_type": "code",
<<<<<<< HEAD
   "execution_count": 56,
=======
   "execution_count": 55,
   "metadata": {
    "collapsed": false
   },
   "outputs": [],
   "source": [
    "abc.update({9, 1, 3})"
   ]
  },
  {
   "cell_type": "code",
   "execution_count": 57,
>>>>>>> a7d4c06a751b13b693b43ae0b0f6fb66f33e74fa
   "metadata": {
    "collapsed": false
   },
   "outputs": [
    {
     "data": {
      "text/plain": [
<<<<<<< HEAD
       "{4, 5, 6, 7, 8, 9}"
      ]
     },
     "execution_count": 56,
=======
       "{1, 3, 4, 5, 6, 7, 8, 9}"
      ]
     },
     "execution_count": 57,
>>>>>>> a7d4c06a751b13b693b43ae0b0f6fb66f33e74fa
     "metadata": {},
     "output_type": "execute_result"
    }
   ],
   "source": [
    "abc"
   ]
  },
  {
   "cell_type": "code",
<<<<<<< HEAD
   "execution_count": 57,
   "metadata": {
    "collapsed": true
   },
   "outputs": [],
   "source": [
    "abc.update({9,1,3})"
   ]
  },
  {
   "cell_type": "code",
=======
>>>>>>> a7d4c06a751b13b693b43ae0b0f6fb66f33e74fa
   "execution_count": 58,
   "metadata": {
    "collapsed": false
   },
   "outputs": [
    {
     "data": {
      "text/plain": [
<<<<<<< HEAD
       "{1, 3, 4, 5, 6, 7, 8, 9}"
=======
       "False"
>>>>>>> a7d4c06a751b13b693b43ae0b0f6fb66f33e74fa
      ]
     },
     "execution_count": 58,
     "metadata": {},
     "output_type": "execute_result"
    }
   ],
   "source": [
<<<<<<< HEAD
    "abc"
=======
    "abc.issubset(pqr)"
>>>>>>> a7d4c06a751b13b693b43ae0b0f6fb66f33e74fa
   ]
  },
  {
   "cell_type": "code",
   "execution_count": 59,
   "metadata": {
    "collapsed": false
   },
   "outputs": [
    {
     "data": {
      "text/plain": [
<<<<<<< HEAD
       "False"
=======
       "True"
>>>>>>> a7d4c06a751b13b693b43ae0b0f6fb66f33e74fa
      ]
     },
     "execution_count": 59,
     "metadata": {},
     "output_type": "execute_result"
    }
   ],
   "source": [
<<<<<<< HEAD
    "abc.issubset(pqr)"
=======
    "pqr.issubset(abc)"
>>>>>>> a7d4c06a751b13b693b43ae0b0f6fb66f33e74fa
   ]
  },
  {
   "cell_type": "code",
   "execution_count": 60,
   "metadata": {
    "collapsed": false
   },
   "outputs": [
    {
     "data": {
      "text/plain": [
<<<<<<< HEAD
       "True"
=======
       "{1, 3, 4, 5, 6, 7, 8, 9}"
>>>>>>> a7d4c06a751b13b693b43ae0b0f6fb66f33e74fa
      ]
     },
     "execution_count": 60,
     "metadata": {},
     "output_type": "execute_result"
    }
   ],
   "source": [
<<<<<<< HEAD
    "pqr.issubset(abc)"
=======
    "abc"
>>>>>>> a7d4c06a751b13b693b43ae0b0f6fb66f33e74fa
   ]
  },
  {
   "cell_type": "code",
   "execution_count": 61,
   "metadata": {
    "collapsed": false
   },
   "outputs": [
    {
     "data": {
      "text/plain": [
       "1"
      ]
     },
     "execution_count": 61,
     "metadata": {},
     "output_type": "execute_result"
    }
   ],
   "source": [
    "abc.pop()"
   ]
  },
  {
   "cell_type": "code",
   "execution_count": 62,
   "metadata": {
    "collapsed": false
   },
   "outputs": [
    {
     "data": {
      "text/plain": [
       "{3, 4, 5, 6, 7, 8, 9}"
      ]
     },
     "execution_count": 62,
     "metadata": {},
     "output_type": "execute_result"
    }
   ],
   "source": [
    "abc"
   ]
  },
  {
   "cell_type": "code",
   "execution_count": 63,
   "metadata": {
    "collapsed": true
   },
   "outputs": [],
   "source": [
    "abc.remove(3)"
   ]
  },
  {
   "cell_type": "code",
   "execution_count": 64,
   "metadata": {
    "collapsed": false
   },
   "outputs": [
    {
     "data": {
      "text/plain": [
       "{4, 5, 6, 7, 8, 9}"
      ]
     },
     "execution_count": 64,
     "metadata": {},
     "output_type": "execute_result"
    }
   ],
   "source": [
    "abc"
   ]
  },
  {
   "cell_type": "code",
<<<<<<< HEAD
   "execution_count": 65,
=======
   "execution_count": 66,
>>>>>>> a7d4c06a751b13b693b43ae0b0f6fb66f33e74fa
   "metadata": {
    "collapsed": false
   },
   "outputs": [
    {
     "name": "stdout",
     "output_type": "stream",
     "text": [
      "Help on built-in function pop:\n",
      "\n",
      "pop(...) method of builtins.set instance\n",
      "    Remove and return an arbitrary set element.\n",
      "    Raises KeyError if the set is empty.\n",
      "\n"
     ]
    }
   ],
   "source": [
    "help(abc.pop)"
   ]
  },
  {
   "cell_type": "code",
<<<<<<< HEAD
   "execution_count": 66,
=======
   "execution_count": 67,
>>>>>>> a7d4c06a751b13b693b43ae0b0f6fb66f33e74fa
   "metadata": {
    "collapsed": true
   },
   "outputs": [],
   "source": [
<<<<<<< HEAD
    "lst =[7,8,9]"
=======
    "lst = [7, 8, 9]"
>>>>>>> a7d4c06a751b13b693b43ae0b0f6fb66f33e74fa
   ]
  },
  {
   "cell_type": "code",
<<<<<<< HEAD
   "execution_count": 67,
=======
   "execution_count": 68,
>>>>>>> a7d4c06a751b13b693b43ae0b0f6fb66f33e74fa
   "metadata": {
    "collapsed": true
   },
   "outputs": [],
   "source": [
    "lst.append(6)"
   ]
  },
  {
   "cell_type": "code",
<<<<<<< HEAD
   "execution_count": 68,
=======
   "execution_count": 69,
>>>>>>> a7d4c06a751b13b693b43ae0b0f6fb66f33e74fa
   "metadata": {
    "collapsed": false
   },
   "outputs": [
    {
     "data": {
      "text/plain": [
       "[7, 8, 9, 6]"
      ]
     },
<<<<<<< HEAD
     "execution_count": 68,
=======
     "execution_count": 69,
>>>>>>> a7d4c06a751b13b693b43ae0b0f6fb66f33e74fa
     "metadata": {},
     "output_type": "execute_result"
    }
   ],
   "source": [
    "lst"
   ]
  },
  {
   "cell_type": "code",
<<<<<<< HEAD
   "execution_count": 69,
=======
   "execution_count": 70,
>>>>>>> a7d4c06a751b13b693b43ae0b0f6fb66f33e74fa
   "metadata": {
    "collapsed": false
   },
   "outputs": [
    {
     "data": {
      "text/plain": [
       "['__add__',\n",
       " '__class__',\n",
       " '__contains__',\n",
       " '__delattr__',\n",
       " '__delitem__',\n",
       " '__dir__',\n",
       " '__doc__',\n",
       " '__eq__',\n",
       " '__format__',\n",
       " '__ge__',\n",
       " '__getattribute__',\n",
       " '__getitem__',\n",
       " '__gt__',\n",
       " '__hash__',\n",
       " '__iadd__',\n",
       " '__imul__',\n",
       " '__init__',\n",
       " '__init_subclass__',\n",
       " '__iter__',\n",
       " '__le__',\n",
       " '__len__',\n",
       " '__lt__',\n",
       " '__mul__',\n",
       " '__ne__',\n",
       " '__new__',\n",
       " '__reduce__',\n",
       " '__reduce_ex__',\n",
       " '__repr__',\n",
       " '__reversed__',\n",
       " '__rmul__',\n",
       " '__setattr__',\n",
       " '__setitem__',\n",
       " '__sizeof__',\n",
       " '__str__',\n",
       " '__subclasshook__',\n",
       " 'append',\n",
       " 'clear',\n",
       " 'copy',\n",
       " 'count',\n",
       " 'extend',\n",
       " 'index',\n",
       " 'insert',\n",
       " 'pop',\n",
       " 'remove',\n",
       " 'reverse',\n",
       " 'sort']"
      ]
     },
<<<<<<< HEAD
     "execution_count": 69,
=======
     "execution_count": 70,
>>>>>>> a7d4c06a751b13b693b43ae0b0f6fb66f33e74fa
     "metadata": {},
     "output_type": "execute_result"
    }
   ],
   "source": [
    "dir(lst)"
   ]
  },
  {
   "cell_type": "code",
<<<<<<< HEAD
   "execution_count": 70,
=======
   "execution_count": 71,
>>>>>>> a7d4c06a751b13b693b43ae0b0f6fb66f33e74fa
   "metadata": {
    "collapsed": false
   },
   "outputs": [
    {
     "name": "stdout",
     "output_type": "stream",
     "text": [
      "Help on built-in function insert:\n",
      "\n",
      "insert(...) method of builtins.list instance\n",
      "    L.insert(index, object) -- insert object before index\n",
      "\n"
     ]
    }
   ],
   "source": [
    "help(lst.insert)"
   ]
  },
  {
   "cell_type": "code",
<<<<<<< HEAD
   "execution_count": 71,
=======
   "execution_count": 72,
>>>>>>> a7d4c06a751b13b693b43ae0b0f6fb66f33e74fa
   "metadata": {
    "collapsed": false
   },
   "outputs": [
    {
     "data": {
      "text/plain": [
       "[7, 8, 9, 6]"
      ]
     },
<<<<<<< HEAD
     "execution_count": 71,
=======
     "execution_count": 72,
>>>>>>> a7d4c06a751b13b693b43ae0b0f6fb66f33e74fa
     "metadata": {},
     "output_type": "execute_result"
    }
   ],
   "source": [
    "lst"
   ]
  },
  {
   "cell_type": "code",
<<<<<<< HEAD
   "execution_count": 72,
=======
   "execution_count": 73,
>>>>>>> a7d4c06a751b13b693b43ae0b0f6fb66f33e74fa
   "metadata": {
    "collapsed": true
   },
   "outputs": [],
   "source": [
<<<<<<< HEAD
    "lst.insert(1,3)"
=======
    "lst.insert(1, 3)"
>>>>>>> a7d4c06a751b13b693b43ae0b0f6fb66f33e74fa
   ]
  },
  {
   "cell_type": "code",
<<<<<<< HEAD
   "execution_count": 73,
=======
   "execution_count": 74,
>>>>>>> a7d4c06a751b13b693b43ae0b0f6fb66f33e74fa
   "metadata": {
    "collapsed": false
   },
   "outputs": [
    {
     "data": {
      "text/plain": [
       "[7, 3, 8, 9, 6]"
      ]
     },
<<<<<<< HEAD
     "execution_count": 73,
=======
     "execution_count": 74,
>>>>>>> a7d4c06a751b13b693b43ae0b0f6fb66f33e74fa
     "metadata": {},
     "output_type": "execute_result"
    }
   ],
   "source": [
    "lst"
   ]
  },
  {
   "cell_type": "code",
<<<<<<< HEAD
   "execution_count": 74,
=======
   "execution_count": 75,
>>>>>>> a7d4c06a751b13b693b43ae0b0f6fb66f33e74fa
   "metadata": {
    "collapsed": false
   },
   "outputs": [
    {
     "data": {
      "text/plain": [
       "6"
      ]
     },
<<<<<<< HEAD
     "execution_count": 74,
=======
     "execution_count": 75,
>>>>>>> a7d4c06a751b13b693b43ae0b0f6fb66f33e74fa
     "metadata": {},
     "output_type": "execute_result"
    }
   ],
   "source": [
    "lst.pop()"
   ]
  },
  {
   "cell_type": "code",
<<<<<<< HEAD
   "execution_count": 75,
=======
   "execution_count": 76,
>>>>>>> a7d4c06a751b13b693b43ae0b0f6fb66f33e74fa
   "metadata": {
    "collapsed": false
   },
   "outputs": [
    {
     "data": {
      "text/plain": [
       "[7, 3, 8, 9]"
      ]
     },
<<<<<<< HEAD
     "execution_count": 75,
=======
     "execution_count": 76,
>>>>>>> a7d4c06a751b13b693b43ae0b0f6fb66f33e74fa
     "metadata": {},
     "output_type": "execute_result"
    }
   ],
   "source": [
    "lst"
   ]
  },
  {
   "cell_type": "code",
<<<<<<< HEAD
   "execution_count": 76,
=======
   "execution_count": 77,
>>>>>>> a7d4c06a751b13b693b43ae0b0f6fb66f33e74fa
   "metadata": {
    "collapsed": false
   },
   "outputs": [
    {
     "data": {
      "text/plain": [
       "9"
      ]
     },
<<<<<<< HEAD
     "execution_count": 76,
=======
     "execution_count": 77,
>>>>>>> a7d4c06a751b13b693b43ae0b0f6fb66f33e74fa
     "metadata": {},
     "output_type": "execute_result"
    }
   ],
   "source": [
    "lst.pop()"
   ]
  },
  {
   "cell_type": "code",
<<<<<<< HEAD
   "execution_count": 77,
=======
   "execution_count": 78,
>>>>>>> a7d4c06a751b13b693b43ae0b0f6fb66f33e74fa
   "metadata": {
    "collapsed": false
   },
   "outputs": [
    {
     "data": {
      "text/plain": [
       "7"
      ]
     },
<<<<<<< HEAD
     "execution_count": 77,
=======
     "execution_count": 78,
>>>>>>> a7d4c06a751b13b693b43ae0b0f6fb66f33e74fa
     "metadata": {},
     "output_type": "execute_result"
    }
   ],
   "source": [
    "lst.pop(0)"
   ]
  },
  {
   "cell_type": "code",
<<<<<<< HEAD
   "execution_count": 78,
=======
   "execution_count": 79,
   "metadata": {
    "collapsed": false
   },
   "outputs": [
    {
     "name": "stdout",
     "output_type": "stream",
     "text": [
      "Help on built-in function pop:\n",
      "\n",
      "pop(...) method of builtins.list instance\n",
      "    L.pop([index]) -> item -- remove and return item at index (default last).\n",
      "    Raises IndexError if list is empty or index is out of range.\n",
      "\n"
     ]
    }
   ],
   "source": [
    "help(lst.pop)"
   ]
  },
  {
   "cell_type": "code",
   "execution_count": null,
   "metadata": {
    "collapsed": true
   },
   "outputs": [],
   "source": []
  },
  {
   "cell_type": "code",
   "execution_count": 80,
>>>>>>> a7d4c06a751b13b693b43ae0b0f6fb66f33e74fa
   "metadata": {
    "collapsed": true
   },
   "outputs": [],
   "source": [
<<<<<<< HEAD
    "dct = {'a':1 , 'b':3}"
=======
    "dct = {'a': 1, 'b': 3}"
>>>>>>> a7d4c06a751b13b693b43ae0b0f6fb66f33e74fa
   ]
  },
  {
   "cell_type": "code",
<<<<<<< HEAD
   "execution_count": 80,
=======
   "execution_count": 81,
   "metadata": {
    "collapsed": false
   },
   "outputs": [
    {
     "data": {
      "text/plain": [
       "{'a': 1, 'b': 3}"
      ]
     },
     "execution_count": 81,
     "metadata": {},
     "output_type": "execute_result"
    }
   ],
   "source": [
    "dct"
   ]
  },
  {
   "cell_type": "code",
   "execution_count": 82,
>>>>>>> a7d4c06a751b13b693b43ae0b0f6fb66f33e74fa
   "metadata": {
    "collapsed": false
   },
   "outputs": [
    {
     "data": {
      "text/plain": [
       "1"
      ]
     },
<<<<<<< HEAD
     "execution_count": 80,
=======
     "execution_count": 82,
>>>>>>> a7d4c06a751b13b693b43ae0b0f6fb66f33e74fa
     "metadata": {},
     "output_type": "execute_result"
    }
   ],
   "source": [
    "dct['a']"
   ]
  },
  {
   "cell_type": "code",
<<<<<<< HEAD
   "execution_count": 81,
=======
   "execution_count": 83,
>>>>>>> a7d4c06a751b13b693b43ae0b0f6fb66f33e74fa
   "metadata": {
    "collapsed": true
   },
   "outputs": [],
   "source": [
<<<<<<< HEAD
    "dct['c']= 5"
=======
    "dct['c'] = 5"
>>>>>>> a7d4c06a751b13b693b43ae0b0f6fb66f33e74fa
   ]
  },
  {
   "cell_type": "code",
<<<<<<< HEAD
   "execution_count": 82,
=======
   "execution_count": 84,
>>>>>>> a7d4c06a751b13b693b43ae0b0f6fb66f33e74fa
   "metadata": {
    "collapsed": false
   },
   "outputs": [
    {
     "data": {
      "text/plain": [
       "{'a': 1, 'b': 3, 'c': 5}"
      ]
     },
<<<<<<< HEAD
     "execution_count": 82,
=======
     "execution_count": 84,
>>>>>>> a7d4c06a751b13b693b43ae0b0f6fb66f33e74fa
     "metadata": {},
     "output_type": "execute_result"
    }
   ],
   "source": [
    "dct"
   ]
  },
  {
   "cell_type": "code",
<<<<<<< HEAD
   "execution_count": 83,
=======
   "execution_count": 85,
>>>>>>> a7d4c06a751b13b693b43ae0b0f6fb66f33e74fa
   "metadata": {
    "collapsed": false
   },
   "outputs": [
    {
     "data": {
      "text/plain": [
       "['__class__',\n",
       " '__contains__',\n",
       " '__delattr__',\n",
       " '__delitem__',\n",
       " '__dir__',\n",
       " '__doc__',\n",
       " '__eq__',\n",
       " '__format__',\n",
       " '__ge__',\n",
       " '__getattribute__',\n",
       " '__getitem__',\n",
       " '__gt__',\n",
       " '__hash__',\n",
       " '__init__',\n",
       " '__init_subclass__',\n",
       " '__iter__',\n",
       " '__le__',\n",
       " '__len__',\n",
       " '__lt__',\n",
       " '__ne__',\n",
       " '__new__',\n",
       " '__reduce__',\n",
       " '__reduce_ex__',\n",
       " '__repr__',\n",
       " '__setattr__',\n",
       " '__setitem__',\n",
       " '__sizeof__',\n",
       " '__str__',\n",
       " '__subclasshook__',\n",
       " 'clear',\n",
       " 'copy',\n",
       " 'fromkeys',\n",
       " 'get',\n",
       " 'items',\n",
       " 'keys',\n",
       " 'pop',\n",
       " 'popitem',\n",
       " 'setdefault',\n",
       " 'update',\n",
       " 'values']"
      ]
     },
<<<<<<< HEAD
     "execution_count": 83,
=======
     "execution_count": 85,
>>>>>>> a7d4c06a751b13b693b43ae0b0f6fb66f33e74fa
     "metadata": {},
     "output_type": "execute_result"
    }
   ],
   "source": [
<<<<<<< HEAD
    "dir(dict)"
   ]
  },
  {
   "cell_type": "code",
   "execution_count": 84,
   "metadata": {
    "collapsed": true
   },
   "outputs": [],
   "source": [
    "dct.update({'c':7,'d':6})"
=======
    "dir(dct)"
>>>>>>> a7d4c06a751b13b693b43ae0b0f6fb66f33e74fa
   ]
  },
  {
   "cell_type": "code",
<<<<<<< HEAD
   "execution_count": 85,
=======
   "execution_count": 86,
>>>>>>> a7d4c06a751b13b693b43ae0b0f6fb66f33e74fa
   "metadata": {
    "collapsed": false
   },
   "outputs": [
    {
     "data": {
      "text/plain": [
<<<<<<< HEAD
       "{'a': 1, 'b': 3, 'c': 7, 'd': 6}"
      ]
     },
     "execution_count": 85,
=======
       "{'a': 1, 'b': 3, 'c': 5}"
      ]
     },
     "execution_count": 86,
>>>>>>> a7d4c06a751b13b693b43ae0b0f6fb66f33e74fa
     "metadata": {},
     "output_type": "execute_result"
    }
   ],
   "source": [
    "dct"
   ]
  },
  {
   "cell_type": "code",
<<<<<<< HEAD
   "execution_count": 86,
=======
   "execution_count": 87,
   "metadata": {
    "collapsed": true
   },
   "outputs": [],
   "source": [
    "dct.update({'c': 7, 'd': 6})"
   ]
  },
  {
   "cell_type": "code",
   "execution_count": 88,
>>>>>>> a7d4c06a751b13b693b43ae0b0f6fb66f33e74fa
   "metadata": {
    "collapsed": false
   },
   "outputs": [
    {
     "data": {
      "text/plain": [
<<<<<<< HEAD
       "dict_values([1, 3, 7, 6])"
      ]
     },
     "execution_count": 86,
=======
       "{'a': 1, 'b': 3, 'c': 7, 'd': 6}"
      ]
     },
     "execution_count": 88,
>>>>>>> a7d4c06a751b13b693b43ae0b0f6fb66f33e74fa
     "metadata": {},
     "output_type": "execute_result"
    }
   ],
   "source": [
<<<<<<< HEAD
    "dct.values()"
=======
    "dct"
>>>>>>> a7d4c06a751b13b693b43ae0b0f6fb66f33e74fa
   ]
  },
  {
   "cell_type": "code",
<<<<<<< HEAD
   "execution_count": 87,
=======
   "execution_count": 91,
>>>>>>> a7d4c06a751b13b693b43ae0b0f6fb66f33e74fa
   "metadata": {
    "collapsed": false
   },
   "outputs": [
    {
<<<<<<< HEAD
     "ename": "TypeError",
     "evalue": "'dict_values' object does not support indexing",
     "output_type": "error",
     "traceback": [
      "\u001b[0;31m---------------------------------------------------------------------------\u001b[0m",
      "\u001b[0;31mTypeError\u001b[0m                                 Traceback (most recent call last)",
      "\u001b[0;32m<ipython-input-87-48a1cd47c12d>\u001b[0m in \u001b[0;36m<module>\u001b[0;34m()\u001b[0m\n\u001b[0;32m----> 1\u001b[0;31m \u001b[0mdct\u001b[0m\u001b[0;34m.\u001b[0m\u001b[0mvalues\u001b[0m\u001b[0;34m(\u001b[0m\u001b[0;34m)\u001b[0m\u001b[0;34m[\u001b[0m\u001b[0;36m0\u001b[0m\u001b[0;34m]\u001b[0m\u001b[0;34m\u001b[0m\u001b[0m\n\u001b[0m",
      "\u001b[0;31mTypeError\u001b[0m: 'dict_values' object does not support indexing"
     ]
    }
   ],
   "source": [
    "dct.values()[0]"
=======
     "data": {
      "text/plain": [
       "dict_values([1, 3, 7, 6])"
      ]
     },
     "execution_count": 91,
     "metadata": {},
     "output_type": "execute_result"
    }
   ],
   "source": [
    "dct.values()"
>>>>>>> a7d4c06a751b13b693b43ae0b0f6fb66f33e74fa
   ]
  },
  {
   "cell_type": "code",
<<<<<<< HEAD
   "execution_count": 88,
=======
   "execution_count": 92,
>>>>>>> a7d4c06a751b13b693b43ae0b0f6fb66f33e74fa
   "metadata": {
    "collapsed": false
   },
   "outputs": [
    {
     "data": {
      "text/plain": [
       "[1, 3, 7, 6]"
      ]
     },
<<<<<<< HEAD
     "execution_count": 88,
=======
     "execution_count": 92,
>>>>>>> a7d4c06a751b13b693b43ae0b0f6fb66f33e74fa
     "metadata": {},
     "output_type": "execute_result"
    }
   ],
   "source": [
    "list(dct.values())"
   ]
  },
  {
   "cell_type": "code",
<<<<<<< HEAD
   "execution_count": 90,
=======
   "execution_count": 93,
>>>>>>> a7d4c06a751b13b693b43ae0b0f6fb66f33e74fa
   "metadata": {
    "collapsed": false
   },
   "outputs": [
    {
     "data": {
      "text/plain": [
       "[2, 6, 14, 12]"
      ]
     },
<<<<<<< HEAD
     "execution_count": 90,
=======
     "execution_count": 93,
>>>>>>> a7d4c06a751b13b693b43ae0b0f6fb66f33e74fa
     "metadata": {},
     "output_type": "execute_result"
    }
   ],
   "source": [
<<<<<<< HEAD
    "[x*2 for x in dct.values()]"
=======
    "[x * 2 for x in dct.values()]"
>>>>>>> a7d4c06a751b13b693b43ae0b0f6fb66f33e74fa
   ]
  },
  {
   "cell_type": "code",
<<<<<<< HEAD
   "execution_count": 91,
=======
   "execution_count": null,
   "metadata": {
    "collapsed": true
   },
   "outputs": [],
   "source": []
  },
  {
   "cell_type": "code",
   "execution_count": 94,
>>>>>>> a7d4c06a751b13b693b43ae0b0f6fb66f33e74fa
   "metadata": {
    "collapsed": false
   },
   "outputs": [
    {
     "data": {
      "text/plain": [
       "dict_keys(['a', 'b', 'c', 'd'])"
      ]
     },
<<<<<<< HEAD
     "execution_count": 91,
=======
     "execution_count": 94,
>>>>>>> a7d4c06a751b13b693b43ae0b0f6fb66f33e74fa
     "metadata": {},
     "output_type": "execute_result"
    }
   ],
   "source": [
    "dct.keys()"
   ]
  },
  {
   "cell_type": "code",
<<<<<<< HEAD
   "execution_count": 92,
=======
   "execution_count": null,
   "metadata": {
    "collapsed": true
   },
   "outputs": [],
   "source": []
  },
  {
   "cell_type": "code",
   "execution_count": 95,
>>>>>>> a7d4c06a751b13b693b43ae0b0f6fb66f33e74fa
   "metadata": {
    "collapsed": false
   },
   "outputs": [
    {
     "data": {
      "text/plain": [
       "dict_items([('a', 1), ('b', 3), ('c', 7), ('d', 6)])"
      ]
     },
<<<<<<< HEAD
     "execution_count": 92,
=======
     "execution_count": 95,
>>>>>>> a7d4c06a751b13b693b43ae0b0f6fb66f33e74fa
     "metadata": {},
     "output_type": "execute_result"
    }
   ],
   "source": [
    "dct.items()"
   ]
  },
  {
   "cell_type": "code",
<<<<<<< HEAD
   "execution_count": 95,
=======
   "execution_count": 96,
>>>>>>> a7d4c06a751b13b693b43ae0b0f6fb66f33e74fa
   "metadata": {
    "collapsed": false
   },
   "outputs": [
    {
     "name": "stdout",
     "output_type": "stream",
     "text": [
<<<<<<< HEAD
      "Key a value1\n",
      "Key b value3\n",
      "Key c value7\n",
      "Key d value6\n"
=======
      "Key a Value 1\n",
      "Key b Value 3\n",
      "Key c Value 7\n",
      "Key d Value 6\n"
>>>>>>> a7d4c06a751b13b693b43ae0b0f6fb66f33e74fa
     ]
    }
   ],
   "source": [
    "for item in dct:\n",
<<<<<<< HEAD
    "    print(\"Key {} value{}\".format(item,dct[item]))"
=======
    "    print(\"Key {} Value {}\".format(item, dct[item]))"
>>>>>>> a7d4c06a751b13b693b43ae0b0f6fb66f33e74fa
   ]
  },
  {
   "cell_type": "code",
<<<<<<< HEAD
   "execution_count": 96,
=======
   "execution_count": 97,
>>>>>>> a7d4c06a751b13b693b43ae0b0f6fb66f33e74fa
   "metadata": {
    "collapsed": false
   },
   "outputs": [
    {
     "name": "stdout",
     "output_type": "stream",
     "text": [
      "Key a Value 1\n",
      "Key b Value 3\n",
      "Key c Value 7\n",
      "Key d Value 6\n"
     ]
    }
   ],
   "source": [
    "for key, value in dct.items():\n",
    "    print(\"Key {} Value {}\".format(key, value))"
   ]
  },
  {
   "cell_type": "code",
<<<<<<< HEAD
   "execution_count": 97,
=======
   "execution_count": 98,
>>>>>>> a7d4c06a751b13b693b43ae0b0f6fb66f33e74fa
   "metadata": {
    "collapsed": false
   },
   "outputs": [
    {
     "name": "stdout",
     "output_type": "stream",
     "text": [
      "('a', 1)\n",
      "('b', 3)\n",
      "('c', 7)\n",
      "('d', 6)\n"
     ]
    }
   ],
   "source": [
    "for item in dct.items():\n",
    "    print(item)"
   ]
  },
  {
   "cell_type": "code",
<<<<<<< HEAD
   "execution_count": 98,
=======
   "execution_count": 99,
>>>>>>> a7d4c06a751b13b693b43ae0b0f6fb66f33e74fa
   "metadata": {
    "collapsed": true
   },
   "outputs": [],
   "source": [
<<<<<<< HEAD
    "name=\"harry\"\n",
=======
    "name = 'Harry'\n",
>>>>>>> a7d4c06a751b13b693b43ae0b0f6fb66f33e74fa
    "age = 16"
   ]
  },
  {
   "cell_type": "code",
<<<<<<< HEAD
   "execution_count": 99,
=======
   "execution_count": 100,
>>>>>>> a7d4c06a751b13b693b43ae0b0f6fb66f33e74fa
   "metadata": {
    "collapsed": false
   },
   "outputs": [
    {
     "data": {
      "text/plain": [
<<<<<<< HEAD
       "'harry'"
      ]
     },
     "execution_count": 99,
=======
       "'Harry'"
      ]
     },
     "execution_count": 100,
>>>>>>> a7d4c06a751b13b693b43ae0b0f6fb66f33e74fa
     "metadata": {},
     "output_type": "execute_result"
    }
   ],
   "source": [
    "name"
   ]
  },
  {
   "cell_type": "code",
<<<<<<< HEAD
   "execution_count": 100,
=======
   "execution_count": 101,
>>>>>>> a7d4c06a751b13b693b43ae0b0f6fb66f33e74fa
   "metadata": {
    "collapsed": false
   },
   "outputs": [
    {
     "data": {
      "text/plain": [
       "16"
      ]
     },
<<<<<<< HEAD
     "execution_count": 100,
=======
     "execution_count": 101,
>>>>>>> a7d4c06a751b13b693b43ae0b0f6fb66f33e74fa
     "metadata": {},
     "output_type": "execute_result"
    }
   ],
   "source": [
    "age"
   ]
  },
  {
   "cell_type": "code",
<<<<<<< HEAD
   "execution_count": 101,
=======
   "execution_count": 103,
>>>>>>> a7d4c06a751b13b693b43ae0b0f6fb66f33e74fa
   "metadata": {
    "collapsed": true
   },
   "outputs": [],
   "source": [
<<<<<<< HEAD
    "name, age= 'Ron',16"
=======
    "name, age = 'Ron', 16"
>>>>>>> a7d4c06a751b13b693b43ae0b0f6fb66f33e74fa
   ]
  },
  {
   "cell_type": "code",
<<<<<<< HEAD
   "execution_count": 102,
=======
   "execution_count": 104,
>>>>>>> a7d4c06a751b13b693b43ae0b0f6fb66f33e74fa
   "metadata": {
    "collapsed": false
   },
   "outputs": [
    {
     "data": {
      "text/plain": [
       "'Ron'"
      ]
     },
<<<<<<< HEAD
     "execution_count": 102,
=======
     "execution_count": 104,
>>>>>>> a7d4c06a751b13b693b43ae0b0f6fb66f33e74fa
     "metadata": {},
     "output_type": "execute_result"
    }
   ],
   "source": [
    "name"
   ]
  },
  {
   "cell_type": "code",
<<<<<<< HEAD
   "execution_count": 103,
=======
   "execution_count": 105,
>>>>>>> a7d4c06a751b13b693b43ae0b0f6fb66f33e74fa
   "metadata": {
    "collapsed": false
   },
   "outputs": [
    {
     "data": {
      "text/plain": [
       "16"
      ]
     },
<<<<<<< HEAD
     "execution_count": 103,
=======
     "execution_count": 105,
>>>>>>> a7d4c06a751b13b693b43ae0b0f6fb66f33e74fa
     "metadata": {},
     "output_type": "execute_result"
    }
   ],
   "source": [
    "age"
   ]
  },
  {
   "cell_type": "code",
<<<<<<< HEAD
   "execution_count": 104,
=======
   "execution_count": 106,
>>>>>>> a7d4c06a751b13b693b43ae0b0f6fb66f33e74fa
   "metadata": {
    "collapsed": true
   },
   "outputs": [],
   "source": [
<<<<<<< HEAD
    "Name, age = (\"gadalf\", 2500)"
=======
    "name, age = ('Gadalf', 2500)"
>>>>>>> a7d4c06a751b13b693b43ae0b0f6fb66f33e74fa
   ]
  },
  {
   "cell_type": "code",
<<<<<<< HEAD
   "execution_count": 105,
=======
   "execution_count": 107,
>>>>>>> a7d4c06a751b13b693b43ae0b0f6fb66f33e74fa
   "metadata": {
    "collapsed": false
   },
   "outputs": [
    {
     "data": {
      "text/plain": [
<<<<<<< HEAD
       "'Ron'"
      ]
     },
     "execution_count": 105,
=======
       "'Gadalf'"
      ]
     },
     "execution_count": 107,
>>>>>>> a7d4c06a751b13b693b43ae0b0f6fb66f33e74fa
     "metadata": {},
     "output_type": "execute_result"
    }
   ],
   "source": [
    "name"
   ]
  },
  {
   "cell_type": "code",
<<<<<<< HEAD
   "execution_count": 106,
   "metadata": {
    "collapsed": false
   },
   "outputs": [
    {
     "data": {
      "text/plain": [
       "'gadalf'"
      ]
     },
     "execution_count": 106,
     "metadata": {},
     "output_type": "execute_result"
    }
   ],
   "source": [
    "Name"
   ]
  },
  {
   "cell_type": "code",
   "execution_count": 107,
=======
   "execution_count": 108,
>>>>>>> a7d4c06a751b13b693b43ae0b0f6fb66f33e74fa
   "metadata": {
    "collapsed": false
   },
   "outputs": [
    {
     "data": {
      "text/plain": [
       "2500"
      ]
     },
<<<<<<< HEAD
     "execution_count": 107,
=======
     "execution_count": 108,
>>>>>>> a7d4c06a751b13b693b43ae0b0f6fb66f33e74fa
     "metadata": {},
     "output_type": "execute_result"
    }
   ],
   "source": [
    "age"
   ]
  },
  {
   "cell_type": "code",
<<<<<<< HEAD
   "execution_count": 108,
=======
   "execution_count": 109,
>>>>>>> a7d4c06a751b13b693b43ae0b0f6fb66f33e74fa
   "metadata": {
    "collapsed": true
   },
   "outputs": [],
   "source": [
<<<<<<< HEAD
    "(name, age) = (\"gimli\", 230)"
   ]
  },
  {
   "cell_type": "code",
   "execution_count": 109,
   "metadata": {
    "collapsed": false
   },
   "outputs": [
    {
     "data": {
      "text/plain": [
       "'gimli'"
      ]
     },
     "execution_count": 109,
     "metadata": {},
     "output_type": "execute_result"
    }
   ],
   "source": [
    "name"
=======
    "(name, age) = ('Gimli', 230)"
>>>>>>> a7d4c06a751b13b693b43ae0b0f6fb66f33e74fa
   ]
  },
  {
   "cell_type": "code",
   "execution_count": 110,
   "metadata": {
    "collapsed": false
   },
   "outputs": [
    {
     "data": {
      "text/plain": [
<<<<<<< HEAD
       "230"
=======
       "'Gimli'"
>>>>>>> a7d4c06a751b13b693b43ae0b0f6fb66f33e74fa
      ]
     },
     "execution_count": 110,
     "metadata": {},
     "output_type": "execute_result"
    }
   ],
   "source": [
<<<<<<< HEAD
    "age"
=======
    "name"
>>>>>>> a7d4c06a751b13b693b43ae0b0f6fb66f33e74fa
   ]
  },
  {
   "cell_type": "code",
   "execution_count": 111,
   "metadata": {
    "collapsed": false
   },
   "outputs": [
    {
     "ename": "ValueError",
     "evalue": "too many values to unpack (expected 2)",
     "output_type": "error",
     "traceback": [
      "\u001b[0;31m---------------------------------------------------------------------------\u001b[0m",
      "\u001b[0;31mValueError\u001b[0m                                Traceback (most recent call last)",
<<<<<<< HEAD
      "\u001b[0;32m<ipython-input-111-6afb50745096>\u001b[0m in \u001b[0;36m<module>\u001b[0;34m()\u001b[0m\n\u001b[0;32m----> 1\u001b[0;31m \u001b[0ma\u001b[0m\u001b[0;34m,\u001b[0m \u001b[0mb\u001b[0m \u001b[0;34m=\u001b[0m \u001b[0;36m0\u001b[0m\u001b[0;34m,\u001b[0m \u001b[0;36m1\u001b[0m \u001b[0;34m,\u001b[0m\u001b[0;36m2\u001b[0m\u001b[0;34m\u001b[0m\u001b[0m\n\u001b[0m",
=======
      "\u001b[0;32m<ipython-input-111-401f19f0c608>\u001b[0m in \u001b[0;36m<module>\u001b[0;34m()\u001b[0m\n\u001b[0;32m----> 1\u001b[0;31m \u001b[0ma\u001b[0m\u001b[0;34m,\u001b[0m \u001b[0mb\u001b[0m \u001b[0;34m=\u001b[0m \u001b[0;36m0\u001b[0m\u001b[0;34m,\u001b[0m \u001b[0;36m1\u001b[0m\u001b[0;34m,\u001b[0m \u001b[0;36m2\u001b[0m\u001b[0;34m\u001b[0m\u001b[0m\n\u001b[0m",
>>>>>>> a7d4c06a751b13b693b43ae0b0f6fb66f33e74fa
      "\u001b[0;31mValueError\u001b[0m: too many values to unpack (expected 2)"
     ]
    }
   ],
   "source": [
<<<<<<< HEAD
    "a, b = 0, 1 ,2"
   ]
  },
  {
   "cell_type": "markdown",
   "metadata": {},
   "source": [
    "unpacking from tuple.\n",
    "both sides should be equal in amount."
=======
    "a, b = 0, 1, 2"
>>>>>>> a7d4c06a751b13b693b43ae0b0f6fb66f33e74fa
   ]
  },
  {
   "cell_type": "code",
   "execution_count": 112,
   "metadata": {
    "collapsed": false
   },
   "outputs": [
    {
     "ename": "ValueError",
     "evalue": "not enough values to unpack (expected 3, got 2)",
     "output_type": "error",
     "traceback": [
      "\u001b[0;31m---------------------------------------------------------------------------\u001b[0m",
      "\u001b[0;31mValueError\u001b[0m                                Traceback (most recent call last)",
<<<<<<< HEAD
      "\u001b[0;32m<ipython-input-112-f3df9594e5a5>\u001b[0m in \u001b[0;36m<module>\u001b[0;34m()\u001b[0m\n\u001b[0;32m----> 1\u001b[0;31m \u001b[0ma\u001b[0m\u001b[0;34m,\u001b[0m \u001b[0mb\u001b[0m\u001b[0;34m,\u001b[0m \u001b[0mc\u001b[0m \u001b[0;34m=\u001b[0m \u001b[0;36m0\u001b[0m\u001b[0;34m,\u001b[0m\u001b[0;36m1\u001b[0m\u001b[0;34m\u001b[0m\u001b[0m\n\u001b[0m",
=======
      "\u001b[0;32m<ipython-input-112-7d060707a3ea>\u001b[0m in \u001b[0;36m<module>\u001b[0;34m()\u001b[0m\n\u001b[0;32m----> 1\u001b[0;31m \u001b[0ma\u001b[0m\u001b[0;34m,\u001b[0m \u001b[0mb\u001b[0m\u001b[0;34m,\u001b[0m \u001b[0mc\u001b[0m \u001b[0;34m=\u001b[0m \u001b[0;36m0\u001b[0m\u001b[0;34m,\u001b[0m \u001b[0;36m1\u001b[0m\u001b[0;34m\u001b[0m\u001b[0m\n\u001b[0m",
>>>>>>> a7d4c06a751b13b693b43ae0b0f6fb66f33e74fa
      "\u001b[0;31mValueError\u001b[0m: not enough values to unpack (expected 3, got 2)"
     ]
    }
   ],
   "source": [
<<<<<<< HEAD
    "a, b, c = 0,1"
=======
    "a, b, c = 0, 1"
>>>>>>> a7d4c06a751b13b693b43ae0b0f6fb66f33e74fa
   ]
  },
  {
   "cell_type": "code",
   "execution_count": 113,
   "metadata": {
    "collapsed": false
   },
   "outputs": [
    {
     "name": "stdout",
     "output_type": "stream",
     "text": [
<<<<<<< HEAD
=======
      "('a', 1)\n",
      "('b', 3)\n",
      "('c', 7)\n",
      "('d', 6)\n"
     ]
    }
   ],
   "source": [
    "for item in dct.items():\n",
    "    print(item)"
   ]
  },
  {
   "cell_type": "code",
   "execution_count": 114,
   "metadata": {
    "collapsed": false
   },
   "outputs": [
    {
     "name": "stdout",
     "output_type": "stream",
     "text": [
>>>>>>> a7d4c06a751b13b693b43ae0b0f6fb66f33e74fa
      "a --- 1\n",
      "b --- 3\n",
      "c --- 7\n",
      "d --- 6\n"
     ]
    }
   ],
   "source": [
    "for item in dct.items():\n",
    "    key, value = item\n",
    "    print(key, '---', value)"
   ]
  },
  {
   "cell_type": "code",
   "execution_count": 115,
   "metadata": {
    "collapsed": false
   },
   "outputs": [
    {
     "name": "stdout",
     "output_type": "stream",
     "text": [
      "a --- 1\n",
      "b --- 3\n",
      "c --- 7\n",
      "d --- 6\n"
     ]
    }
   ],
   "source": [
<<<<<<< HEAD
    "for key,value in dct.items():\n",
=======
    "for key, value in dct.items():\n",
>>>>>>> a7d4c06a751b13b693b43ae0b0f6fb66f33e74fa
    "    print(key, '---', value)"
   ]
  },
  {
   "cell_type": "code",
   "execution_count": null,
   "metadata": {
    "collapsed": true
   },
   "outputs": [],
   "source": []
  }
 ],
 "metadata": {
  "kernelspec": {
   "display_name": "Python 3",
   "language": "python",
   "name": "python3"
  },
  "language_info": {
   "codemirror_mode": {
    "name": "ipython",
    "version": 3
   },
   "file_extension": ".py",
   "mimetype": "text/x-python",
   "name": "python",
   "nbconvert_exporter": "python",
   "pygments_lexer": "ipython3",
   "version": "3.6.0"
  }
 },
 "nbformat": 4,
 "nbformat_minor": 2
}
