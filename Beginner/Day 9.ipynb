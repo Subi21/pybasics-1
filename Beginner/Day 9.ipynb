{
 "cells": [
  {
   "cell_type": "markdown",
   "metadata": {},
   "source": [
    "# Day 9\n",
<<<<<<< HEAD
    "___\n",
    "### Classes"
   ]
  },
  {
   "cell_type": "markdown",
   "metadata": {},
   "source": [
    "OOP- object oriented programming, understand he concept for implementation. In python even a function is an object."
=======
    "---\n",
    "\n",
    "## Classes\n",
    "\n",
    "[http://www.diveintopython3.net/iterators.html](http://www.diveintopython3.net/iterators.html)"
>>>>>>> a7d4c06a751b13b693b43ae0b0f6fb66f33e74fa
   ]
  },
  {
   "cell_type": "code",
   "execution_count": 1,
   "metadata": {
<<<<<<< HEAD
    "collapsed": false
=======
    "collapsed": true
>>>>>>> a7d4c06a751b13b693b43ae0b0f6fb66f33e74fa
   },
   "outputs": [],
   "source": [
    "class Temperature:\n",
    "    pass"
   ]
  },
  {
   "cell_type": "code",
   "execution_count": 2,
   "metadata": {
<<<<<<< HEAD
=======
    "collapsed": true
   },
   "outputs": [],
   "source": [
    "def to_celcius(temp):\n",
    "    return temp"
   ]
  },
  {
   "cell_type": "code",
   "execution_count": 3,
   "metadata": {
>>>>>>> a7d4c06a751b13b693b43ae0b0f6fb66f33e74fa
    "collapsed": false
   },
   "outputs": [
    {
<<<<<<< HEAD
     "ename": "SyntaxError",
     "evalue": "invalid syntax (<ipython-input-2-68f52a412b1f>, line 1)",
     "output_type": "error",
     "traceback": [
      "\u001b[0;36m  File \u001b[0;32m\"<ipython-input-2-68f52a412b1f>\"\u001b[0;36m, line \u001b[0;32m1\u001b[0m\n\u001b[0;31m    def to_celcius(Temperature)\u001b[0m\n\u001b[0m                               ^\u001b[0m\n\u001b[0;31mSyntaxError\u001b[0m\u001b[0;31m:\u001b[0m invalid syntax\n"
     ]
    }
   ],
   "source": [
    "def to_celcius(Temperature)"
=======
     "data": {
      "text/plain": [
       "['__annotations__',\n",
       " '__call__',\n",
       " '__class__',\n",
       " '__closure__',\n",
       " '__code__',\n",
       " '__defaults__',\n",
       " '__delattr__',\n",
       " '__dict__',\n",
       " '__dir__',\n",
       " '__doc__',\n",
       " '__eq__',\n",
       " '__format__',\n",
       " '__ge__',\n",
       " '__get__',\n",
       " '__getattribute__',\n",
       " '__globals__',\n",
       " '__gt__',\n",
       " '__hash__',\n",
       " '__init__',\n",
       " '__init_subclass__',\n",
       " '__kwdefaults__',\n",
       " '__le__',\n",
       " '__lt__',\n",
       " '__module__',\n",
       " '__name__',\n",
       " '__ne__',\n",
       " '__new__',\n",
       " '__qualname__',\n",
       " '__reduce__',\n",
       " '__reduce_ex__',\n",
       " '__repr__',\n",
       " '__setattr__',\n",
       " '__sizeof__',\n",
       " '__str__',\n",
       " '__subclasshook__']"
      ]
     },
     "execution_count": 3,
     "metadata": {},
     "output_type": "execute_result"
    }
   ],
   "source": [
    "dir(to_celcius)"
>>>>>>> a7d4c06a751b13b693b43ae0b0f6fb66f33e74fa
   ]
  },
  {
   "cell_type": "code",
<<<<<<< HEAD
   "execution_count": 3,
=======
   "execution_count": 4,
   "metadata": {
    "collapsed": false
   },
   "outputs": [
    {
     "data": {
      "text/plain": [
       "'to_celcius'"
      ]
     },
     "execution_count": 4,
     "metadata": {},
     "output_type": "execute_result"
    }
   ],
   "source": [
    "to_celcius.__name__"
   ]
  },
  {
   "cell_type": "code",
   "execution_count": 5,
   "metadata": {
    "collapsed": false
   },
   "outputs": [
    {
     "data": {
      "text/plain": [
       "<code object to_celcius at 0x7fe7005ca1e0, file \"<ipython-input-2-6ab3a0c613d1>\", line 1>"
      ]
     },
     "execution_count": 5,
     "metadata": {},
     "output_type": "execute_result"
    }
   ],
   "source": [
    "to_celcius.__code__"
   ]
  },
  {
   "cell_type": "code",
   "execution_count": 6,
>>>>>>> a7d4c06a751b13b693b43ae0b0f6fb66f33e74fa
   "metadata": {
    "collapsed": true
   },
   "outputs": [],
   "source": [
    "class Temperature:\n",
    "    pass"
   ]
  },
  {
   "cell_type": "code",
<<<<<<< HEAD
   "execution_count": 4,
=======
   "execution_count": 7,
>>>>>>> a7d4c06a751b13b693b43ae0b0f6fb66f33e74fa
   "metadata": {
    "collapsed": true
   },
   "outputs": [],
   "source": [
    "t = Temperature()"
   ]
  },
  {
   "cell_type": "code",
<<<<<<< HEAD
   "execution_count": 5,
=======
   "execution_count": 8,
>>>>>>> a7d4c06a751b13b693b43ae0b0f6fb66f33e74fa
   "metadata": {
    "collapsed": false
   },
   "outputs": [
    {
     "data": {
      "text/plain": [
<<<<<<< HEAD
       "<__main__.Temperature at 0x10fc210f0>"
      ]
     },
     "execution_count": 5,
=======
       "<__main__.Temperature at 0x7fe700571710>"
      ]
     },
     "execution_count": 8,
>>>>>>> a7d4c06a751b13b693b43ae0b0f6fb66f33e74fa
     "metadata": {},
     "output_type": "execute_result"
    }
   ],
   "source": [
    "t"
   ]
  },
  {
   "cell_type": "code",
<<<<<<< HEAD
   "execution_count": 6,
=======
   "execution_count": 9,
>>>>>>> a7d4c06a751b13b693b43ae0b0f6fb66f33e74fa
   "metadata": {
    "collapsed": false
   },
   "outputs": [
    {
     "data": {
      "text/plain": [
       "__main__.Temperature"
      ]
     },
<<<<<<< HEAD
     "execution_count": 6,
=======
     "execution_count": 9,
>>>>>>> a7d4c06a751b13b693b43ae0b0f6fb66f33e74fa
     "metadata": {},
     "output_type": "execute_result"
    }
   ],
   "source": [
    "Temperature"
   ]
  },
  {
   "cell_type": "code",
<<<<<<< HEAD
   "execution_count": 7,
=======
   "execution_count": 10,
>>>>>>> a7d4c06a751b13b693b43ae0b0f6fb66f33e74fa
   "metadata": {
    "collapsed": false
   },
   "outputs": [
    {
<<<<<<< HEAD
     "ename": "NameError",
     "evalue": "name 'to_celcius' is not defined",
     "output_type": "error",
     "traceback": [
      "\u001b[0;31m---------------------------------------------------------------------------\u001b[0m",
      "\u001b[0;31mNameError\u001b[0m                                 Traceback (most recent call last)",
      "\u001b[0;32m<ipython-input-7-6c69c4f3ffd9>\u001b[0m in \u001b[0;36m<module>\u001b[0;34m()\u001b[0m\n\u001b[0;32m----> 1\u001b[0;31m \u001b[0mto_celcius\u001b[0m\u001b[0;34m\u001b[0m\u001b[0m\n\u001b[0m",
      "\u001b[0;31mNameError\u001b[0m: name 'to_celcius' is not defined"
     ]
=======
     "data": {
      "text/plain": [
       "<function __main__.to_celcius>"
      ]
     },
     "execution_count": 10,
     "metadata": {},
     "output_type": "execute_result"
>>>>>>> a7d4c06a751b13b693b43ae0b0f6fb66f33e74fa
    }
   ],
   "source": [
    "to_celcius"
   ]
  },
  {
   "cell_type": "code",
<<<<<<< HEAD
   "execution_count": 9,
=======
   "execution_count": 11,
>>>>>>> a7d4c06a751b13b693b43ae0b0f6fb66f33e74fa
   "metadata": {
    "collapsed": false
   },
   "outputs": [
    {
     "data": {
      "text/plain": [
       "['__class__',\n",
       " '__delattr__',\n",
       " '__dict__',\n",
       " '__dir__',\n",
       " '__doc__',\n",
       " '__eq__',\n",
       " '__format__',\n",
       " '__ge__',\n",
       " '__getattribute__',\n",
       " '__gt__',\n",
       " '__hash__',\n",
       " '__init__',\n",
       " '__init_subclass__',\n",
       " '__le__',\n",
       " '__lt__',\n",
       " '__module__',\n",
       " '__ne__',\n",
       " '__new__',\n",
       " '__reduce__',\n",
       " '__reduce_ex__',\n",
       " '__repr__',\n",
       " '__setattr__',\n",
       " '__sizeof__',\n",
       " '__str__',\n",
       " '__subclasshook__',\n",
       " '__weakref__']"
      ]
     },
<<<<<<< HEAD
     "execution_count": 9,
=======
     "execution_count": 11,
>>>>>>> a7d4c06a751b13b693b43ae0b0f6fb66f33e74fa
     "metadata": {},
     "output_type": "execute_result"
    }
   ],
   "source": [
    "dir(t)"
   ]
  },
  {
<<<<<<< HEAD
   "cell_type": "markdown",
   "metadata": {},
   "source": [
    "`` __sth__ = magic method, \"\"\" document string\"\"\" if kept below the function.``"
   ]
  },
  {
   "cell_type": "code",
   "execution_count": 12,
   "metadata": {
    "collapsed": true
=======
   "cell_type": "code",
   "execution_count": 19,
   "metadata": {
    "collapsed": false
>>>>>>> a7d4c06a751b13b693b43ae0b0f6fb66f33e74fa
   },
   "outputs": [],
   "source": [
    "class Temperature:\n",
    "    \"\"\"\n",
    "    Temperature conversion class\n",
    "    \"\"\"\n",
<<<<<<< HEAD
    "    def __init__(self,initial):\n",
    "        \"\"\"\n",
    "        set initial temperature\n",
    "        \"\"\"\n",
    "        self.initial = initial\n",
    "        \"\"\" This is sth like comment\"\"\""
=======
    "    \n",
    "    def __init__(self, initial):\n",
    "        \"\"\"\n",
    "        set initial temperature\n",
    "        \n",
    "        this is docstring for method\n",
    "        \"\"\"\n",
    "        self.initial = initial\n",
    "        \n",
    "        \"\"\"This is something like comment\"\"\""
>>>>>>> a7d4c06a751b13b693b43ae0b0f6fb66f33e74fa
   ]
  },
  {
   "cell_type": "code",
<<<<<<< HEAD
   "execution_count": 13,
=======
   "execution_count": 18,
>>>>>>> a7d4c06a751b13b693b43ae0b0f6fb66f33e74fa
   "metadata": {
    "collapsed": false
   },
   "outputs": [
    {
     "name": "stdout",
     "output_type": "stream",
     "text": [
      "Help on class Temperature in module __main__:\n",
      "\n",
      "class Temperature(builtins.object)\n",
      " |  Temperature conversion class\n",
      " |  \n",
      " |  Methods defined here:\n",
      " |  \n",
      " |  __init__(self, initial)\n",
      " |      set initial temperature\n",
      " |  \n",
      " |  ----------------------------------------------------------------------\n",
      " |  Data descriptors defined here:\n",
      " |  \n",
      " |  __dict__\n",
      " |      dictionary for instance variables (if defined)\n",
      " |  \n",
      " |  __weakref__\n",
      " |      list of weak references to the object (if defined)\n",
      "\n"
     ]
    }
   ],
   "source": [
    "help(Temperature)"
   ]
  },
  {
   "cell_type": "code",
<<<<<<< HEAD
   "execution_count": 16,
=======
   "execution_count": 21,
>>>>>>> a7d4c06a751b13b693b43ae0b0f6fb66f33e74fa
   "metadata": {
    "collapsed": false
   },
   "outputs": [],
   "source": [
    "t1 = Temperature(13)"
   ]
  },
  {
   "cell_type": "markdown",
   "metadata": {},
   "source": [
    "```python\n",
    "\n",
    "class Temperature:\n",
    "\n",
<<<<<<< HEAD
    "  def __init__(self,initial):\n",
    "      self.initial = initial\n",
    "\n",
    "t1= Temperature(13)\n",
    "\n",
    "# not exactly the same but something like this happens when we create an instance like above \n",
    "t1 = Temperature.__new__() # __ new__ is a constructor which returns an instance\n",
    "Temperature,__init__(t1,13) # initializer is called with that instance\n",
=======
    "    def __init__(self, initial):\n",
    "        self.initial = initial\n",
    "\n",
    "\n",
    "t1 = Temperature(13)\n",
    "\n",
    "# something like this happens when we create a instance like above\n",
    "t1 = Temperature.__new__() # __new__ is constructor which returns a instance\n",
    "Temperature.__init__(t1, 13) # initialzer is called with that instance\n",
>>>>>>> a7d4c06a751b13b693b43ae0b0f6fb66f33e74fa
    "\n",
    "```"
   ]
  },
  {
   "cell_type": "code",
<<<<<<< HEAD
   "execution_count": 17,
=======
   "execution_count": 22,
>>>>>>> a7d4c06a751b13b693b43ae0b0f6fb66f33e74fa
   "metadata": {
    "collapsed": false
   },
   "outputs": [
    {
     "data": {
      "text/plain": [
       "13"
      ]
     },
<<<<<<< HEAD
     "execution_count": 17,
=======
     "execution_count": 22,
>>>>>>> a7d4c06a751b13b693b43ae0b0f6fb66f33e74fa
     "metadata": {},
     "output_type": "execute_result"
    }
   ],
   "source": [
    "t1.initial"
   ]
  },
  {
   "cell_type": "code",
<<<<<<< HEAD
   "execution_count": 18,
=======
   "execution_count": 23,
>>>>>>> a7d4c06a751b13b693b43ae0b0f6fb66f33e74fa
   "metadata": {
    "collapsed": true
   },
   "outputs": [],
   "source": [
    "t1.celcius = 32"
   ]
  },
  {
   "cell_type": "code",
<<<<<<< HEAD
   "execution_count": 19,
=======
   "execution_count": 24,
>>>>>>> a7d4c06a751b13b693b43ae0b0f6fb66f33e74fa
   "metadata": {
    "collapsed": false
   },
   "outputs": [
    {
     "data": {
      "text/plain": [
       "32"
      ]
     },
<<<<<<< HEAD
     "execution_count": 19,
=======
     "execution_count": 24,
>>>>>>> a7d4c06a751b13b693b43ae0b0f6fb66f33e74fa
     "metadata": {},
     "output_type": "execute_result"
    }
   ],
   "source": [
    "t1.celcius"
   ]
  },
  {
   "cell_type": "code",
<<<<<<< HEAD
   "execution_count": 20,
=======
   "execution_count": 25,
>>>>>>> a7d4c06a751b13b693b43ae0b0f6fb66f33e74fa
   "metadata": {
    "collapsed": false
   },
   "outputs": [
    {
     "ename": "NameError",
     "evalue": "name 'celcius' is not defined",
     "output_type": "error",
     "traceback": [
      "\u001b[0;31m---------------------------------------------------------------------------\u001b[0m",
      "\u001b[0;31mNameError\u001b[0m                                 Traceback (most recent call last)",
<<<<<<< HEAD
      "\u001b[0;32m<ipython-input-20-fdea2646cfc1>\u001b[0m in \u001b[0;36m<module>\u001b[0;34m()\u001b[0m\n\u001b[0;32m----> 1\u001b[0;31m \u001b[0mcelcius\u001b[0m\u001b[0;34m\u001b[0m\u001b[0m\n\u001b[0m",
=======
      "\u001b[0;32m<ipython-input-25-fdea2646cfc1>\u001b[0m in \u001b[0;36m<module>\u001b[0;34m()\u001b[0m\n\u001b[0;32m----> 1\u001b[0;31m \u001b[0mcelcius\u001b[0m\u001b[0;34m\u001b[0m\u001b[0m\n\u001b[0m",
>>>>>>> a7d4c06a751b13b693b43ae0b0f6fb66f33e74fa
      "\u001b[0;31mNameError\u001b[0m: name 'celcius' is not defined"
     ]
    }
   ],
   "source": [
    "celcius"
   ]
  },
  {
   "cell_type": "code",
<<<<<<< HEAD
   "execution_count": 21,
=======
   "execution_count": 26,
>>>>>>> a7d4c06a751b13b693b43ae0b0f6fb66f33e74fa
   "metadata": {
    "collapsed": true
   },
   "outputs": [],
   "source": [
    "class KelvinConverter:\n",
    "    def __init__(self, kelvin):\n",
    "        self.kelvin = kelvin\n",
    "    \n",
    "    def to_celcius(self):\n",
<<<<<<< HEAD
    "        return self.kelvin -273.15\n",
=======
    "        return self.kelvin - 273.15\n",
>>>>>>> a7d4c06a751b13b693b43ae0b0f6fb66f33e74fa
    "    \n",
    "    def to_kelvin(self, celcius):\n",
    "        return celcius + 273.15"
   ]
  },
  {
   "cell_type": "code",
<<<<<<< HEAD
   "execution_count": 22,
=======
   "execution_count": 27,
>>>>>>> a7d4c06a751b13b693b43ae0b0f6fb66f33e74fa
   "metadata": {
    "collapsed": true
   },
   "outputs": [],
   "source": [
    "k1 = KelvinConverter(312)"
   ]
  },
  {
   "cell_type": "code",
<<<<<<< HEAD
   "execution_count": 24,
=======
   "execution_count": 28,
>>>>>>> a7d4c06a751b13b693b43ae0b0f6fb66f33e74fa
   "metadata": {
    "collapsed": false
   },
   "outputs": [
    {
     "data": {
      "text/plain": [
<<<<<<< HEAD
       "<__main__.KelvinConverter at 0x11020e588>"
      ]
     },
     "execution_count": 24,
=======
       "<__main__.KelvinConverter at 0x7fe7004f45c0>"
      ]
     },
     "execution_count": 28,
>>>>>>> a7d4c06a751b13b693b43ae0b0f6fb66f33e74fa
     "metadata": {},
     "output_type": "execute_result"
    }
   ],
   "source": [
<<<<<<< HEAD
    "k1\n",
    "#instance"
=======
    "k1"
>>>>>>> a7d4c06a751b13b693b43ae0b0f6fb66f33e74fa
   ]
  },
  {
   "cell_type": "code",
<<<<<<< HEAD
   "execution_count": 25,
=======
   "execution_count": 29,
>>>>>>> a7d4c06a751b13b693b43ae0b0f6fb66f33e74fa
   "metadata": {
    "collapsed": true
   },
   "outputs": [],
   "source": [
    "k2 = KelvinConverter(122)"
   ]
  },
  {
   "cell_type": "code",
<<<<<<< HEAD
   "execution_count": 26,
=======
   "execution_count": 30,
>>>>>>> a7d4c06a751b13b693b43ae0b0f6fb66f33e74fa
   "metadata": {
    "collapsed": true
   },
   "outputs": [],
   "source": [
    "k3 = KelvinConverter(312)"
   ]
  },
  {
   "cell_type": "code",
<<<<<<< HEAD
   "execution_count": 27,
=======
   "execution_count": 31,
>>>>>>> a7d4c06a751b13b693b43ae0b0f6fb66f33e74fa
   "metadata": {
    "collapsed": false
   },
   "outputs": [
    {
     "data": {
      "text/plain": [
       "False"
      ]
     },
<<<<<<< HEAD
     "execution_count": 27,
=======
     "execution_count": 31,
>>>>>>> a7d4c06a751b13b693b43ae0b0f6fb66f33e74fa
     "metadata": {},
     "output_type": "execute_result"
    }
   ],
   "source": [
    "k1 == k3"
   ]
  },
  {
   "cell_type": "code",
<<<<<<< HEAD
   "execution_count": 28,
=======
   "execution_count": 32,
>>>>>>> a7d4c06a751b13b693b43ae0b0f6fb66f33e74fa
   "metadata": {
    "collapsed": false
   },
   "outputs": [
    {
     "data": {
      "text/plain": [
       "True"
      ]
     },
<<<<<<< HEAD
     "execution_count": 28,
=======
     "execution_count": 32,
>>>>>>> a7d4c06a751b13b693b43ae0b0f6fb66f33e74fa
     "metadata": {},
     "output_type": "execute_result"
    }
   ],
   "source": [
    "k1.kelvin == k3.kelvin"
   ]
  },
  {
   "cell_type": "code",
<<<<<<< HEAD
   "execution_count": 29,
=======
   "execution_count": 33,
>>>>>>> a7d4c06a751b13b693b43ae0b0f6fb66f33e74fa
   "metadata": {
    "collapsed": false
   },
   "outputs": [
    {
     "data": {
      "text/plain": [
<<<<<<< HEAD
       "False"
      ]
     },
     "execution_count": 29,
=======
       "38.85000000000002"
      ]
     },
     "execution_count": 33,
>>>>>>> a7d4c06a751b13b693b43ae0b0f6fb66f33e74fa
     "metadata": {},
     "output_type": "execute_result"
    }
   ],
   "source": [
<<<<<<< HEAD
    "k1 is k3"
=======
    "k1.to_celcius()"
>>>>>>> a7d4c06a751b13b693b43ae0b0f6fb66f33e74fa
   ]
  },
  {
   "cell_type": "code",
<<<<<<< HEAD
   "execution_count": 30,
=======
   "execution_count": 34,
>>>>>>> a7d4c06a751b13b693b43ae0b0f6fb66f33e74fa
   "metadata": {
    "collapsed": false
   },
   "outputs": [
    {
     "data": {
      "text/plain": [
       "38.85000000000002"
      ]
     },
<<<<<<< HEAD
     "execution_count": 30,
=======
     "execution_count": 34,
>>>>>>> a7d4c06a751b13b693b43ae0b0f6fb66f33e74fa
     "metadata": {},
     "output_type": "execute_result"
    }
   ],
   "source": [
<<<<<<< HEAD
    "k1.to_celcius()"
=======
    "KelvinConverter.to_celcius(k1)"
>>>>>>> a7d4c06a751b13b693b43ae0b0f6fb66f33e74fa
   ]
  },
  {
   "cell_type": "code",
<<<<<<< HEAD
   "execution_count": 32,
=======
   "execution_count": 36,
>>>>>>> a7d4c06a751b13b693b43ae0b0f6fb66f33e74fa
   "metadata": {
    "collapsed": false
   },
   "outputs": [
    {
     "data": {
      "text/plain": [
       "38.85000000000002"
      ]
     },
<<<<<<< HEAD
     "execution_count": 32,
=======
     "execution_count": 36,
>>>>>>> a7d4c06a751b13b693b43ae0b0f6fb66f33e74fa
     "metadata": {},
     "output_type": "execute_result"
    }
   ],
   "source": [
<<<<<<< HEAD
    "KelvinConverter.to_celcius(k1)"
=======
    "k1.__class__.to_celcius(k1)"
>>>>>>> a7d4c06a751b13b693b43ae0b0f6fb66f33e74fa
   ]
  },
  {
   "cell_type": "code",
<<<<<<< HEAD
   "execution_count": 33,
=======
   "execution_count": 37,
>>>>>>> a7d4c06a751b13b693b43ae0b0f6fb66f33e74fa
   "metadata": {
    "collapsed": false
   },
   "outputs": [
    {
     "data": {
      "text/plain": [
<<<<<<< HEAD
       "38.85000000000002"
      ]
     },
     "execution_count": 33,
=======
       "__main__.KelvinConverter"
      ]
     },
     "execution_count": 37,
>>>>>>> a7d4c06a751b13b693b43ae0b0f6fb66f33e74fa
     "metadata": {},
     "output_type": "execute_result"
    }
   ],
   "source": [
<<<<<<< HEAD
    "k1.__class__.to_celcius(k1) # to find out the instance"
=======
    "k1.__class__"
>>>>>>> a7d4c06a751b13b693b43ae0b0f6fb66f33e74fa
   ]
  },
  {
   "cell_type": "code",
<<<<<<< HEAD
   "execution_count": 34,
=======
   "execution_count": 38,
>>>>>>> a7d4c06a751b13b693b43ae0b0f6fb66f33e74fa
   "metadata": {
    "collapsed": false
   },
   "outputs": [
    {
     "data": {
      "text/plain": [
       "int"
      ]
     },
<<<<<<< HEAD
     "execution_count": 34,
=======
     "execution_count": 38,
>>>>>>> a7d4c06a751b13b693b43ae0b0f6fb66f33e74fa
     "metadata": {},
     "output_type": "execute_result"
    }
   ],
   "source": [
    "(1).__class__"
   ]
  },
  {
   "cell_type": "code",
<<<<<<< HEAD
   "execution_count": 35,
=======
   "execution_count": 39,
>>>>>>> a7d4c06a751b13b693b43ae0b0f6fb66f33e74fa
   "metadata": {
    "collapsed": false
   },
   "outputs": [
    {
     "data": {
      "text/plain": [
       "str"
      ]
     },
<<<<<<< HEAD
     "execution_count": 35,
=======
     "execution_count": 39,
>>>>>>> a7d4c06a751b13b693b43ae0b0f6fb66f33e74fa
     "metadata": {},
     "output_type": "execute_result"
    }
   ],
   "source": [
    "'string'.__class__"
   ]
  },
  {
   "cell_type": "code",
<<<<<<< HEAD
   "execution_count": 36,
=======
   "execution_count": 41,
>>>>>>> a7d4c06a751b13b693b43ae0b0f6fb66f33e74fa
   "metadata": {
    "collapsed": false
   },
   "outputs": [
    {
     "data": {
      "text/plain": [
<<<<<<< HEAD
       "str"
      ]
     },
     "execution_count": 36,
=======
       "38.85000000000002"
      ]
     },
     "execution_count": 41,
>>>>>>> a7d4c06a751b13b693b43ae0b0f6fb66f33e74fa
     "metadata": {},
     "output_type": "execute_result"
    }
   ],
   "source": [
<<<<<<< HEAD
    "'1'.__class__ # __class__ = attribute"
=======
    "k1.kelvin - 273.15"
>>>>>>> a7d4c06a751b13b693b43ae0b0f6fb66f33e74fa
   ]
  },
  {
   "cell_type": "code",
<<<<<<< HEAD
   "execution_count": 38,
=======
   "execution_count": 42,
>>>>>>> a7d4c06a751b13b693b43ae0b0f6fb66f33e74fa
   "metadata": {
    "collapsed": false
   },
   "outputs": [
    {
     "data": {
      "text/plain": [
       "38.85000000000002"
      ]
     },
<<<<<<< HEAD
     "execution_count": 38,
=======
     "execution_count": 42,
>>>>>>> a7d4c06a751b13b693b43ae0b0f6fb66f33e74fa
     "metadata": {},
     "output_type": "execute_result"
    }
   ],
   "source": [
<<<<<<< HEAD
    "k1.kelvin -273.15"
   ]
  },
  {
   "cell_type": "markdown",
   "metadata": {},
   "source": [
    "Self is passed "
=======
    "k1.to_celcius()"
>>>>>>> a7d4c06a751b13b693b43ae0b0f6fb66f33e74fa
   ]
  },
  {
   "cell_type": "code",
<<<<<<< HEAD
   "execution_count": 39,
   "metadata": {
    "collapsed": false
   },
   "outputs": [
    {
     "data": {
      "text/plain": [
       "312"
      ]
     },
     "execution_count": 39,
     "metadata": {},
     "output_type": "execute_result"
    }
   ],
   "source": [
    "k1.kelvin"
   ]
  },
  {
   "cell_type": "code",
   "execution_count": 61,
=======
   "execution_count": null,
   "metadata": {
    "collapsed": true
   },
   "outputs": [],
   "source": []
  },
  {
   "cell_type": "code",
   "execution_count": 53,
>>>>>>> a7d4c06a751b13b693b43ae0b0f6fb66f33e74fa
   "metadata": {
    "collapsed": true
   },
   "outputs": [],
   "source": [
    "class KelvinConverter:\n",
    "    def __init__(self, kelvin):\n",
    "        self.kelvin = kelvin\n",
    "    \n",
<<<<<<< HEAD
    "    def __eq__(self,other):\n",
=======
    "    def __eq__(self, other):\n",
>>>>>>> a7d4c06a751b13b693b43ae0b0f6fb66f33e74fa
    "        print('First instance', self)\n",
    "        print('Second instance', other)\n",
    "        return self.kelvin == other.kelvin\n",
    "    \n",
    "    def to_celcius(self):\n",
<<<<<<< HEAD
    "        return self.kelvin -273.15\n",
=======
    "        return self.kelvin - 273.15\n",
>>>>>>> a7d4c06a751b13b693b43ae0b0f6fb66f33e74fa
    "    \n",
    "    def to_kelvin(self, celcius):\n",
    "        return celcius + 273.15"
   ]
  },
  {
   "cell_type": "code",
<<<<<<< HEAD
   "execution_count": 62,
=======
   "execution_count": 54,
>>>>>>> a7d4c06a751b13b693b43ae0b0f6fb66f33e74fa
   "metadata": {
    "collapsed": true
   },
   "outputs": [],
   "source": [
    "k1 = KelvinConverter(312)"
   ]
  },
  {
   "cell_type": "code",
<<<<<<< HEAD
   "execution_count": 63,
=======
   "execution_count": 55,
>>>>>>> a7d4c06a751b13b693b43ae0b0f6fb66f33e74fa
   "metadata": {
    "collapsed": true
   },
   "outputs": [],
   "source": [
    "k2 = KelvinConverter(212)"
   ]
  },
  {
   "cell_type": "code",
<<<<<<< HEAD
   "execution_count": 64,
=======
   "execution_count": 56,
>>>>>>> a7d4c06a751b13b693b43ae0b0f6fb66f33e74fa
   "metadata": {
    "collapsed": true
   },
   "outputs": [],
   "source": [
    "k3 = KelvinConverter(312)"
   ]
  },
  {
<<<<<<< HEAD
   "cell_type": "markdown",
   "metadata": {},
   "source": [
    "PascalCase\n",
    "camelCase"
   ]
  },
  {
   "cell_type": "code",
   "execution_count": 51,
=======
   "cell_type": "code",
   "execution_count": 57,
>>>>>>> a7d4c06a751b13b693b43ae0b0f6fb66f33e74fa
   "metadata": {
    "collapsed": false
   },
   "outputs": [
    {
     "name": "stdout",
     "output_type": "stream",
     "text": [
<<<<<<< HEAD
      "First instance <__main__.KelvinConverter object at 0x11021fe48>\n",
      "Second instance <__main__.KelvinConverter object at 0x11021feb8>\n"
=======
      "First instance <__main__.KelvinConverter object at 0x7fe7004f42b0>\n",
      "Second instance <__main__.KelvinConverter object at 0x7fe7004f4198>\n"
>>>>>>> a7d4c06a751b13b693b43ae0b0f6fb66f33e74fa
     ]
    },
    {
     "data": {
      "text/plain": [
       "True"
      ]
     },
<<<<<<< HEAD
     "execution_count": 51,
=======
     "execution_count": 57,
>>>>>>> a7d4c06a751b13b693b43ae0b0f6fb66f33e74fa
     "metadata": {},
     "output_type": "execute_result"
    }
   ],
   "source": [
    "k1 == k3"
   ]
  },
  {
   "cell_type": "code",
<<<<<<< HEAD
   "execution_count": 65,
=======
   "execution_count": 58,
>>>>>>> a7d4c06a751b13b693b43ae0b0f6fb66f33e74fa
   "metadata": {
    "collapsed": false
   },
   "outputs": [
    {
     "data": {
      "text/plain": [
<<<<<<< HEAD
       "<__main__.KelvinConverter at 0x1101f6e48>"
      ]
     },
     "execution_count": 65,
=======
       "<__main__.KelvinConverter at 0x7fe7004f42b0>"
      ]
     },
     "execution_count": 58,
>>>>>>> a7d4c06a751b13b693b43ae0b0f6fb66f33e74fa
     "metadata": {},
     "output_type": "execute_result"
    }
   ],
   "source": [
    "k1"
   ]
  },
  {
   "cell_type": "code",
<<<<<<< HEAD
   "execution_count": 66,
=======
   "execution_count": 59,
>>>>>>> a7d4c06a751b13b693b43ae0b0f6fb66f33e74fa
   "metadata": {
    "collapsed": false
   },
   "outputs": [
    {
     "data": {
      "text/plain": [
<<<<<<< HEAD
       "<__main__.KelvinConverter at 0x1101f6c88>"
      ]
     },
     "execution_count": 66,
=======
       "<__main__.KelvinConverter at 0x7fe7004f4198>"
      ]
     },
     "execution_count": 59,
>>>>>>> a7d4c06a751b13b693b43ae0b0f6fb66f33e74fa
     "metadata": {},
     "output_type": "execute_result"
    }
   ],
   "source": [
    "k3"
   ]
  },
  {
<<<<<<< HEAD
   "cell_type": "markdown",
   "metadata": {},
   "source": [
    " left hand side is passed to self and right hand side to other"
=======
   "cell_type": "code",
   "execution_count": 60,
   "metadata": {
    "collapsed": false
   },
   "outputs": [
    {
     "ename": "TypeError",
     "evalue": "'<' not supported between instances of 'KelvinConverter' and 'KelvinConverter'",
     "output_type": "error",
     "traceback": [
      "\u001b[0;31m---------------------------------------------------------------------------\u001b[0m",
      "\u001b[0;31mTypeError\u001b[0m                                 Traceback (most recent call last)",
      "\u001b[0;32m<ipython-input-60-cc18722eb1e0>\u001b[0m in \u001b[0;36m<module>\u001b[0;34m()\u001b[0m\n\u001b[0;32m----> 1\u001b[0;31m \u001b[0mk1\u001b[0m \u001b[0;34m<\u001b[0m \u001b[0mk3\u001b[0m\u001b[0;34m\u001b[0m\u001b[0m\n\u001b[0m",
      "\u001b[0;31mTypeError\u001b[0m: '<' not supported between instances of 'KelvinConverter' and 'KelvinConverter'"
     ]
    }
   ],
   "source": [
    "k1 < k3"
>>>>>>> a7d4c06a751b13b693b43ae0b0f6fb66f33e74fa
   ]
  },
  {
   "cell_type": "code",
<<<<<<< HEAD
   "execution_count": 57,
=======
   "execution_count": 65,
>>>>>>> a7d4c06a751b13b693b43ae0b0f6fb66f33e74fa
   "metadata": {
    "collapsed": true
   },
   "outputs": [],
   "source": [
    "class KelvinConverter:\n",
    "    def __init__(self, kelvin):\n",
    "        self.kelvin = kelvin\n",
    "    \n",
<<<<<<< HEAD
    "    def __eq__(self,other):\n",
=======
    "    def __eq__(self, other):\n",
>>>>>>> a7d4c06a751b13b693b43ae0b0f6fb66f33e74fa
    "        print('First instance', self)\n",
    "        print('Second instance', other)\n",
    "        return self.kelvin == other.kelvin\n",
    "    \n",
<<<<<<< HEAD
    "    def __lt__(self,other):\n",
    "        return self.kelvin == other.kelvin\n",
    "    \n",
    "    def to_celcius(self):\n",
    "        return self.kelvin -273.15\n",
=======
    "    def __lt__(self, other):\n",
    "        return self.kelvin < other.kelvin\n",
    "    \n",
    "    def to_celcius(self):\n",
    "        return self.kelvin - 273.15\n",
>>>>>>> a7d4c06a751b13b693b43ae0b0f6fb66f33e74fa
    "    \n",
    "    def to_kelvin(self, celcius):\n",
    "        return celcius + 273.15"
   ]
  },
  {
   "cell_type": "code",
<<<<<<< HEAD
   "execution_count": 58,
=======
   "execution_count": 66,
>>>>>>> a7d4c06a751b13b693b43ae0b0f6fb66f33e74fa
   "metadata": {
    "collapsed": true
   },
   "outputs": [],
   "source": [
    "k1 = KelvinConverter(312)\n",
    "k2 = KelvinConverter(212)\n",
    "k3 = KelvinConverter(312)"
   ]
  },
  {
   "cell_type": "code",
<<<<<<< HEAD
   "execution_count": 59,
=======
   "execution_count": 67,
>>>>>>> a7d4c06a751b13b693b43ae0b0f6fb66f33e74fa
   "metadata": {
    "collapsed": false
   },
   "outputs": [
    {
     "name": "stdout",
     "output_type": "stream",
     "text": [
<<<<<<< HEAD
      "First instance <__main__.KelvinConverter object at 0x11021fdd8>\n",
      "Second instance <__main__.KelvinConverter object at 0x110216710>\n"
=======
      "First instance <__main__.KelvinConverter object at 0x7fe7004f4710>\n",
      "Second instance <__main__.KelvinConverter object at 0x7fe707caf898>\n"
>>>>>>> a7d4c06a751b13b693b43ae0b0f6fb66f33e74fa
     ]
    },
    {
     "data": {
      "text/plain": [
       "True"
      ]
     },
<<<<<<< HEAD
     "execution_count": 59,
=======
     "execution_count": 67,
>>>>>>> a7d4c06a751b13b693b43ae0b0f6fb66f33e74fa
     "metadata": {},
     "output_type": "execute_result"
    }
   ],
   "source": [
    "k1 == k3"
   ]
  },
  {
<<<<<<< HEAD
   "cell_type": "code",
   "execution_count": 60,
=======
   "cell_type": "markdown",
   "metadata": {},
   "source": [
    "k1.\\_\\_eq\\_\\_(k3)\n",
    "\n",
    "KelvinConverter.\\_\\_eq\\_\\_(k1, k3)"
   ]
  },
  {
   "cell_type": "code",
   "execution_count": 68,
>>>>>>> a7d4c06a751b13b693b43ae0b0f6fb66f33e74fa
   "metadata": {
    "collapsed": false
   },
   "outputs": [
    {
<<<<<<< HEAD
     "name": "stdout",
     "output_type": "stream",
     "text": [
      "First instance <__main__.KelvinConverter object at 0x11021fdd8>\n",
      "Second instance <__main__.KelvinConverter object at 0x110216710>\n"
     ]
    },
    {
     "data": {
      "text/plain": [
       "True"
      ]
     },
     "execution_count": 60,
=======
     "data": {
      "text/plain": [
       "False"
      ]
     },
     "execution_count": 68,
>>>>>>> a7d4c06a751b13b693b43ae0b0f6fb66f33e74fa
     "metadata": {},
     "output_type": "execute_result"
    }
   ],
   "source": [
<<<<<<< HEAD
    "k1.__eq__(k3)"
   ]
  },
  {
   "cell_type": "markdown",
   "metadata": {},
   "source": [
    "``k1.__eq __ (k3)\n",
    "kelvinConverter.__eq__(k1.k3)``"
=======
    "k1 < k3"
   ]
  },
  {
   "cell_type": "code",
   "execution_count": 69,
   "metadata": {
    "collapsed": false
   },
   "outputs": [
    {
     "data": {
      "text/plain": [
       "True"
      ]
     },
     "execution_count": 69,
     "metadata": {},
     "output_type": "execute_result"
    }
   ],
   "source": [
    "k2 < k3"
>>>>>>> a7d4c06a751b13b693b43ae0b0f6fb66f33e74fa
   ]
  },
  {
   "cell_type": "code",
<<<<<<< HEAD
   "execution_count": 67,
=======
   "execution_count": 70,
>>>>>>> a7d4c06a751b13b693b43ae0b0f6fb66f33e74fa
   "metadata": {
    "collapsed": false
   },
   "outputs": [
    {
     "data": {
      "text/plain": [
       "['__class__',\n",
       " '__delattr__',\n",
       " '__dict__',\n",
       " '__dir__',\n",
       " '__doc__',\n",
       " '__eq__',\n",
       " '__format__',\n",
       " '__ge__',\n",
       " '__getattribute__',\n",
       " '__gt__',\n",
       " '__hash__',\n",
       " '__init__',\n",
       " '__init_subclass__',\n",
       " '__le__',\n",
       " '__lt__',\n",
       " '__module__',\n",
       " '__ne__',\n",
       " '__new__',\n",
       " '__reduce__',\n",
       " '__reduce_ex__',\n",
       " '__repr__',\n",
       " '__setattr__',\n",
       " '__sizeof__',\n",
       " '__str__',\n",
       " '__subclasshook__',\n",
       " '__weakref__',\n",
       " 'kelvin',\n",
       " 'to_celcius',\n",
       " 'to_kelvin']"
      ]
     },
<<<<<<< HEAD
     "execution_count": 67,
=======
     "execution_count": 70,
>>>>>>> a7d4c06a751b13b693b43ae0b0f6fb66f33e74fa
     "metadata": {},
     "output_type": "execute_result"
    }
   ],
   "source": [
    "dir(k1)"
   ]
  },
  {
   "cell_type": "code",
<<<<<<< HEAD
   "execution_count": 68,
=======
   "execution_count": 71,
>>>>>>> a7d4c06a751b13b693b43ae0b0f6fb66f33e74fa
   "metadata": {
    "collapsed": false
   },
   "outputs": [
    {
     "ename": "TypeError",
     "evalue": "unsupported operand type(s) for +: 'KelvinConverter' and 'KelvinConverter'",
     "output_type": "error",
     "traceback": [
      "\u001b[0;31m---------------------------------------------------------------------------\u001b[0m",
      "\u001b[0;31mTypeError\u001b[0m                                 Traceback (most recent call last)",
<<<<<<< HEAD
      "\u001b[0;32m<ipython-input-68-3edd57ef788c>\u001b[0m in \u001b[0;36m<module>\u001b[0;34m()\u001b[0m\n\u001b[0;32m----> 1\u001b[0;31m \u001b[0mk1\u001b[0m \u001b[0;34m+\u001b[0m \u001b[0mk2\u001b[0m\u001b[0;34m\u001b[0m\u001b[0m\n\u001b[0m",
=======
      "\u001b[0;32m<ipython-input-71-3edd57ef788c>\u001b[0m in \u001b[0;36m<module>\u001b[0;34m()\u001b[0m\n\u001b[0;32m----> 1\u001b[0;31m \u001b[0mk1\u001b[0m \u001b[0;34m+\u001b[0m \u001b[0mk2\u001b[0m\u001b[0;34m\u001b[0m\u001b[0m\n\u001b[0m",
>>>>>>> a7d4c06a751b13b693b43ae0b0f6fb66f33e74fa
      "\u001b[0;31mTypeError\u001b[0m: unsupported operand type(s) for +: 'KelvinConverter' and 'KelvinConverter'"
     ]
    }
   ],
   "source": [
    "k1 + k2"
   ]
  },
  {
   "cell_type": "code",
<<<<<<< HEAD
   "execution_count": 70,
=======
   "execution_count": 72,
>>>>>>> a7d4c06a751b13b693b43ae0b0f6fb66f33e74fa
   "metadata": {
    "collapsed": true
   },
   "outputs": [],
   "source": [
    "class KelvinConverter:\n",
    "    def __init__(self, kelvin):\n",
    "        self.kelvin = kelvin\n",
    "    \n",
<<<<<<< HEAD
    "    def __eq__(self,other):\n",
=======
    "    def __eq__(self, other):\n",
>>>>>>> a7d4c06a751b13b693b43ae0b0f6fb66f33e74fa
    "        print('First instance', self)\n",
    "        print('Second instance', other)\n",
    "        return self.kelvin == other.kelvin\n",
    "    \n",
<<<<<<< HEAD
    "    def __lt__(self,other):\n",
    "        return self.kelvin == other.kelvin\n",
    "    def __add__(self,other):\n",
    "        return self.kelvin + other.kelvin\n",
    "    \n",
    "    def to_celcius(self):\n",
    "        return self.kelvin -273.15\n",
=======
    "    def __lt__(self, other):\n",
    "        return self.kelvin < other.kelvin\n",
    "    \n",
    "    def __add__(self, other):\n",
    "        return self.kelvin + other.kelvin\n",
    "    \n",
    "    def to_celcius(self):\n",
    "        return self.kelvin - 273.15\n",
>>>>>>> a7d4c06a751b13b693b43ae0b0f6fb66f33e74fa
    "    \n",
    "    def to_kelvin(self, celcius):\n",
    "        return celcius + 273.15"
   ]
  },
  {
   "cell_type": "code",
<<<<<<< HEAD
   "execution_count": 71,
=======
   "execution_count": 73,
>>>>>>> a7d4c06a751b13b693b43ae0b0f6fb66f33e74fa
   "metadata": {
    "collapsed": true
   },
   "outputs": [],
   "source": [
    "k1 = KelvinConverter(312)\n",
    "k2 = KelvinConverter(212)\n",
    "k3 = KelvinConverter(312)"
   ]
  },
  {
   "cell_type": "code",
<<<<<<< HEAD
   "execution_count": 72,
=======
   "execution_count": 74,
>>>>>>> a7d4c06a751b13b693b43ae0b0f6fb66f33e74fa
   "metadata": {
    "collapsed": false
   },
   "outputs": [
    {
     "data": {
      "text/plain": [
       "624"
      ]
     },
<<<<<<< HEAD
     "execution_count": 72,
=======
     "execution_count": 74,
>>>>>>> a7d4c06a751b13b693b43ae0b0f6fb66f33e74fa
     "metadata": {},
     "output_type": "execute_result"
    }
   ],
   "source": [
    "k1 + k3"
   ]
  },
  {
   "cell_type": "code",
<<<<<<< HEAD
   "execution_count": 73,
=======
   "execution_count": 76,
>>>>>>> a7d4c06a751b13b693b43ae0b0f6fb66f33e74fa
   "metadata": {
    "collapsed": false
   },
   "outputs": [
    {
     "data": {
      "text/plain": [
       "311.15"
      ]
     },
<<<<<<< HEAD
     "execution_count": 73,
=======
     "execution_count": 76,
>>>>>>> a7d4c06a751b13b693b43ae0b0f6fb66f33e74fa
     "metadata": {},
     "output_type": "execute_result"
    }
   ],
   "source": [
    "k1.to_kelvin(38)"
   ]
  },
  {
   "cell_type": "code",
<<<<<<< HEAD
   "execution_count": 137,
   "metadata": {
    "collapsed": false
=======
   "execution_count": 131,
   "metadata": {
    "collapsed": true
>>>>>>> a7d4c06a751b13b693b43ae0b0f6fb66f33e74fa
   },
   "outputs": [],
   "source": [
    "class Temperature:\n",
<<<<<<< HEAD
    "    # class sttributes\n",
    "    name = 'TemperatureClass'\n",
    "    \n",
    "    def __init__(self, initial):\n",
    "        #instance attribute\n",
    "        self.initial = initial\n",
    "        self.name = 'TemperatureInstance'\n",
    "   \n",
=======
    "    # class attributes\n",
    "    name = 'TemperatureClass'\n",
    "    \n",
    "    def __init__(self, initial):\n",
    "        # instance attributes\n",
    "        self.initial = initial\n",
    "        self.name = 'TemperatureInstance'\n",
    "    \n",
>>>>>>> a7d4c06a751b13b693b43ae0b0f6fb66f33e74fa
    "    def to_kelvin(self):\n",
    "        \"\"\"\n",
    "        instance method\n",
    "        \"\"\"\n",
    "        return self.initial + 273.15\n",
    "    \n",
    "    @classmethod\n",
    "    def class_name(cls):\n",
    "        \"\"\"\n",
    "        class method\n",
    "        \"\"\"\n",
    "        print(cls)\n",
    "        return cls.name\n",
    "    \n",
    "    @staticmethod\n",
    "    def to_celcius(kelvin):\n",
    "        \"\"\"\n",
    "        static method\n",
    "        \"\"\"\n",
    "        print(kelvin)\n",
<<<<<<< HEAD
    "        return kelvin -273.15\n",
    "    \n",
    "    "
   ]
  },
  {
   "cell_type": "markdown",
   "metadata": {},
   "source": [
    "\n",
    "@staticmethod - decorator. modifies function  somehow"
=======
    "        return kelvin - 273.15"
   ]
  },
  {
   "cell_type": "code",
   "execution_count": 133,
   "metadata": {
    "collapsed": true
   },
   "outputs": [],
   "source": [
    "t1 = Temperature(12)"
>>>>>>> a7d4c06a751b13b693b43ae0b0f6fb66f33e74fa
   ]
  },
  {
   "cell_type": "code",
<<<<<<< HEAD
   "execution_count": 138,
   "metadata": {
    "collapsed": false
   },
   "outputs": [],
   "source": [
    "t1 = Temperature(12)"
=======
   "execution_count": 134,
   "metadata": {
    "collapsed": false
   },
   "outputs": [
    {
     "ename": "TypeError",
     "evalue": "to_kelvin() missing 1 required positional argument: 'self'",
     "output_type": "error",
     "traceback": [
      "\u001b[0;31m---------------------------------------------------------------------------\u001b[0m",
      "\u001b[0;31mTypeError\u001b[0m                                 Traceback (most recent call last)",
      "\u001b[0;32m<ipython-input-134-094999df155e>\u001b[0m in \u001b[0;36m<module>\u001b[0;34m()\u001b[0m\n\u001b[0;32m----> 1\u001b[0;31m \u001b[0mTemperature\u001b[0m\u001b[0;34m.\u001b[0m\u001b[0mto_kelvin\u001b[0m\u001b[0;34m(\u001b[0m\u001b[0;34m)\u001b[0m\u001b[0;34m\u001b[0m\u001b[0m\n\u001b[0m",
      "\u001b[0;31mTypeError\u001b[0m: to_kelvin() missing 1 required positional argument: 'self'"
     ]
    }
   ],
   "source": [
    "Temperature.to_kelvin()"
>>>>>>> a7d4c06a751b13b693b43ae0b0f6fb66f33e74fa
   ]
  },
  {
   "cell_type": "code",
<<<<<<< HEAD
   "execution_count": 139,
=======
   "execution_count": 135,
   "metadata": {
    "collapsed": false
   },
   "outputs": [
    {
     "ename": "AttributeError",
     "evalue": "'str' object has no attribute 'initial'",
     "output_type": "error",
     "traceback": [
      "\u001b[0;31m---------------------------------------------------------------------------\u001b[0m",
      "\u001b[0;31mAttributeError\u001b[0m                            Traceback (most recent call last)",
      "\u001b[0;32m<ipython-input-135-516349c3d51f>\u001b[0m in \u001b[0;36m<module>\u001b[0;34m()\u001b[0m\n\u001b[0;32m----> 1\u001b[0;31m \u001b[0mTemperature\u001b[0m\u001b[0;34m.\u001b[0m\u001b[0mto_kelvin\u001b[0m\u001b[0;34m(\u001b[0m\u001b[0;34m'kajskasd'\u001b[0m\u001b[0;34m)\u001b[0m\u001b[0;34m\u001b[0m\u001b[0m\n\u001b[0m",
      "\u001b[0;32m<ipython-input-131-82e062313a3a>\u001b[0m in \u001b[0;36mto_kelvin\u001b[0;34m(self)\u001b[0m\n\u001b[1;32m     12\u001b[0m         \u001b[0minstance\u001b[0m \u001b[0mmethod\u001b[0m\u001b[0;34m\u001b[0m\u001b[0m\n\u001b[1;32m     13\u001b[0m         \"\"\"\n\u001b[0;32m---> 14\u001b[0;31m         \u001b[0;32mreturn\u001b[0m \u001b[0mself\u001b[0m\u001b[0;34m.\u001b[0m\u001b[0minitial\u001b[0m \u001b[0;34m+\u001b[0m \u001b[0;36m273.15\u001b[0m\u001b[0;34m\u001b[0m\u001b[0m\n\u001b[0m\u001b[1;32m     15\u001b[0m \u001b[0;34m\u001b[0m\u001b[0m\n\u001b[1;32m     16\u001b[0m     \u001b[0;34m@\u001b[0m\u001b[0mclassmethod\u001b[0m\u001b[0;34m\u001b[0m\u001b[0m\n",
      "\u001b[0;31mAttributeError\u001b[0m: 'str' object has no attribute 'initial'"
     ]
    }
   ],
   "source": [
    "Temperature.to_kelvin('kajskasd')"
   ]
  },
  {
   "cell_type": "code",
   "execution_count": 136,
>>>>>>> a7d4c06a751b13b693b43ae0b0f6fb66f33e74fa
   "metadata": {
    "collapsed": false
   },
   "outputs": [
    {
     "data": {
      "text/plain": [
       "285.15"
      ]
     },
<<<<<<< HEAD
     "execution_count": 139,
=======
     "execution_count": 136,
>>>>>>> a7d4c06a751b13b693b43ae0b0f6fb66f33e74fa
     "metadata": {},
     "output_type": "execute_result"
    }
   ],
   "source": [
    "t1.to_kelvin()"
   ]
  },
  {
   "cell_type": "code",
<<<<<<< HEAD
   "execution_count": 140,
=======
   "execution_count": 137,
>>>>>>> a7d4c06a751b13b693b43ae0b0f6fb66f33e74fa
   "metadata": {
    "collapsed": false
   },
   "outputs": [
    {
     "ename": "TypeError",
     "evalue": "class_name() takes 1 positional argument but 2 were given",
     "output_type": "error",
     "traceback": [
      "\u001b[0;31m---------------------------------------------------------------------------\u001b[0m",
      "\u001b[0;31mTypeError\u001b[0m                                 Traceback (most recent call last)",
<<<<<<< HEAD
      "\u001b[0;32m<ipython-input-140-3c45b0e47487>\u001b[0m in \u001b[0;36m<module>\u001b[0;34m()\u001b[0m\n\u001b[0;32m----> 1\u001b[0;31m \u001b[0mTemperature\u001b[0m\u001b[0;34m.\u001b[0m\u001b[0mclass_name\u001b[0m\u001b[0;34m(\u001b[0m\u001b[0mt1\u001b[0m\u001b[0;34m)\u001b[0m\u001b[0;34m\u001b[0m\u001b[0m\n\u001b[0m",
=======
      "\u001b[0;32m<ipython-input-137-3c45b0e47487>\u001b[0m in \u001b[0;36m<module>\u001b[0;34m()\u001b[0m\n\u001b[0;32m----> 1\u001b[0;31m \u001b[0mTemperature\u001b[0m\u001b[0;34m.\u001b[0m\u001b[0mclass_name\u001b[0m\u001b[0;34m(\u001b[0m\u001b[0mt1\u001b[0m\u001b[0;34m)\u001b[0m\u001b[0;34m\u001b[0m\u001b[0m\n\u001b[0m",
>>>>>>> a7d4c06a751b13b693b43ae0b0f6fb66f33e74fa
      "\u001b[0;31mTypeError\u001b[0m: class_name() takes 1 positional argument but 2 were given"
     ]
    }
   ],
   "source": [
    "Temperature.class_name(t1)"
   ]
  },
  {
   "cell_type": "code",
<<<<<<< HEAD
   "execution_count": 130,
=======
   "execution_count": 138,
>>>>>>> a7d4c06a751b13b693b43ae0b0f6fb66f33e74fa
   "metadata": {
    "collapsed": false
   },
   "outputs": [
    {
     "ename": "TypeError",
     "evalue": "class_name() takes 1 positional argument but 2 were given",
     "output_type": "error",
     "traceback": [
      "\u001b[0;31m---------------------------------------------------------------------------\u001b[0m",
      "\u001b[0;31mTypeError\u001b[0m                                 Traceback (most recent call last)",
<<<<<<< HEAD
      "\u001b[0;32m<ipython-input-130-3d5bc901d90a>\u001b[0m in \u001b[0;36m<module>\u001b[0;34m()\u001b[0m\n\u001b[0;32m----> 1\u001b[0;31m \u001b[0mTemperature\u001b[0m\u001b[0;34m.\u001b[0m\u001b[0mclass_name\u001b[0m\u001b[0;34m(\u001b[0m\u001b[0mTemperature\u001b[0m\u001b[0;34m)\u001b[0m\u001b[0;34m\u001b[0m\u001b[0m\n\u001b[0m",
=======
      "\u001b[0;32m<ipython-input-138-3d5bc901d90a>\u001b[0m in \u001b[0;36m<module>\u001b[0;34m()\u001b[0m\n\u001b[0;32m----> 1\u001b[0;31m \u001b[0mTemperature\u001b[0m\u001b[0;34m.\u001b[0m\u001b[0mclass_name\u001b[0m\u001b[0;34m(\u001b[0m\u001b[0mTemperature\u001b[0m\u001b[0;34m)\u001b[0m\u001b[0;34m\u001b[0m\u001b[0m\n\u001b[0m",
>>>>>>> a7d4c06a751b13b693b43ae0b0f6fb66f33e74fa
      "\u001b[0;31mTypeError\u001b[0m: class_name() takes 1 positional argument but 2 were given"
     ]
    }
   ],
   "source": [
    "Temperature.class_name(Temperature)"
   ]
  },
  {
   "cell_type": "code",
<<<<<<< HEAD
   "execution_count": 141,
   "metadata": {
    "collapsed": false
   },
   "outputs": [
    {
     "data": {
      "text/plain": [
       "__main__.Temperature"
      ]
     },
     "execution_count": 141,
     "metadata": {},
     "output_type": "execute_result"
    }
   ],
   "source": [
    "Temperature\n"
   ]
  },
  {
   "cell_type": "code",
   "execution_count": 142,
=======
   "execution_count": 139,
>>>>>>> a7d4c06a751b13b693b43ae0b0f6fb66f33e74fa
   "metadata": {
    "collapsed": false
   },
   "outputs": [
    {
     "name": "stdout",
     "output_type": "stream",
     "text": [
      "<class '__main__.Temperature'>\n"
     ]
    },
    {
     "data": {
      "text/plain": [
       "'TemperatureClass'"
      ]
     },
<<<<<<< HEAD
     "execution_count": 142,
=======
     "execution_count": 139,
>>>>>>> a7d4c06a751b13b693b43ae0b0f6fb66f33e74fa
     "metadata": {},
     "output_type": "execute_result"
    }
   ],
   "source": [
    "Temperature.class_name()"
   ]
  },
  {
   "cell_type": "code",
<<<<<<< HEAD
   "execution_count": 143,
=======
   "execution_count": 140,
>>>>>>> a7d4c06a751b13b693b43ae0b0f6fb66f33e74fa
   "metadata": {
    "collapsed": false
   },
   "outputs": [
    {
     "name": "stdout",
     "output_type": "stream",
     "text": [
      "<class '__main__.Temperature'>\n"
     ]
    },
    {
     "data": {
      "text/plain": [
       "'TemperatureClass'"
      ]
     },
<<<<<<< HEAD
     "execution_count": 143,
=======
     "execution_count": 140,
>>>>>>> a7d4c06a751b13b693b43ae0b0f6fb66f33e74fa
     "metadata": {},
     "output_type": "execute_result"
    }
   ],
   "source": [
    "t1.class_name()"
   ]
  },
  {
   "cell_type": "code",
<<<<<<< HEAD
   "execution_count": 144,
=======
   "execution_count": 141,
>>>>>>> a7d4c06a751b13b693b43ae0b0f6fb66f33e74fa
   "metadata": {
    "collapsed": false
   },
   "outputs": [
    {
     "name": "stdout",
     "output_type": "stream",
     "text": [
      "320\n"
     ]
    },
    {
     "data": {
      "text/plain": [
       "46.85000000000002"
      ]
     },
<<<<<<< HEAD
     "execution_count": 144,
=======
     "execution_count": 141,
>>>>>>> a7d4c06a751b13b693b43ae0b0f6fb66f33e74fa
     "metadata": {},
     "output_type": "execute_result"
    }
   ],
   "source": [
    "Temperature.to_celcius(320)"
   ]
  },
  {
   "cell_type": "code",
<<<<<<< HEAD
   "execution_count": null,
   "metadata": {
    "collapsed": true
   },
   "outputs": [],
   "source": []
=======
   "execution_count": 89,
   "metadata": {
    "collapsed": false
   },
   "outputs": [
    {
     "data": {
      "text/plain": [
       "__main__.Temperature"
      ]
     },
     "execution_count": 89,
     "metadata": {},
     "output_type": "execute_result"
    }
   ],
   "source": [
    "Temperature"
   ]
>>>>>>> a7d4c06a751b13b693b43ae0b0f6fb66f33e74fa
  }
 ],
 "metadata": {
  "kernelspec": {
   "display_name": "Python 3",
   "language": "python",
   "name": "python3"
  },
  "language_info": {
   "codemirror_mode": {
    "name": "ipython",
    "version": 3
   },
   "file_extension": ".py",
   "mimetype": "text/x-python",
   "name": "python",
   "nbconvert_exporter": "python",
   "pygments_lexer": "ipython3",
   "version": "3.6.0"
  }
 },
 "nbformat": 4,
 "nbformat_minor": 2
}
