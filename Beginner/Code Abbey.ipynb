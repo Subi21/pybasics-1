{
 "cells": [
  {
   "cell_type": "markdown",
   "metadata": {
    "collapsed": true
   },
   "source": [
    "**SUM**"
   ]
  },
  {
   "cell_type": "code",
   "execution_count": 1,
   "metadata": {
    "collapsed": false
   },
   "outputs": [
    {
     "data": {
      "text/plain": [
       "22824"
      ]
     },
     "execution_count": 1,
     "metadata": {},
     "output_type": "execute_result"
    }
   ],
   "source": [
    "15696 + 7128"
   ]
  },
  {
   "cell_type": "markdown",
   "metadata": {},
   "source": [
    "**SUM IN LOOP**"
   ]
  },
  {
   "cell_type": "code",
   "execution_count": 2,
   "metadata": {
    "collapsed": false
   },
   "outputs": [
    {
     "name": "stdout",
     "output_type": "stream",
     "text": [
      "The sum is 21083\n"
     ]
    }
   ],
   "source": [
    "# List of numbers\n",
    "numbers = [847,826,392,686,842,20,264,85,1197,226,425,726,814,760,452,418,98,861,157,1142,57,793,62,118,609,776,273,1025,1063,77,247,610,894,629,1286,436,640,250]\n",
    "sum = 0\n",
    "\n",
    "# iterate over the list\n",
    "for val in numbers:\n",
    "    sum = sum+val\n",
    "print(\"The sum is\", sum)"
   ]
  },
  {
   "cell_type": "markdown",
   "metadata": {},
   "source": [
    "**SUMS IN LOOP**"
   ]
  },
  {
   "cell_type": "code",
   "execution_count": 3,
   "metadata": {
    "collapsed": false
   },
   "outputs": [
    {
     "name": "stdout",
     "output_type": "stream",
     "text": [
      "[754331, 750507, 601043, 713393, 1411220, 992724, 1454949, 640175, 1477755, 1170366, 843904, 1429248, 1384657, 845878]\n"
     ]
    }
   ],
   "source": [
    "a = [673765,384406,344715,440494,898746,460726,888288,542939,768949,384406,544850,978805,567146,415673] \n",
    "b = [80566,366101 ,256328,272899,512474,531998,566661,97236,708806,785960,299054,450443,817511,430205]\n",
    "c = [a[i] + b[i] for i in range(len(a))]\n",
    "print(c)"
   ]
  },
  {
   "cell_type": "markdown",
   "metadata": {},
   "source": [
    "**Minimum**"
   ]
  },
  {
   "cell_type": "code",
   "execution_count": 4,
   "metadata": {
    "collapsed": false
   },
   "outputs": [
    {
     "name": "stdout",
     "output_type": "stream",
     "text": [
      "1\n"
     ]
    }
   ],
   "source": [
    "x=[2,3,5,9,1,2,3]\n",
    "z=len(x)\n",
    "y=x[0]\n",
    "for i in range(z):\n",
    "    if y>x[i]:\n",
    "        y=x[i]\n",
    "print(y)"
   ]
  },
  {
   "cell_type": "markdown",
   "metadata": {},
   "source": [
    "**Minimum of two**"
   ]
  },
  {
   "cell_type": "code",
   "execution_count": 5,
   "metadata": {
    "collapsed": false
   },
   "outputs": [
    {
     "name": "stdout",
     "output_type": "stream",
     "text": [
      "11310\n",
      "1401273\n",
      "5469071\n",
      "532455\n",
      "262847\n",
      "1154735\n",
      "3062720\n"
     ]
    }
   ],
   "source": [
    "list_a = [11310,9730540,5469071,5380326,262847,3277293,3062720]\n",
    "list_b = [9507620,1401273,8875604, 532455,8209851,1154735,3100117]\n",
    "a=list_a[0]\n",
    "b=list_b[0]\n",
    "for i in range(len(list_a)):\n",
    "    if list_a[i] < list_b[i]:\n",
    "        print(list_a[i])\n",
    "    else:\n",
    "        print(list_b[i])\n"
   ]
  },
  {
   "cell_type": "code",
   "execution_count": 6,
   "metadata": {
    "collapsed": false,
    "scrolled": true
   },
   "outputs": [
    {
     "name": "stdout",
     "output_type": "stream",
     "text": [
      "-3809452\n",
      "1077280\n",
      "5977444\n",
      "4759607\n",
      "2545371\n",
      "8652938\n",
      "4756979\n",
      "3838307\n",
      "2637120\n",
      "6779409\n",
      "476747\n",
      "512684\n",
      "2826604\n",
      "3729484\n",
      "9287588\n",
      "2107970\n",
      "891180\n",
      "1942524\n",
      "7479755\n",
      "5065616\n",
      "4644601\n",
      "5419991\n",
      "522441\n",
      "1835315\n",
      "2269587\n",
      "1637932\n",
      "1587316\n"
     ]
    }
   ],
   "source": [
    "x=[-3809452,4434831,8948656,4759607,2545371,8652938,4756979,4057567,8662507,9565728,476747,4963958,2826604,9224399,9905506,2107970,891180,5018774,7479755,5991663,6759972,5419991 ,8506456 ,1835315 ,7885320 ,6623358,2895888] \n",
    "y =[178769, 1077280,5977444,5950860,7019139,9645624,6138145,3838307,2637120,6779409,9373698,512684,4814769,3729484 ,9287588,3903946,3457199,1942524,9740832,5065616 ,4644601 ,7997007 ,522441,9843949,2269587,1637932,1587316]\n",
    "a=x[0]\n",
    "r=y[0]\n",
    "for i in range(len(x)):\n",
    "        if x[i] < y[i]:\n",
    "            print(x[i])\n",
    "        else:\n",
    "            print(y[i])\n",
    "       \n",
    "        "
   ]
  },
  {
   "cell_type": "markdown",
   "metadata": {},
   "source": [
    "**Minimum of three**"
   ]
  },
  {
   "cell_type": "code",
   "execution_count": 7,
   "metadata": {
    "collapsed": false,
    "scrolled": true
   },
   "outputs": [
    {
     "name": "stdout",
     "output_type": "stream",
     "text": [
      "1\n",
      "2\n",
      "3\n",
      "4\n",
      "2\n",
      "5\n",
      "1\n"
     ]
    }
   ],
   "source": [
    "x= [1,2,3,4,5,6,7]\n",
    "y = [3,7,8,9,11,222,55]\n",
    "z = [1,4,4,8,2,5,1]\n",
    "a=x[0]\n",
    "b=y[0]\n",
    "c=z[0]\n",
    "for i in range(len(x)):\n",
    "    if x[i]< y[i] and x[i] < z[i]:\n",
    "        print(x[i])\n",
    "    elif y[i]<x[i] and y[i] < z[i]:\n",
    "            print(y[i])\n",
    "    else:\n",
    "        print(z[i])"
   ]
  },
  {
   "cell_type": "markdown",
   "metadata": {
    "collapsed": true
   },
   "source": [
    "**vowel count**"
   ]
  },
  {
   "cell_type": "code",
   "execution_count": 8,
   "metadata": {
    "collapsed": true
   },
   "outputs": [],
   "source": [
    "word = \"sentence\""
   ]
  },
  {
   "cell_type": "code",
   "execution_count": 9,
   "metadata": {
    "collapsed": false
   },
   "outputs": [
    {
     "name": "stdout",
     "output_type": "stream",
     "text": [
      "Found 3 vowels\n"
     ]
    }
   ],
   "source": [
    "counter = 0\n",
    "for char in word:\n",
    "    for vowel in ['a','e','i','o','u']:\n",
    "        if char.lower() == vowel:\n",
    "            counter += 1\n",
    "            break\n",
    "print(\"Found {} vowels\".format(counter))"
   ]
  },
  {
   "cell_type": "code",
   "execution_count": 10,
   "metadata": {
    "collapsed": false
   },
   "outputs": [
    {
     "name": "stdout",
     "output_type": "stream",
     "text": [
      "37.5 degree Celsius is equal to 99.5 degree Fahrenheit\n"
     ]
    }
   ],
   "source": [
    "#convert temperature\n",
    "celsius = 37.5\n",
    "fahrenheit = (celsius * 1.8) + 32\n",
    "print('%0.1f degree Celsius is equal to %0.1f degree Fahrenheit' %(celsius,fahrenheit))"
   ]
  },
  {
   "cell_type": "code",
   "execution_count": 11,
   "metadata": {
    "collapsed": false
   },
   "outputs": [
    {
     "name": "stdout",
     "output_type": "stream",
     "text": [
      "Enter a number: 23\n",
      "The square root of 23.000 is 4.796\n"
     ]
    }
   ],
   "source": [
    "num = 8 \n",
    "num = float(input('Enter a number: '))\n",
    "num_sqrt = num ** 0.5\n",
    "print('The square root of %0.3f is %0.3f'%(num ,num_sqrt))"
   ]
  }
 ],
 "metadata": {
  "kernelspec": {
   "display_name": "Python 3",
   "language": "python",
   "name": "python3"
  },
  "language_info": {
   "codemirror_mode": {
    "name": "ipython",
    "version": 3
   },
   "file_extension": ".py",
   "mimetype": "text/x-python",
   "name": "python",
   "nbconvert_exporter": "python",
   "pygments_lexer": "ipython3",
   "version": "3.6.0"
  }
 },
 "nbformat": 4,
 "nbformat_minor": 2
}
