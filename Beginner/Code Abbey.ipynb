{
 "cells": [
  {
   "cell_type": "code",
   "execution_count": 10,
   "metadata": {
    "collapsed": false
   },
   "outputs": [
    {
     "name": "stdout",
     "output_type": "stream",
     "text": [
      "The sum is 21083\n"
     ]
    }
   ],
   "source": [
    "# List of numbers\n",
    "numbers = [847,826,392,686,842,20,264,85,1197,226,425,726,814,760,452,418,98,861,157,1142,57,793,62,118,609,776,273,1025,1063,77,247,610,894,629,1286,436,640,250]\n",
    "sum = 0\n",
    "\n",
    "# iterate over the list\n",
    "for val in numbers:\n",
    "    sum = sum+val\n",
    "\n",
    "# Output: The sum is 48\n",
    "print(\"The sum is\", sum)"
   ]
  },
  {
   "cell_type": "code",
   "execution_count": 12,
   "metadata": {
    "collapsed": false
   },
   "outputs": [
    {
     "name": "stdout",
     "output_type": "stream",
     "text": [
      "[754331, 750507, 601043, 713393, 1411220, 992724, 1454949, 640175, 1477755, 1170366, 843904, 1429248, 1384657, 845878]\n"
     ]
    }
   ],
   "source": [
    "a = [673765,384406,344715,440494,898746,460726,888288,542939,768949,384406,544850,978805,567146,415673] \n",
    "b = [80566,366101 ,256328,272899,512474,531998,566661,97236,708806,785960,299054,450443,817511,430205]\n",
    "c = [a[i] + b[i] for i in range(len(a))]\n",
    "print(c)"
   ]
  },
  {
   "cell_type": "code",
   "execution_count": 17,
   "metadata": {
    "collapsed": false
   },
   "outputs": [
    {
     "name": "stdout",
     "output_type": "stream",
     "text": [
      "11310\n"
     ]
    }
   ],
   "source": [
    "list_one = [11310,9730540,5469071,5380326,262847,3277293,3062720,340762]\n",
    "list_two = [9507620,1401273,8875604, 532455,8209851,1154735,3100117]\n",
    "min(list_one + list_two)\n",
    "print(min(list_one + list_two))"
   ]
  },
  {
   "cell_type": "code",
   "execution_count": 19,
   "metadata": {
    "collapsed": false
   },
   "outputs": [
    {
     "name": "stdout",
     "output_type": "stream",
     "text": [
      "1\n"
     ]
    }
   ],
   "source": [
    "x=[2,3,5,9,1,2,3]\n",
    "z=len(x)\n",
    "y=x[0]\n",
    "for i in range(z):\n",
    "    if y>x[i]:\n",
    "        y=x[i]\n",
    "print(y)"
   ]
  },
  {
   "cell_type": "code",
   "execution_count": 32,
   "metadata": {
    "collapsed": false
   },
   "outputs": [
    {
     "name": "stdout",
     "output_type": "stream",
     "text": [
      "[11310, 1401273, 5469071, 532455, 262847, 1154735, 3062720]\n"
     ]
    }
   ],
   "source": [
    "list_a = [11310,9730540,5469071,5380326,262847,3277293,3062720]\n",
    "list_b = [9507620,1401273,8875604, 532455,8209851,1154735,3100117]\n",
    "\n",
    "min_list = [value if list_b[index] > value else list_b[index] for index, value in enumerate(list_a)]\n",
    "\n",
    "print(min_list)"
   ]
  },
  {
   "cell_type": "code",
   "execution_count": 36,
   "metadata": {
    "collapsed": false
   },
   "outputs": [
    {
     "name": "stdout",
     "output_type": "stream",
     "text": [
      "enter any word:sentence\n"
     ]
    }
   ],
   "source": [
    "word = input(\"enter any word:\")\n"
   ]
  },
  {
   "cell_type": "code",
   "execution_count": 37,
   "metadata": {
    "collapsed": false
   },
   "outputs": [
    {
     "name": "stdout",
     "output_type": "stream",
     "text": [
      "Found 3 vowels\n"
     ]
    }
   ],
   "source": [
    "counter = 0\n",
    "for char in word:\n",
    "    for vowel in ['a','e','i','o','u']:\n",
    "        if char.lower() == vowel:\n",
    "            counter += 1\n",
    "            break\n",
    "print(\"Found {} vowels\".format(counter))"
   ]
  },
  {
   "cell_type": "code",
   "execution_count": 46,
   "metadata": {
    "collapsed": false
   },
   "outputs": [
    {
     "name": "stdout",
     "output_type": "stream",
     "text": [
      "37.5 degree Celsius is equal to 99.5 degree Fahrenheit\n"
     ]
    }
   ],
   "source": [
    "#convert temperature\n",
    "celsius = 37.5\n",
    "fahrenheit = (celsius * 1.8) + 32\n",
    "print('%0.1f degree Celsius is equal to %0.1f degree Fahrenheit' %(celsius,fahrenheit))"
   ]
  },
  {
   "cell_type": "code",
   "execution_count": 67,
   "metadata": {
    "collapsed": false
   },
   "outputs": [
    {
     "ename": "IndentationError",
     "evalue": "unexpected indent (<ipython-input-67-8b132f788fbf>, line 2)",
     "output_type": "error",
     "traceback": [
      "\u001b[0;36m  File \u001b[0;32m\"<ipython-input-67-8b132f788fbf>\"\u001b[0;36m, line \u001b[0;32m2\u001b[0m\n\u001b[0;31m    a = float(input('Enter first side: '))\u001b[0m\n\u001b[0m    ^\u001b[0m\n\u001b[0;31mIndentationError\u001b[0m\u001b[0;31m:\u001b[0m unexpected indent\n"
     ]
    }
   ],
   "source": [
    "\n",
    "    a = float(input('Enter first side: '))\n",
    "    b = float(input('Enter second side: '))\n",
    "    c = float(input('Enter third side: '))\n",
    "\n",
    "# calculate the semi-perimeter\n",
    "s = (a + b + c) / 2\n",
    "\n",
    "# calculate the area\n",
    "area = (s*(s-a)*(s-b)*(s-c)) ** 0.5\n",
    "print('The area of the triangle is %0.2f' %area)"
   ]
  },
  {
   "cell_type": "code",
   "execution_count": 69,
   "metadata": {
    "collapsed": false
   },
   "outputs": [
    {
     "name": "stdout",
     "output_type": "stream",
     "text": [
      "Enter a number: 7\n",
      "The square root of 7.000 is 2.646\n"
     ]
    }
   ],
   "source": [
    "num = 8 \n",
    "num = float(input('Enter a number: '))\n",
    "num_sqrt = num ** 0.5\n",
    "print('The square root of %0.3f is %0.3f'%(num ,num_sqrt))"
   ]
  },
  {
   "cell_type": "code",
   "execution_count": null,
   "metadata": {
    "collapsed": true
   },
   "outputs": [],
   "source": []
  }
 ],
 "metadata": {
  "kernelspec": {
   "display_name": "Python 3",
   "language": "python",
   "name": "python3"
  },
  "language_info": {
   "codemirror_mode": {
    "name": "ipython",
    "version": 3
   },
   "file_extension": ".py",
   "mimetype": "text/x-python",
   "name": "python",
   "nbconvert_exporter": "python",
   "pygments_lexer": "ipython3",
   "version": "3.6.0"
  }
 },
 "nbformat": 4,
 "nbformat_minor": 2
}
