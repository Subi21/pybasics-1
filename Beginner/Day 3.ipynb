{
 "cells": [
  {
   "cell_type": "markdown",
   "metadata": {},
   "source": [
    "## Day 3\n",
    "---\n",
    "\n",
    "Problem: Determine frequency of words for given paragraph.\n",
    "\n",
    "Uses:\n",
    "\n",
    "- Dictionary\n",
    "- list\n",
    "- string functions\n",
    "- while loop/ for loop\n",
    "- if condition"
   ]
  },
  {
   "cell_type": "code",
   "execution_count": 26,
   "metadata": {
    "collapsed": true
   },
   "outputs": [],
   "source": [
    "paragraph = \"\"\"I had seen little of Holmes lately. My marriage had drifted us\n",
    "away from each other. My own complete happiness, and the\n",
    "home-centred interests which rise up around the man who first\n",
    "finds himself master of his own establishment, were sufficient to\n",
    "absorb all my attention, while Holmes, who loathed every form of\n",
    "society with his whole Bohemian soul, remained in our lodgings in\n",
    "Baker Street, buried among his old books, and alternating from\n",
    "week to week between cocaine and ambition, the drowsiness of the\n",
    "drug, and the fierce energy of his own keen nature. He was still,\n",
    "as ever, deeply attracted by the study of crime, and occupied his\n",
    "immense faculties and extraordinary powers of observation in\n",
    "following out those clues, and clearing up those mysteries which\n",
    "had been abandoned as hopeless by the official police. From time\n",
    "to time I heard some vague account of his doings: of his summons\n",
    "to Odessa in the case of the Trepoff murder, of his clearing up\n",
    "of the singular tragedy of the Atkinson brothers at Trincomalee,\n",
    "and finally of the mission which he had accomplished so\n",
    "delicately and successfully for the reigning family of Holland.\n",
    "Beyond these signs of his activity, however, which I merely\n",
    "shared with all the readers of the daily press, I knew little of\n",
    "my former friend and companion.\n",
    "\n",
    "\"\"\""
   ]
  },
  {
   "cell_type": "code",
   "execution_count": 46,
   "metadata": {
    "collapsed": true
   },
   "outputs": [],
   "source": [
    "words = paragraph.split()"
   ]
  },
  {
   "cell_type": "code",
   "execution_count": 47,
   "metadata": {
    "collapsed": false
   },
   "outputs": [
    {
     "data": {
      "text/plain": [
       "['I',\n",
       " 'had',\n",
       " 'seen',\n",
       " 'little',\n",
       " 'of',\n",
       " 'Holmes',\n",
       " 'lately.',\n",
       " 'My',\n",
       " 'marriage',\n",
       " 'had',\n",
       " 'drifted',\n",
       " 'us',\n",
       " 'away',\n",
       " 'from',\n",
       " 'each',\n",
       " 'other.',\n",
       " 'My',\n",
       " 'own',\n",
       " 'complete',\n",
       " 'happiness,',\n",
       " 'and',\n",
       " 'the',\n",
       " 'home-centred',\n",
       " 'interests',\n",
       " 'which',\n",
       " 'rise',\n",
       " 'up',\n",
       " 'around',\n",
       " 'the',\n",
       " 'man',\n",
       " 'who',\n",
       " 'first',\n",
       " 'finds',\n",
       " 'himself',\n",
       " 'master',\n",
       " 'of',\n",
       " 'his',\n",
       " 'own',\n",
       " 'establishment,',\n",
       " 'were',\n",
       " 'sufficient',\n",
       " 'to',\n",
       " 'absorb',\n",
       " 'all',\n",
       " 'my',\n",
       " 'attention,',\n",
       " 'while',\n",
       " 'Holmes,',\n",
       " 'who',\n",
       " 'loathed',\n",
       " 'every',\n",
       " 'form',\n",
       " 'of',\n",
       " 'society',\n",
       " 'with',\n",
       " 'his',\n",
       " 'whole',\n",
       " 'Bohemian',\n",
       " 'soul,',\n",
       " 'remained',\n",
       " 'in',\n",
       " 'our',\n",
       " 'lodgings',\n",
       " 'in',\n",
       " 'Baker',\n",
       " 'Street,',\n",
       " 'buried',\n",
       " 'among',\n",
       " 'his',\n",
       " 'old',\n",
       " 'books,',\n",
       " 'and',\n",
       " 'alternating',\n",
       " 'from',\n",
       " 'week',\n",
       " 'to',\n",
       " 'week',\n",
       " 'between',\n",
       " 'cocaine',\n",
       " 'and',\n",
       " 'ambition,',\n",
       " 'the',\n",
       " 'drowsiness',\n",
       " 'of',\n",
       " 'the',\n",
       " 'drug,',\n",
       " 'and',\n",
       " 'the',\n",
       " 'fierce',\n",
       " 'energy',\n",
       " 'of',\n",
       " 'his',\n",
       " 'own',\n",
       " 'keen',\n",
       " 'nature.',\n",
       " 'He',\n",
       " 'was',\n",
       " 'still,',\n",
       " 'as',\n",
       " 'ever,',\n",
       " 'deeply',\n",
       " 'attracted',\n",
       " 'by',\n",
       " 'the',\n",
       " 'study',\n",
       " 'of',\n",
       " 'crime,',\n",
       " 'and',\n",
       " 'occupied',\n",
       " 'his',\n",
       " 'immense',\n",
       " 'faculties',\n",
       " 'and',\n",
       " 'extraordinary',\n",
       " 'powers',\n",
       " 'of',\n",
       " 'observation',\n",
       " 'in',\n",
       " 'following',\n",
       " 'out',\n",
       " 'those',\n",
       " 'clues,',\n",
       " 'and',\n",
       " 'clearing',\n",
       " 'up',\n",
       " 'those',\n",
       " 'mysteries',\n",
       " 'which',\n",
       " 'had',\n",
       " 'been',\n",
       " 'abandoned',\n",
       " 'as',\n",
       " 'hopeless',\n",
       " 'by',\n",
       " 'the',\n",
       " 'official',\n",
       " 'police.',\n",
       " 'From',\n",
       " 'time',\n",
       " 'to',\n",
       " 'time',\n",
       " 'I',\n",
       " 'heard',\n",
       " 'some',\n",
       " 'vague',\n",
       " 'account',\n",
       " 'of',\n",
       " 'his',\n",
       " 'doings:',\n",
       " 'of',\n",
       " 'his',\n",
       " 'summons',\n",
       " 'to',\n",
       " 'Odessa',\n",
       " 'in',\n",
       " 'the',\n",
       " 'case',\n",
       " 'of',\n",
       " 'the',\n",
       " 'Trepoff',\n",
       " 'murder,',\n",
       " 'of',\n",
       " 'his',\n",
       " 'clearing',\n",
       " 'up',\n",
       " 'of',\n",
       " 'the',\n",
       " 'singular',\n",
       " 'tragedy',\n",
       " 'of',\n",
       " 'the',\n",
       " 'Atkinson',\n",
       " 'brothers',\n",
       " 'at',\n",
       " 'Trincomalee,',\n",
       " 'and',\n",
       " 'finally',\n",
       " 'of',\n",
       " 'the',\n",
       " 'mission',\n",
       " 'which',\n",
       " 'he',\n",
       " 'had',\n",
       " 'accomplished',\n",
       " 'so',\n",
       " 'delicately',\n",
       " 'and',\n",
       " 'successfully',\n",
       " 'for',\n",
       " 'the',\n",
       " 'reigning',\n",
       " 'family',\n",
       " 'of',\n",
       " 'Holland.',\n",
       " 'Beyond',\n",
       " 'these',\n",
       " 'signs',\n",
       " 'of',\n",
       " 'his',\n",
       " 'activity,',\n",
       " 'however,',\n",
       " 'which',\n",
       " 'I',\n",
       " 'merely',\n",
       " 'shared',\n",
       " 'with',\n",
       " 'all',\n",
       " 'the',\n",
       " 'readers',\n",
       " 'of',\n",
       " 'the',\n",
       " 'daily',\n",
       " 'press,',\n",
       " 'I',\n",
       " 'knew',\n",
       " 'little',\n",
       " 'of',\n",
       " 'my',\n",
       " 'former',\n",
       " 'friend',\n",
       " 'and',\n",
       " 'companion.']"
      ]
     },
     "execution_count": 47,
     "metadata": {},
     "output_type": "execute_result"
    }
   ],
   "source": [
    "words"
   ]
  },
  {
   "cell_type": "code",
   "execution_count": 50,
   "metadata": {
    "collapsed": false
   },
   "outputs": [
    {
     "name": "stdout",
     "output_type": "stream",
     "text": [
      "(0, 'I')\n",
      "('number of words', 222)\n",
      "(1, 'had')\n",
      "('number of words', 222)\n",
      "(2, 'seen')\n",
      "('number of words', 222)\n",
      "(3, 'little')\n",
      "('number of words', 222)\n",
      "(4, 'of')\n",
      "('number of words', 222)\n",
      "(5, 'Holmes')\n",
      "('number of words', 222)\n",
      "(6, 'lately.')\n",
      "('number of words', 222)\n",
      "(7, 'My')\n",
      "('number of words', 222)\n",
      "(8, 'marriage')\n",
      "('number of words', 222)\n",
      "(9, 'had')\n",
      "('number of words', 222)\n",
      "(10, 'drifted')\n",
      "('number of words', 222)\n",
      "(11, 'us')\n",
      "('number of words', 222)\n",
      "(12, 'away')\n",
      "('number of words', 222)\n",
      "(13, 'from')\n",
      "('number of words', 222)\n",
      "(14, 'each')\n",
      "('number of words', 222)\n",
      "(15, 'other.')\n",
      "('number of words', 222)\n",
      "(16, 'My')\n",
      "('number of words', 222)\n",
      "(17, 'own')\n",
      "('number of words', 222)\n",
      "(18, 'complete')\n",
      "('number of words', 222)\n",
      "(19, 'happiness,')\n",
      "('number of words', 222)\n",
      "(20, 'and')\n",
      "('number of words', 222)\n",
      "(21, 'the')\n",
      "('number of words', 222)\n",
      "(22, 'home-centred')\n",
      "('number of words', 222)\n",
      "(23, 'interests')\n",
      "('number of words', 222)\n",
      "(24, 'which')\n",
      "('number of words', 222)\n",
      "(25, 'rise')\n",
      "('number of words', 222)\n",
      "(26, 'up')\n",
      "('number of words', 222)\n",
      "(27, 'around')\n",
      "('number of words', 222)\n",
      "(28, 'the')\n",
      "('number of words', 222)\n",
      "(29, 'man')\n",
      "('number of words', 222)\n",
      "(30, 'who')\n",
      "('number of words', 222)\n",
      "(31, 'first')\n",
      "('number of words', 222)\n",
      "(32, 'finds')\n",
      "('number of words', 222)\n",
      "(33, 'himself')\n",
      "('number of words', 222)\n",
      "(34, 'master')\n",
      "('number of words', 222)\n",
      "(35, 'of')\n",
      "('number of words', 222)\n",
      "(36, 'his')\n",
      "('number of words', 222)\n",
      "(37, 'own')\n",
      "('number of words', 222)\n",
      "(38, 'establishment,')\n",
      "('number of words', 222)\n",
      "(39, 'were')\n",
      "('number of words', 222)\n",
      "(40, 'sufficient')\n",
      "('number of words', 222)\n",
      "(41, 'to')\n",
      "('number of words', 222)\n",
      "(42, 'absorb')\n",
      "('number of words', 222)\n",
      "(43, 'all')\n",
      "('number of words', 222)\n",
      "(44, 'my')\n",
      "('number of words', 222)\n",
      "(45, 'attention,')\n",
      "('number of words', 222)\n",
      "(46, 'while')\n",
      "('number of words', 222)\n",
      "(47, 'Holmes,')\n",
      "('number of words', 222)\n",
      "(48, 'who')\n",
      "('number of words', 222)\n",
      "(49, 'loathed')\n",
      "('number of words', 222)\n",
      "(50, 'every')\n",
      "('number of words', 222)\n",
      "(51, 'form')\n",
      "('number of words', 222)\n",
      "(52, 'of')\n",
      "('number of words', 222)\n",
      "(53, 'society')\n",
      "('number of words', 222)\n",
      "(54, 'with')\n",
      "('number of words', 222)\n",
      "(55, 'his')\n",
      "('number of words', 222)\n",
      "(56, 'whole')\n",
      "('number of words', 222)\n",
      "(57, 'Bohemian')\n",
      "('number of words', 222)\n",
      "(58, 'soul,')\n",
      "('number of words', 222)\n",
      "(59, 'remained')\n",
      "('number of words', 222)\n",
      "(60, 'in')\n",
      "('number of words', 222)\n",
      "(61, 'our')\n",
      "('number of words', 222)\n",
      "(62, 'lodgings')\n",
      "('number of words', 222)\n",
      "(63, 'in')\n",
      "('number of words', 222)\n",
      "(64, 'Baker')\n",
      "('number of words', 222)\n",
      "(65, 'Street,')\n",
      "('number of words', 222)\n",
      "(66, 'buried')\n",
      "('number of words', 222)\n",
      "(67, 'among')\n",
      "('number of words', 222)\n",
      "(68, 'his')\n",
      "('number of words', 222)\n",
      "(69, 'old')\n",
      "('number of words', 222)\n",
      "(70, 'books,')\n",
      "('number of words', 222)\n",
      "(71, 'and')\n",
      "('number of words', 222)\n",
      "(72, 'alternating')\n",
      "('number of words', 222)\n",
      "(73, 'from')\n",
      "('number of words', 222)\n",
      "(74, 'week')\n",
      "('number of words', 222)\n",
      "(75, 'to')\n",
      "('number of words', 222)\n",
      "(76, 'week')\n",
      "('number of words', 222)\n",
      "(77, 'between')\n",
      "('number of words', 222)\n",
      "(78, 'cocaine')\n",
      "('number of words', 222)\n",
      "(79, 'and')\n",
      "('number of words', 222)\n",
      "(80, 'ambition,')\n",
      "('number of words', 222)\n",
      "(81, 'the')\n",
      "('number of words', 222)\n",
      "(82, 'drowsiness')\n",
      "('number of words', 222)\n",
      "(83, 'of')\n",
      "('number of words', 222)\n",
      "(84, 'the')\n",
      "('number of words', 222)\n",
      "(85, 'drug,')\n",
      "('number of words', 222)\n",
      "(86, 'and')\n",
      "('number of words', 222)\n",
      "(87, 'the')\n",
      "('number of words', 222)\n",
      "(88, 'fierce')\n",
      "('number of words', 222)\n",
      "(89, 'energy')\n",
      "('number of words', 222)\n",
      "(90, 'of')\n",
      "('number of words', 222)\n",
      "(91, 'his')\n",
      "('number of words', 222)\n",
      "(92, 'own')\n",
      "('number of words', 222)\n",
      "(93, 'keen')\n",
      "('number of words', 222)\n",
      "(94, 'nature.')\n",
      "('number of words', 222)\n",
      "(95, 'He')\n",
      "('number of words', 222)\n",
      "(96, 'was')\n",
      "('number of words', 222)\n",
      "(97, 'still,')\n",
      "('number of words', 222)\n",
      "(98, 'as')\n",
      "('number of words', 222)\n",
      "(99, 'ever,')\n",
      "('number of words', 222)\n",
      "(100, 'deeply')\n",
      "('number of words', 222)\n",
      "(101, 'attracted')\n",
      "('number of words', 222)\n",
      "(102, 'by')\n",
      "('number of words', 222)\n",
      "(103, 'the')\n",
      "('number of words', 222)\n",
      "(104, 'study')\n",
      "('number of words', 222)\n",
      "(105, 'of')\n",
      "('number of words', 222)\n",
      "(106, 'crime,')\n",
      "('number of words', 222)\n",
      "(107, 'and')\n",
      "('number of words', 222)\n",
      "(108, 'occupied')\n",
      "('number of words', 222)\n",
      "(109, 'his')\n",
      "('number of words', 222)\n",
      "(110, 'immense')\n",
      "('number of words', 222)\n",
      "(111, 'faculties')\n",
      "('number of words', 222)\n",
      "(112, 'and')\n",
      "('number of words', 222)\n",
      "(113, 'extraordinary')\n",
      "('number of words', 222)\n",
      "(114, 'powers')\n",
      "('number of words', 222)\n",
      "(115, 'of')\n",
      "('number of words', 222)\n",
      "(116, 'observation')\n",
      "('number of words', 222)\n",
      "(117, 'in')\n",
      "('number of words', 222)\n",
      "(118, 'following')\n",
      "('number of words', 222)\n",
      "(119, 'out')\n",
      "('number of words', 222)\n",
      "(120, 'those')\n",
      "('number of words', 222)\n",
      "(121, 'clues,')\n",
      "('number of words', 222)\n",
      "(122, 'and')\n",
      "('number of words', 222)\n",
      "(123, 'clearing')\n",
      "('number of words', 222)\n",
      "(124, 'up')\n",
      "('number of words', 222)\n",
      "(125, 'those')\n",
      "('number of words', 222)\n",
      "(126, 'mysteries')\n",
      "('number of words', 222)\n",
      "(127, 'which')\n",
      "('number of words', 222)\n",
      "(128, 'had')\n",
      "('number of words', 222)\n",
      "(129, 'been')\n",
      "('number of words', 222)\n",
      "(130, 'abandoned')\n",
      "('number of words', 222)\n",
      "(131, 'as')\n",
      "('number of words', 222)\n",
      "(132, 'hopeless')\n",
      "('number of words', 222)\n",
      "(133, 'by')\n",
      "('number of words', 222)\n",
      "(134, 'the')\n",
      "('number of words', 222)\n",
      "(135, 'official')\n",
      "('number of words', 222)\n",
      "(136, 'police.')\n",
      "('number of words', 222)\n",
      "(137, 'From')\n",
      "('number of words', 222)\n",
      "(138, 'time')\n",
      "('number of words', 222)\n",
      "(139, 'to')\n",
      "('number of words', 222)\n",
      "(140, 'time')\n",
      "('number of words', 222)\n",
      "(141, 'I')\n",
      "('number of words', 222)\n",
      "(142, 'heard')\n",
      "('number of words', 222)\n",
      "(143, 'some')\n",
      "('number of words', 222)\n",
      "(144, 'vague')\n",
      "('number of words', 222)\n",
      "(145, 'account')\n",
      "('number of words', 222)\n",
      "(146, 'of')\n",
      "('number of words', 222)\n",
      "(147, 'his')\n",
      "('number of words', 222)\n",
      "(148, 'doings:')\n",
      "('number of words', 222)\n",
      "(149, 'of')\n",
      "('number of words', 222)\n",
      "(150, 'his')\n",
      "('number of words', 222)\n",
      "(151, 'summons')\n",
      "('number of words', 222)\n",
      "(152, 'to')\n",
      "('number of words', 222)\n",
      "(153, 'Odessa')\n",
      "('number of words', 222)\n",
      "(154, 'in')\n",
      "('number of words', 222)\n",
      "(155, 'the')\n",
      "('number of words', 222)\n",
      "(156, 'case')\n",
      "('number of words', 222)\n",
      "(157, 'of')\n",
      "('number of words', 222)\n",
      "(158, 'the')\n",
      "('number of words', 222)\n",
      "(159, 'Trepoff')\n",
      "('number of words', 222)\n",
      "(160, 'murder,')\n",
      "('number of words', 222)\n",
      "(161, 'of')\n",
      "('number of words', 222)\n",
      "(162, 'his')\n",
      "('number of words', 222)\n",
      "(163, 'clearing')\n",
      "('number of words', 222)\n",
      "(164, 'up')\n",
      "('number of words', 222)\n",
      "(165, 'of')\n",
      "('number of words', 222)\n",
      "(166, 'the')\n",
      "('number of words', 222)\n",
      "(167, 'singular')\n",
      "('number of words', 222)\n",
      "(168, 'tragedy')\n",
      "('number of words', 222)\n",
      "(169, 'of')\n",
      "('number of words', 222)\n",
      "(170, 'the')\n",
      "('number of words', 222)\n",
      "(171, 'Atkinson')\n",
      "('number of words', 222)\n",
      "(172, 'brothers')\n",
      "('number of words', 222)\n",
      "(173, 'at')\n",
      "('number of words', 222)\n",
      "(174, 'Trincomalee,')\n",
      "('number of words', 222)\n",
      "(175, 'and')\n",
      "('number of words', 222)\n",
      "(176, 'finally')\n",
      "('number of words', 222)\n",
      "(177, 'of')\n",
      "('number of words', 222)\n",
      "(178, 'the')\n",
      "('number of words', 222)\n",
      "(179, 'mission')\n",
      "('number of words', 222)\n",
      "(180, 'which')\n",
      "('number of words', 222)\n",
      "(181, 'he')\n",
      "('number of words', 222)\n",
      "(182, 'had')\n",
      "('number of words', 222)\n",
      "(183, 'accomplished')\n",
      "('number of words', 222)\n",
      "(184, 'so')\n",
      "('number of words', 222)\n",
      "(185, 'delicately')\n",
      "('number of words', 222)\n",
      "(186, 'and')\n",
      "('number of words', 222)\n",
      "(187, 'successfully')\n",
      "('number of words', 222)\n",
      "(188, 'for')\n",
      "('number of words', 222)\n",
      "(189, 'the')\n",
      "('number of words', 222)\n",
      "(190, 'reigning')\n",
      "('number of words', 222)\n",
      "(191, 'family')\n",
      "('number of words', 222)\n",
      "(192, 'of')\n",
      "('number of words', 222)\n",
      "(193, 'Holland.')\n",
      "('number of words', 222)\n",
      "(194, 'Beyond')\n",
      "('number of words', 222)\n",
      "(195, 'these')\n",
      "('number of words', 222)\n",
      "(196, 'signs')\n",
      "('number of words', 222)\n",
      "(197, 'of')\n",
      "('number of words', 222)\n",
      "(198, 'his')\n",
      "('number of words', 222)\n",
      "(199, 'activity,')\n",
      "('number of words', 222)\n",
      "(200, 'however,')\n",
      "('number of words', 222)\n",
      "(201, 'which')\n",
      "('number of words', 222)\n",
      "(202, 'I')\n",
      "('number of words', 222)\n",
      "(203, 'merely')\n",
      "('number of words', 222)\n",
      "(204, 'shared')\n",
      "('number of words', 222)\n",
      "(205, 'with')\n",
      "('number of words', 222)\n",
      "(206, 'all')\n",
      "('number of words', 222)\n",
      "(207, 'the')\n",
      "('number of words', 222)\n",
      "(208, 'readers')\n",
      "('number of words', 222)\n",
      "(209, 'of')\n",
      "('number of words', 222)\n",
      "(210, 'the')\n",
      "('number of words', 222)\n",
      "(211, 'daily')\n",
      "('number of words', 222)\n",
      "(212, 'press,')\n",
      "('number of words', 222)\n",
      "(213, 'I')\n",
      "('number of words', 222)\n",
      "(214, 'knew')\n",
      "('number of words', 222)\n",
      "(215, 'little')\n",
      "('number of words', 222)\n",
      "(216, 'of')\n",
      "('number of words', 222)\n",
      "(217, 'my')\n",
      "('number of words', 222)\n",
      "(218, 'former')\n",
      "('number of words', 222)\n",
      "(219, 'friend')\n",
      "('number of words', 222)\n",
      "(220, 'and')\n",
      "('number of words', 222)\n",
      "(221, 'companion.')\n",
      "('number of words', 222)\n"
     ]
    }
   ],
   "source": [
    "index = 0\n",
    "while index < len (words):\n",
    "    print(index, words[index])\n",
    "    index += 1\n",
    "    print ('number of words',len(words))"
   ]
  },
  {
   "cell_type": "code",
   "execution_count": 60,
   "metadata": {
    "collapsed": false
   },
   "outputs": [
    {
     "ename": "IndentationError",
     "evalue": "unindent does not match any outer indentation level (<ipython-input-60-6a909dc4ad3a>, line 6)",
     "output_type": "error",
     "traceback": [
      "\u001b[0;36m  File \u001b[0;32m\"<ipython-input-60-6a909dc4ad3a>\"\u001b[0;36m, line \u001b[0;32m6\u001b[0m\n\u001b[0;31m    print(freq)\u001b[0m\n\u001b[0m                  ^\u001b[0m\n\u001b[0;31mIndentationError\u001b[0m\u001b[0;31m:\u001b[0m unindent does not match any outer indentation level\n"
     ]
    }
   ],
   "source": [
    "freq = {}\n",
    "index = 0\n",
    "while index < len(words):\n",
    "        freq[words[index]] = 0\n",
    "        index += 1\n",
    " print(freq)   \n",
    "    "
   ]
  },
  {
   "cell_type": "code",
   "execution_count": 64,
   "metadata": {
    "collapsed": false
   },
   "outputs": [
    {
     "name": "stdout",
     "output_type": "stream",
     "text": [
      "i\n",
      "had\n",
      "seen\n",
      "little\n",
      "of\n",
      "holmes\n",
      "lately.\n",
      "my\n",
      "marriage\n",
      "had\n",
      "drifted\n",
      "us\n",
      "away\n",
      "from\n",
      "each\n",
      "other.\n",
      "my\n",
      "own\n",
      "complete\n",
      "happiness,\n",
      "and\n",
      "the\n",
      "home-centred\n",
      "interests\n",
      "which\n",
      "rise\n",
      "up\n",
      "around\n",
      "the\n",
      "man\n",
      "who\n",
      "first\n",
      "finds\n",
      "himself\n",
      "master\n",
      "of\n",
      "his\n",
      "own\n",
      "establishment,\n",
      "were\n",
      "sufficient\n",
      "to\n",
      "absorb\n",
      "all\n",
      "my\n",
      "attention,\n",
      "while\n",
      "holmes,\n",
      "who\n",
      "loathed\n",
      "every\n",
      "form\n",
      "of\n",
      "society\n",
      "with\n",
      "his\n",
      "whole\n",
      "bohemian\n",
      "soul,\n",
      "remained\n",
      "in\n",
      "our\n",
      "lodgings\n",
      "in\n",
      "baker\n",
      "street,\n",
      "buried\n",
      "among\n",
      "his\n",
      "old\n",
      "books,\n",
      "and\n",
      "alternating\n",
      "from\n",
      "week\n",
      "to\n",
      "week\n",
      "between\n",
      "cocaine\n",
      "and\n",
      "ambition,\n",
      "the\n",
      "drowsiness\n",
      "of\n",
      "the\n",
      "drug,\n",
      "and\n",
      "the\n",
      "fierce\n",
      "energy\n",
      "of\n",
      "his\n",
      "own\n",
      "keen\n",
      "nature.\n",
      "he\n",
      "was\n",
      "still,\n",
      "as\n",
      "ever,\n",
      "deeply\n",
      "attracted\n",
      "by\n",
      "the\n",
      "study\n",
      "of\n",
      "crime,\n",
      "and\n",
      "occupied\n",
      "his\n",
      "immense\n",
      "faculties\n",
      "and\n",
      "extraordinary\n",
      "powers\n",
      "of\n",
      "observation\n",
      "in\n",
      "following\n",
      "out\n",
      "those\n",
      "clues,\n",
      "and\n",
      "clearing\n",
      "up\n",
      "those\n",
      "mysteries\n",
      "which\n",
      "had\n",
      "been\n",
      "abandoned\n",
      "as\n",
      "hopeless\n",
      "by\n",
      "the\n",
      "official\n",
      "police.\n",
      "from\n",
      "time\n",
      "to\n",
      "time\n",
      "i\n",
      "heard\n",
      "some\n",
      "vague\n",
      "account\n",
      "of\n",
      "his\n",
      "doings:\n",
      "of\n",
      "his\n",
      "summons\n",
      "to\n",
      "odessa\n",
      "in\n",
      "the\n",
      "case\n",
      "of\n",
      "the\n",
      "trepoff\n",
      "murder,\n",
      "of\n",
      "his\n",
      "clearing\n",
      "up\n",
      "of\n",
      "the\n",
      "singular\n",
      "tragedy\n",
      "of\n",
      "the\n",
      "atkinson\n",
      "brothers\n",
      "at\n",
      "trincomalee,\n",
      "and\n",
      "finally\n",
      "of\n",
      "the\n",
      "mission\n",
      "which\n",
      "he\n",
      "had\n",
      "accomplished\n",
      "so\n",
      "delicately\n",
      "and\n",
      "successfully\n",
      "for\n",
      "the\n",
      "reigning\n",
      "family\n",
      "of\n",
      "holland.\n",
      "beyond\n",
      "these\n",
      "signs\n",
      "of\n",
      "his\n",
      "activity,\n",
      "however,\n",
      "which\n",
      "i\n",
      "merely\n",
      "shared\n",
      "with\n",
      "all\n",
      "the\n",
      "readers\n",
      "of\n",
      "the\n",
      "daily\n",
      "press,\n",
      "i\n",
      "knew\n",
      "little\n",
      "of\n",
      "my\n",
      "former\n",
      "friend\n",
      "and\n",
      "companion.\n",
      "{'ever,': 0, 'all': 0, 'mission': 0, 'signs': 0, 'home-centred': 0, 'happiness,': 0, 'readers': 0, 'had': 0, 'to': 0, 'finally': 0, 'my': 0, 'alternating': 0, 'his': 0, 'around': 0, 'rise': 0, 'reigning': 0, 'soul,': 0, 'every': 0, 'shared': 0, 'vague': 0, 'books,': 0, 'each': 0, 'press,': 0, 'holland.': 0, 'doings:': 0, 'delicately': 0, 'old': 0, 'other.': 0, 'successfully': 0, 'some': 0, 'society': 0, 'our': 0, 'beyond': 0, 'out': 0, 'for': 0, 'deeply': 0, 'away': 0, 'attracted': 0, 'between': 0, 'holmes,': 0, 'knew': 0, 'trincomalee,': 0, 'police.': 0, 'extraordinary': 0, 'crime,': 0, 'faculties': 0, 'murder,': 0, 'clues,': 0, 'by': 0, 'attention,': 0, 'of': 0, 'study': 0, 'keen': 0, 'accomplished': 0, 'hopeless': 0, 'companion.': 0, 'ambition,': 0, 'street,': 0, 'however,': 0, 'whole': 0, 'finds': 0, 'first': 0, 'holmes': 0, 'among': 0, 'own': 0, 'family': 0, 'merely': 0, 'summons': 0, 'lately.': 0, 'drug,': 0, 'activity,': 0, 'drifted': 0, 'cocaine': 0, 'little': 0, 'from': 0, 'atkinson': 0, 'trepoff': 0, 'been': 0, 'tragedy': 0, 'immense': 0, 'master': 0, 'time': 0, 'was': 0, 'energy': 0, 'friend': 0, 'odessa': 0, 'interests': 0, 'himself': 0, 'complete': 0, 'form': 0, 'sufficient': 0, 'lodgings': 0, 'with': 0, 'former': 0, 'those': 0, 'he': 0, 'case': 0, 'account': 0, 'abandoned': 0, 'loathed': 0, 'official': 0, 'up': 0, 'us': 0, 'establishment,': 0, 'while': 0, 'bohemian': 0, 'marriage': 0, 'were': 0, 'following': 0, 'powers': 0, 'at': 0, 'and': 0, 'remained': 0, 'heard': 0, 'as': 0, 'buried': 0, 'in': 0, 'seen': 0, 'occupied': 0, 'these': 0, 'which': 0, 'mysteries': 0, 'week': 0, 'drowsiness': 0, 'brothers': 0, 'singular': 0, 'absorb': 0, 'who': 0, 'fierce': 0, 'man': 0, 'observation': 0, 'i': 0, 'baker': 0, 'daily': 0, 'still,': 0, 'so': 0, 'clearing': 0, 'the': 0, 'nature.': 0}\n"
     ]
    }
   ],
   "source": [
    "freq = {}\n",
    "index = 0\n",
    "while index < len (words):\n",
    "    word = words[index].lower()\n",
    "    print(word)\n",
    "    freq[word] = 0\n",
    "    index += 1\n",
    "print(freq)    "
   ]
  },
  {
   "cell_type": "code",
   "execution_count": 65,
   "metadata": {
    "collapsed": false
   },
   "outputs": [
    {
     "data": {
      "text/plain": [
       "{99: 78, 'harry': 67}"
      ]
     },
     "execution_count": 65,
     "metadata": {},
     "output_type": "execute_result"
    }
   ],
   "source": [
    "freq = {}\n",
    "freq['harry']=67\n",
    "freq[99]=78\n",
    "freq"
   ]
  },
  {
   "cell_type": "code",
   "execution_count": 66,
   "metadata": {
    "collapsed": true
   },
   "outputs": [],
   "source": [
    "names = ['harry','ron','hermione']"
   ]
  },
  {
   "cell_type": "code",
   "execution_count": 68,
   "metadata": {
    "collapsed": false
   },
   "outputs": [],
   "source": [
    "names[0]= 'neville'"
   ]
  },
  {
   "cell_type": "markdown",
   "metadata": {},
   "source": []
  },
  {
   "cell_type": "code",
   "execution_count": 74,
   "metadata": {
    "collapsed": false
   },
   "outputs": [
    {
     "data": {
      "text/plain": [
       "['neville', 'ron', 'hermione']"
      ]
     },
     "execution_count": 74,
     "metadata": {},
     "output_type": "execute_result"
    }
   ],
   "source": [
    "names"
   ]
  },
  {
   "cell_type": "code",
   "execution_count": 76,
   "metadata": {
    "collapsed": false
   },
   "outputs": [
    {
     "ename": "TypeError",
     "evalue": "'str' object does not support item assignment",
     "output_type": "error",
     "traceback": [
      "\u001b[0;31m---------------------------------------------------------------------------\u001b[0m",
      "\u001b[0;31mTypeError\u001b[0m                                 Traceback (most recent call last)",
      "\u001b[0;32m<ipython-input-76-d13c5dc0842a>\u001b[0m in \u001b[0;36m<module>\u001b[0;34m()\u001b[0m\n\u001b[0;32m----> 1\u001b[0;31m \u001b[0mnames\u001b[0m\u001b[0;34m[\u001b[0m\u001b[0;36m1\u001b[0m\u001b[0;34m]\u001b[0m\u001b[0;34m[\u001b[0m\u001b[0;36m0\u001b[0m\u001b[0;34m]\u001b[0m\u001b[0;34m=\u001b[0m\u001b[0;34m'J'\u001b[0m\u001b[0;34m\u001b[0m\u001b[0m\n\u001b[0m",
      "\u001b[0;31mTypeError\u001b[0m: 'str' object does not support item assignment"
     ]
    }
   ],
   "source": [
    "names[1][0]='J'"
   ]
  },
  {
   "cell_type": "markdown",
   "metadata": {},
   "source": [
    "lists are mutable"
   ]
  },
  {
   "cell_type": "code",
   "execution_count": 70,
   "metadata": {
    "collapsed": true
   },
   "outputs": [],
   "source": [
    "name= 'dumbledore'"
   ]
  },
  {
   "cell_type": "code",
   "execution_count": 71,
   "metadata": {
    "collapsed": false
   },
   "outputs": [
    {
     "data": {
      "text/plain": [
       "'d'"
      ]
     },
     "execution_count": 71,
     "metadata": {},
     "output_type": "execute_result"
    }
   ],
   "source": [
    "name[0]"
   ]
  },
  {
   "cell_type": "code",
   "execution_count": 72,
   "metadata": {
    "collapsed": false
   },
   "outputs": [
    {
     "ename": "TypeError",
     "evalue": "'str' object does not support item assignment",
     "output_type": "error",
     "traceback": [
      "\u001b[0;31m---------------------------------------------------------------------------\u001b[0m",
      "\u001b[0;31mTypeError\u001b[0m                                 Traceback (most recent call last)",
      "\u001b[0;32m<ipython-input-72-7541a02a9737>\u001b[0m in \u001b[0;36m<module>\u001b[0;34m()\u001b[0m\n\u001b[0;32m----> 1\u001b[0;31m \u001b[0mname\u001b[0m\u001b[0;34m[\u001b[0m\u001b[0;36m0\u001b[0m\u001b[0;34m]\u001b[0m\u001b[0;34m=\u001b[0m\u001b[0;34m'p'\u001b[0m\u001b[0;34m\u001b[0m\u001b[0m\n\u001b[0m",
      "\u001b[0;31mTypeError\u001b[0m: 'str' object does not support item assignment"
     ]
    }
   ],
   "source": [
    "name[0]='p'"
   ]
  },
  {
   "cell_type": "code",
   "execution_count": 73,
   "metadata": {
    "collapsed": false
   },
   "outputs": [
    {
     "data": {
      "text/plain": [
       "'dumbledore'"
      ]
     },
     "execution_count": 73,
     "metadata": {},
     "output_type": "execute_result"
    }
   ],
   "source": [
    "name"
   ]
  },
  {
   "cell_type": "markdown",
   "metadata": {},
   "source": [
    " - string is immutable"
   ]
  },
  {
   "cell_type": "code",
   "execution_count": 80,
   "metadata": {
    "collapsed": true
   },
   "outputs": [],
   "source": [
    "a = 6"
   ]
  },
  {
   "cell_type": "code",
   "execution_count": 81,
   "metadata": {
    "collapsed": false
   },
   "outputs": [
    {
     "data": {
      "text/plain": [
       "6"
      ]
     },
     "execution_count": 81,
     "metadata": {},
     "output_type": "execute_result"
    }
   ],
   "source": [
    "a"
   ]
  },
  {
   "cell_type": "code",
   "execution_count": 82,
   "metadata": {
    "collapsed": true
   },
   "outputs": [],
   "source": [
    "a=5"
   ]
  },
  {
   "cell_type": "code",
   "execution_count": 83,
   "metadata": {
    "collapsed": false
   },
   "outputs": [
    {
     "data": {
      "text/plain": [
       "5"
      ]
     },
     "execution_count": 83,
     "metadata": {},
     "output_type": "execute_result"
    }
   ],
   "source": [
    "a"
   ]
  },
  {
   "cell_type": "code",
   "execution_count": 84,
   "metadata": {
    "collapsed": true
   },
   "outputs": [],
   "source": [
    "freq = {'harry':5}"
   ]
  },
  {
   "cell_type": "code",
   "execution_count": 85,
   "metadata": {
    "collapsed": false
   },
   "outputs": [
    {
     "data": {
      "text/plain": [
       "5"
      ]
     },
     "execution_count": 85,
     "metadata": {},
     "output_type": "execute_result"
    }
   ],
   "source": [
    "freq['harry']"
   ]
  },
  {
   "cell_type": "code",
   "execution_count": 86,
   "metadata": {
    "collapsed": false
   },
   "outputs": [
    {
     "ename": "KeyError",
     "evalue": "0",
     "output_type": "error",
     "traceback": [
      "\u001b[0;31m---------------------------------------------------------------------------\u001b[0m",
      "\u001b[0;31mKeyError\u001b[0m                                  Traceback (most recent call last)",
      "\u001b[0;32m<ipython-input-86-533c3296910f>\u001b[0m in \u001b[0;36m<module>\u001b[0;34m()\u001b[0m\n\u001b[0;32m----> 1\u001b[0;31m \u001b[0mfreq\u001b[0m\u001b[0;34m[\u001b[0m\u001b[0;36m0\u001b[0m\u001b[0;34m]\u001b[0m\u001b[0;34m\u001b[0m\u001b[0m\n\u001b[0m",
      "\u001b[0;31mKeyError\u001b[0m: 0"
     ]
    }
   ],
   "source": [
    "freq[0]"
   ]
  },
  {
   "cell_type": "code",
   "execution_count": 87,
   "metadata": {
    "collapsed": true
   },
   "outputs": [],
   "source": [
    "freq[0]=99"
   ]
  },
  {
   "cell_type": "code",
   "execution_count": 88,
   "metadata": {
    "collapsed": false
   },
   "outputs": [
    {
     "data": {
      "text/plain": [
       "99"
      ]
     },
     "execution_count": 88,
     "metadata": {},
     "output_type": "execute_result"
    }
   ],
   "source": [
    "freq[0]"
   ]
  },
  {
   "cell_type": "code",
   "execution_count": 90,
   "metadata": {
    "collapsed": false
   },
   "outputs": [
    {
     "data": {
      "text/plain": [
       "{0: 99, 'harry': 5}"
      ]
     },
     "execution_count": 90,
     "metadata": {},
     "output_type": "execute_result"
    }
   ],
   "source": [
    "freq"
   ]
  },
  {
   "cell_type": "code",
   "execution_count": 92,
   "metadata": {
    "collapsed": false
   },
   "outputs": [
    {
     "name": "stdout",
     "output_type": "stream",
     "text": [
      "{'ever,': 0, 'all': 0, 'mission': 0, 'signs': 0, 'home-centred': 0, 'happiness,': 0, 'readers': 0, 'had': 0, 'to': 0, 'finally': 0, 'my': 0, 'alternating': 0, 'his': 0, 'around': 0, 'rise': 0, 'reigning': 0, 'soul,': 0, 'every': 0, 'shared': 0, 'vague': 0, 'books,': 0, 'each': 0, 'press,': 0, 'holland.': 0, 'doings:': 0, 'delicately': 0, 'old': 0, 'other.': 0, 'successfully': 0, 'some': 0, 'society': 0, 'our': 0, 'beyond': 0, 'out': 0, 'for': 0, 'deeply': 0, 'away': 0, 'attracted': 0, 'between': 0, 'holmes,': 0, 'knew': 0, 'trincomalee,': 0, 'police.': 0, 'extraordinary': 0, 'crime,': 0, 'faculties': 0, 'murder,': 0, 'clues,': 0, 'by': 0, 'attention,': 0, 'of': 0, 'study': 0, 'keen': 0, 'accomplished': 0, 'hopeless': 0, 'companion.': 0, 'ambition,': 0, 'street,': 0, 'however,': 0, 'whole': 0, 'finds': 0, 'first': 0, 'holmes': 0, 'among': 0, 'own': 0, 'family': 0, 'merely': 0, 'summons': 0, 'lately.': 0, 'drug,': 0, 'activity,': 0, 'drifted': 0, 'cocaine': 0, 'little': 0, 'from': 0, 'atkinson': 0, 'trepoff': 0, 'been': 0, 'tragedy': 0, 'immense': 0, 'master': 0, 'time': 0, 'was': 0, 'energy': 0, 'friend': 0, 'odessa': 0, 'interests': 0, 'himself': 0, 'complete': 0, 'form': 0, 'sufficient': 0, 'lodgings': 0, 'with': 0, 'former': 0, 'those': 0, 'he': 0, 'case': 0, 'account': 0, 'abandoned': 0, 'loathed': 0, 'official': 0, 'up': 0, 'us': 0, 'establishment,': 0, 'while': 0, 'bohemian': 0, 'marriage': 0, 'were': 0, 'following': 0, 'powers': 0, 'at': 0, 'and': 0, 'remained': 0, 'heard': 0, 'as': 0, 'buried': 0, 'in': 0, 'seen': 0, 'occupied': 0, 'these': 0, 'which': 0, 'mysteries': 0, 'week': 0, 'drowsiness': 0, 'brothers': 0, 'singular': 0, 'absorb': 0, 'who': 0, 'fierce': 0, 'man': 0, 'observation': 0, 'i': 0, 'baker': 0, 'daily': 0, 'still,': 0, 'so': 0, 'clearing': 0, 'the': 0, 'nature.': 0}\n"
     ]
    }
   ],
   "source": [
    "freq = {}\n",
    "index = 0\n",
    "while index < len(words):\n",
    "    word=words[index].lower()\n",
    "    freq[word]=0\n",
    "    index += 1\n",
    "print(freq)"
   ]
  },
  {
   "cell_type": "code",
   "execution_count": 115,
   "metadata": {
    "collapsed": false
   },
   "outputs": [
    {
     "name": "stdout",
     "output_type": "stream",
     "text": [
      "{'all': 0, 'mission': 0, 'signs': 0, 'still': 0, 'home-centred': 0, 'happiness': 0, 'police': 0, 'readers': 0, 'had': 0, 'crime': 0, 'to': 0, 'finally': 0, 'my': 0, 'alternating': 0, 'his': 0, 'around': 0, 'rise': 0, 'reigning': 0, 'every': 0, 'ambition': 0, 'press': 0, 'vague': 0, 'holland': 0, 'these': 0, 'each': 0, 'doings:': 0, 'delicately': 0, 'old': 0, 'energy': 0, 'successfully': 0, 'some': 0, 'up': 0, 'society': 0, 'books': 0, 'our': 0, 'beyond': 0, 'out': 0, 'for': 0, 'deeply': 0, 'away': 0, 'trincomalee': 0, 'attracted': 0, 'bohemian': 0, 'between': 0, 'shared': 0, 'ever': 0, 'knew': 0, 'nature': 0, 'attention': 0, 'however': 0, 'extraordinary': 0, 'faculties': 0, 'clues': 0, 'by': 0, 'of': 0, 'study': 0, 'drug': 0, 'keen': 0, 'accomplished': 0, 'hopeless': 0, 'whole': 0, 'finds': 0, 'first': 0, 'holmes': 0, 'among': 0, 'own': 0, 'family': 0, 'merely': 0, 'summons': 0, 'drifted': 0, 'cocaine': 0, 'little': 0, 'from': 0, 'atkinson': 0, 'trepoff': 0, 'been': 0, 'tragedy': 0, 'immense': 0, 'master': 0, 'time': 0, 'was': 0, 'friend': 0, 'odessa': 0, 'interests': 0, 'himself': 0, 'complete': 0, 'form': 0, 'sufficient': 0, 'lodgings': 0, 'with': 0, 'former': 0, 'those': 0, 'he': 0, 'case': 0, 'account': 0, 'abandoned': 0, 'loathed': 0, 'official': 0, 'soul': 0, 'us': 0, 'while': 0, 'street': 0, 'marriage': 0, 'were': 0, 'following': 0, 'powers': 0, 'at': 0, 'and': 0, 'remained': 0, 'heard': 0, 'as': 0, 'murder': 0, 'buried': 0, 'in': 0, 'seen': 0, 'activity': 0, 'occupied': 0, 'lately': 0, 'other': 0, 'which': 0, 'mysteries': 0, 'establishment': 0, 'week': 0, 'drowsiness': 0, 'brothers': 0, 'singular': 0, 'absorb': 0, 'who': 0, 'companion': 0, 'fierce': 0, 'man': 0, 'observation': 0, 'i': 0, 'baker': 0, 'daily': 0, 'so': 0, 'clearing': 0, 'the': 0}\n"
     ]
    }
   ],
   "source": [
    "freq = {}\n",
    "index = 0\n",
    "while index < len(words):\n",
    "    word= words[index].strip('.').strip(',').lower()\n",
    "    #word=words[index]\n",
    "    #word= word.strip('.')\n",
    "    #word=word.strip(',')\n",
    "    #word=word.lower()\n",
    "    freq[word]=0\n",
    "    index +=1\n",
    "print(freq)"
   ]
  },
  {
   "cell_type": "code",
   "execution_count": 117,
   "metadata": {
    "collapsed": true
   },
   "outputs": [],
   "source": [
    "words=paragraph.split()"
   ]
  },
  {
   "cell_type": "code",
   "execution_count": 118,
   "metadata": {
    "collapsed": false
   },
   "outputs": [
    {
     "data": {
      "text/plain": [
       "['I',\n",
       " 'had',\n",
       " 'seen',\n",
       " 'little',\n",
       " 'of',\n",
       " 'Holmes',\n",
       " 'lately.',\n",
       " 'My',\n",
       " 'marriage',\n",
       " 'had',\n",
       " 'drifted',\n",
       " 'us',\n",
       " 'away',\n",
       " 'from',\n",
       " 'each',\n",
       " 'other.',\n",
       " 'My',\n",
       " 'own',\n",
       " 'complete',\n",
       " 'happiness,',\n",
       " 'and',\n",
       " 'the',\n",
       " 'home-centred',\n",
       " 'interests',\n",
       " 'which',\n",
       " 'rise',\n",
       " 'up',\n",
       " 'around',\n",
       " 'the',\n",
       " 'man',\n",
       " 'who',\n",
       " 'first',\n",
       " 'finds',\n",
       " 'himself',\n",
       " 'master',\n",
       " 'of',\n",
       " 'his',\n",
       " 'own',\n",
       " 'establishment,',\n",
       " 'were',\n",
       " 'sufficient',\n",
       " 'to',\n",
       " 'absorb',\n",
       " 'all',\n",
       " 'my',\n",
       " 'attention,',\n",
       " 'while',\n",
       " 'Holmes,',\n",
       " 'who',\n",
       " 'loathed',\n",
       " 'every',\n",
       " 'form',\n",
       " 'of',\n",
       " 'society',\n",
       " 'with',\n",
       " 'his',\n",
       " 'whole',\n",
       " 'Bohemian',\n",
       " 'soul,',\n",
       " 'remained',\n",
       " 'in',\n",
       " 'our',\n",
       " 'lodgings',\n",
       " 'in',\n",
       " 'Baker',\n",
       " 'Street,',\n",
       " 'buried',\n",
       " 'among',\n",
       " 'his',\n",
       " 'old',\n",
       " 'books,',\n",
       " 'and',\n",
       " 'alternating',\n",
       " 'from',\n",
       " 'week',\n",
       " 'to',\n",
       " 'week',\n",
       " 'between',\n",
       " 'cocaine',\n",
       " 'and',\n",
       " 'ambition,',\n",
       " 'the',\n",
       " 'drowsiness',\n",
       " 'of',\n",
       " 'the',\n",
       " 'drug,',\n",
       " 'and',\n",
       " 'the',\n",
       " 'fierce',\n",
       " 'energy',\n",
       " 'of',\n",
       " 'his',\n",
       " 'own',\n",
       " 'keen',\n",
       " 'nature.',\n",
       " 'He',\n",
       " 'was',\n",
       " 'still,',\n",
       " 'as',\n",
       " 'ever,',\n",
       " 'deeply',\n",
       " 'attracted',\n",
       " 'by',\n",
       " 'the',\n",
       " 'study',\n",
       " 'of',\n",
       " 'crime,',\n",
       " 'and',\n",
       " 'occupied',\n",
       " 'his',\n",
       " 'immense',\n",
       " 'faculties',\n",
       " 'and',\n",
       " 'extraordinary',\n",
       " 'powers',\n",
       " 'of',\n",
       " 'observation',\n",
       " 'in',\n",
       " 'following',\n",
       " 'out',\n",
       " 'those',\n",
       " 'clues,',\n",
       " 'and',\n",
       " 'clearing',\n",
       " 'up',\n",
       " 'those',\n",
       " 'mysteries',\n",
       " 'which',\n",
       " 'had',\n",
       " 'been',\n",
       " 'abandoned',\n",
       " 'as',\n",
       " 'hopeless',\n",
       " 'by',\n",
       " 'the',\n",
       " 'official',\n",
       " 'police.',\n",
       " 'From',\n",
       " 'time',\n",
       " 'to',\n",
       " 'time',\n",
       " 'I',\n",
       " 'heard',\n",
       " 'some',\n",
       " 'vague',\n",
       " 'account',\n",
       " 'of',\n",
       " 'his',\n",
       " 'doings:',\n",
       " 'of',\n",
       " 'his',\n",
       " 'summons',\n",
       " 'to',\n",
       " 'Odessa',\n",
       " 'in',\n",
       " 'the',\n",
       " 'case',\n",
       " 'of',\n",
       " 'the',\n",
       " 'Trepoff',\n",
       " 'murder,',\n",
       " 'of',\n",
       " 'his',\n",
       " 'clearing',\n",
       " 'up',\n",
       " 'of',\n",
       " 'the',\n",
       " 'singular',\n",
       " 'tragedy',\n",
       " 'of',\n",
       " 'the',\n",
       " 'Atkinson',\n",
       " 'brothers',\n",
       " 'at',\n",
       " 'Trincomalee,',\n",
       " 'and',\n",
       " 'finally',\n",
       " 'of',\n",
       " 'the',\n",
       " 'mission',\n",
       " 'which',\n",
       " 'he',\n",
       " 'had',\n",
       " 'accomplished',\n",
       " 'so',\n",
       " 'delicately',\n",
       " 'and',\n",
       " 'successfully',\n",
       " 'for',\n",
       " 'the',\n",
       " 'reigning',\n",
       " 'family',\n",
       " 'of',\n",
       " 'Holland.',\n",
       " 'Beyond',\n",
       " 'these',\n",
       " 'signs',\n",
       " 'of',\n",
       " 'his',\n",
       " 'activity,',\n",
       " 'however,',\n",
       " 'which',\n",
       " 'I',\n",
       " 'merely',\n",
       " 'shared',\n",
       " 'with',\n",
       " 'all',\n",
       " 'the',\n",
       " 'readers',\n",
       " 'of',\n",
       " 'the',\n",
       " 'daily',\n",
       " 'press,',\n",
       " 'I',\n",
       " 'knew',\n",
       " 'little',\n",
       " 'of',\n",
       " 'my',\n",
       " 'former',\n",
       " 'friend',\n",
       " 'and',\n",
       " 'companion.']"
      ]
     },
     "execution_count": 118,
     "metadata": {},
     "output_type": "execute_result"
    }
   ],
   "source": [
    "words"
   ]
  },
  {
   "cell_type": "code",
   "execution_count": 120,
   "metadata": {
    "collapsed": false
   },
   "outputs": [
    {
     "name": "stdout",
     "output_type": "stream",
     "text": [
      "{'all': 1, 'mission': 0, 'signs': 0, 'still': 0, 'home-centred': 0, 'happiness': 0, 'police': 0, 'readers': 0, 'had': 3, 'crime': 0, 'to': 3, 'finally': 0, 'my': 3, 'alternating': 0, 'his': 8, 'around': 0, 'rise': 0, 'reigning': 0, 'every': 0, 'ambition': 0, 'press': 0, 'vague': 0, 'holland': 0, 'these': 0, 'each': 0, 'doings:': 0, 'delicately': 0, 'old': 0, 'energy': 0, 'successfully': 0, 'some': 0, 'up': 2, 'society': 0, 'books': 0, 'our': 0, 'beyond': 0, 'out': 0, 'for': 0, 'deeply': 0, 'away': 0, 'trincomalee': 0, 'attracted': 0, 'bohemian': 0, 'between': 0, 'shared': 0, 'ever': 0, 'knew': 0, 'nature': 0, 'attention': 0, 'however': 0, 'extraordinary': 0, 'faculties': 0, 'clues': 0, 'by': 1, 'of': 17, 'study': 0, 'drug': 0, 'keen': 0, 'accomplished': 0, 'hopeless': 0, 'whole': 0, 'finds': 0, 'first': 0, 'holmes': 1, 'among': 0, 'own': 2, 'family': 0, 'merely': 0, 'summons': 0, 'drifted': 0, 'cocaine': 0, 'little': 1, 'from': 2, 'atkinson': 0, 'trepoff': 0, 'been': 0, 'tragedy': 0, 'immense': 0, 'master': 0, 'time': 1, 'was': 0, 'friend': 0, 'odessa': 0, 'interests': 0, 'himself': 0, 'complete': 0, 'form': 0, 'sufficient': 0, 'lodgings': 0, 'with': 1, 'former': 0, 'those': 1, 'he': 1, 'case': 0, 'account': 0, 'abandoned': 0, 'loathed': 0, 'official': 0, 'soul': 0, 'us': 0, 'while': 0, 'street': 0, 'marriage': 0, 'were': 0, 'following': 0, 'powers': 0, 'at': 0, 'and': 9, 'remained': 0, 'heard': 0, 'as': 1, 'murder': 0, 'buried': 0, 'in': 3, 'seen': 0, 'activity': 0, 'occupied': 0, 'lately': 0, 'other': 0, 'which': 3, 'mysteries': 0, 'establishment': 0, 'week': 1, 'drowsiness': 0, 'brothers': 0, 'singular': 0, 'absorb': 0, 'who': 1, 'companion': 0, 'fierce': 0, 'man': 0, 'observation': 0, 'i': 3, 'baker': 0, 'daily': 0, 'so': 0, 'clearing': 1, 'the': 14}\n"
     ]
    }
   ],
   "source": [
    "freq = {}\n",
    "index = 0\n",
    "while index < len(words):\n",
    "    word = words[index].strip('.').strip(',').lower()\n",
    "    if word in freq:\n",
    "        freq[word] += 1\n",
    "    else:\n",
    "        freq[word] = 0\n",
    "    index +=1\n",
    "print(freq)"
   ]
  },
  {
   "cell_type": "code",
   "execution_count": 122,
   "metadata": {
    "collapsed": false
   },
   "outputs": [
    {
     "name": "stdout",
     "output_type": "stream",
     "text": [
      "Paragraph has 1\"all\"\n",
      "Paragraph has 0\"mission\"\n",
      "Paragraph has 0\"signs\"\n",
      "Paragraph has 0\"still\"\n",
      "Paragraph has 0\"home-centred\"\n",
      "Paragraph has 0\"happiness\"\n",
      "Paragraph has 0\"police\"\n",
      "Paragraph has 0\"readers\"\n",
      "Paragraph has 3\"had\"\n",
      "Paragraph has 0\"crime\"\n",
      "Paragraph has 3\"to\"\n",
      "Paragraph has 0\"finally\"\n",
      "Paragraph has 3\"my\"\n",
      "Paragraph has 0\"alternating\"\n",
      "Paragraph has 8\"his\"\n",
      "Paragraph has 0\"around\"\n",
      "Paragraph has 0\"rise\"\n",
      "Paragraph has 0\"reigning\"\n",
      "Paragraph has 0\"every\"\n",
      "Paragraph has 0\"ambition\"\n",
      "Paragraph has 0\"press\"\n",
      "Paragraph has 0\"vague\"\n",
      "Paragraph has 0\"holland\"\n",
      "Paragraph has 0\"these\"\n",
      "Paragraph has 0\"each\"\n",
      "Paragraph has 0\"doings:\"\n",
      "Paragraph has 0\"delicately\"\n",
      "Paragraph has 0\"old\"\n",
      "Paragraph has 0\"energy\"\n",
      "Paragraph has 0\"successfully\"\n",
      "Paragraph has 0\"some\"\n",
      "Paragraph has 2\"up\"\n",
      "Paragraph has 0\"society\"\n",
      "Paragraph has 0\"books\"\n",
      "Paragraph has 0\"our\"\n",
      "Paragraph has 0\"beyond\"\n",
      "Paragraph has 0\"out\"\n",
      "Paragraph has 0\"for\"\n",
      "Paragraph has 0\"deeply\"\n",
      "Paragraph has 0\"away\"\n",
      "Paragraph has 0\"trincomalee\"\n",
      "Paragraph has 0\"attracted\"\n",
      "Paragraph has 0\"bohemian\"\n",
      "Paragraph has 0\"between\"\n",
      "Paragraph has 0\"shared\"\n",
      "Paragraph has 0\"ever\"\n",
      "Paragraph has 0\"knew\"\n",
      "Paragraph has 0\"nature\"\n",
      "Paragraph has 0\"attention\"\n",
      "Paragraph has 0\"however\"\n",
      "Paragraph has 0\"extraordinary\"\n",
      "Paragraph has 0\"faculties\"\n",
      "Paragraph has 0\"clues\"\n",
      "Paragraph has 1\"by\"\n",
      "Paragraph has 17\"of\"\n",
      "Paragraph has 0\"study\"\n",
      "Paragraph has 0\"drug\"\n",
      "Paragraph has 0\"keen\"\n",
      "Paragraph has 0\"accomplished\"\n",
      "Paragraph has 0\"hopeless\"\n",
      "Paragraph has 0\"whole\"\n",
      "Paragraph has 0\"finds\"\n",
      "Paragraph has 0\"first\"\n",
      "Paragraph has 1\"holmes\"\n",
      "Paragraph has 0\"among\"\n",
      "Paragraph has 2\"own\"\n",
      "Paragraph has 0\"family\"\n",
      "Paragraph has 0\"merely\"\n",
      "Paragraph has 0\"summons\"\n",
      "Paragraph has 0\"drifted\"\n",
      "Paragraph has 0\"cocaine\"\n",
      "Paragraph has 1\"little\"\n",
      "Paragraph has 2\"from\"\n",
      "Paragraph has 0\"atkinson\"\n",
      "Paragraph has 0\"trepoff\"\n",
      "Paragraph has 0\"been\"\n",
      "Paragraph has 0\"tragedy\"\n",
      "Paragraph has 0\"immense\"\n",
      "Paragraph has 0\"master\"\n",
      "Paragraph has 1\"time\"\n",
      "Paragraph has 0\"was\"\n",
      "Paragraph has 0\"friend\"\n",
      "Paragraph has 0\"odessa\"\n",
      "Paragraph has 0\"interests\"\n",
      "Paragraph has 0\"himself\"\n",
      "Paragraph has 0\"complete\"\n",
      "Paragraph has 0\"form\"\n",
      "Paragraph has 0\"sufficient\"\n",
      "Paragraph has 0\"lodgings\"\n",
      "Paragraph has 1\"with\"\n",
      "Paragraph has 0\"former\"\n",
      "Paragraph has 1\"those\"\n",
      "Paragraph has 1\"he\"\n",
      "Paragraph has 0\"case\"\n",
      "Paragraph has 0\"account\"\n",
      "Paragraph has 0\"abandoned\"\n",
      "Paragraph has 0\"loathed\"\n",
      "Paragraph has 0\"official\"\n",
      "Paragraph has 0\"soul\"\n",
      "Paragraph has 0\"us\"\n",
      "Paragraph has 0\"while\"\n",
      "Paragraph has 0\"street\"\n",
      "Paragraph has 0\"marriage\"\n",
      "Paragraph has 0\"were\"\n",
      "Paragraph has 0\"following\"\n",
      "Paragraph has 0\"powers\"\n",
      "Paragraph has 0\"at\"\n",
      "Paragraph has 9\"and\"\n",
      "Paragraph has 0\"remained\"\n",
      "Paragraph has 0\"heard\"\n",
      "Paragraph has 1\"as\"\n",
      "Paragraph has 0\"murder\"\n",
      "Paragraph has 0\"buried\"\n",
      "Paragraph has 3\"in\"\n",
      "Paragraph has 0\"seen\"\n",
      "Paragraph has 0\"activity\"\n",
      "Paragraph has 0\"occupied\"\n",
      "Paragraph has 0\"lately\"\n",
      "Paragraph has 0\"other\"\n",
      "Paragraph has 3\"which\"\n",
      "Paragraph has 0\"mysteries\"\n",
      "Paragraph has 0\"establishment\"\n",
      "Paragraph has 1\"week\"\n",
      "Paragraph has 0\"drowsiness\"\n",
      "Paragraph has 0\"brothers\"\n",
      "Paragraph has 0\"singular\"\n",
      "Paragraph has 0\"absorb\"\n",
      "Paragraph has 1\"who\"\n",
      "Paragraph has 0\"companion\"\n",
      "Paragraph has 0\"fierce\"\n",
      "Paragraph has 0\"man\"\n",
      "Paragraph has 0\"observation\"\n",
      "Paragraph has 3\"i\"\n",
      "Paragraph has 0\"baker\"\n",
      "Paragraph has 0\"daily\"\n",
      "Paragraph has 0\"so\"\n",
      "Paragraph has 1\"clearing\"\n",
      "Paragraph has 14\"the\"\n"
     ]
    }
   ],
   "source": [
    "for item in freq:\n",
    "    print('Paragraph has {}\"{}\"'.format (freq[item],item))"
   ]
  },
  {
   "cell_type": "code",
   "execution_count": 97,
   "metadata": {
    "collapsed": true
   },
   "outputs": [],
   "source": [
    "nfreq = {'A':6, 'B':8}"
   ]
  },
  {
   "cell_type": "code",
   "execution_count": 99,
   "metadata": {
    "collapsed": false
   },
   "outputs": [
    {
     "ename": "NameError",
     "evalue": "name 'c' is not defined",
     "output_type": "error",
     "traceback": [
      "\u001b[0;31m---------------------------------------------------------------------------\u001b[0m",
      "\u001b[0;31mNameError\u001b[0m                                 Traceback (most recent call last)",
      "\u001b[0;32m<ipython-input-99-bf077778add2>\u001b[0m in \u001b[0;36m<module>\u001b[0;34m()\u001b[0m\n\u001b[0;32m----> 1\u001b[0;31m \u001b[0mnfreq\u001b[0m\u001b[0;34m[\u001b[0m\u001b[0mc\u001b[0m\u001b[0;34m]\u001b[0m\u001b[0;34m\u001b[0m\u001b[0m\n\u001b[0m",
      "\u001b[0;31mNameError\u001b[0m: name 'c' is not defined"
     ]
    }
   ],
   "source": [
    "nfreq[c]"
   ]
  },
  {
   "cell_type": "code",
   "execution_count": 100,
   "metadata": {
    "collapsed": false
   },
   "outputs": [
    {
     "data": {
      "text/plain": [
       "False"
      ]
     },
     "execution_count": 100,
     "metadata": {},
     "output_type": "execute_result"
    }
   ],
   "source": [
    "'C' in nfreq"
   ]
  },
  {
   "cell_type": "code",
   "execution_count": 101,
   "metadata": {
    "collapsed": false
   },
   "outputs": [
    {
     "data": {
      "text/plain": [
       "True"
      ]
     },
     "execution_count": 101,
     "metadata": {},
     "output_type": "execute_result"
    }
   ],
   "source": [
    "\"B\" in nfreq"
   ]
  },
  {
   "cell_type": "code",
   "execution_count": 102,
   "metadata": {
    "collapsed": false
   },
   "outputs": [
    {
     "data": {
      "text/plain": [
       "True"
      ]
     },
     "execution_count": 102,
     "metadata": {},
     "output_type": "execute_result"
    }
   ],
   "source": [
    "221< len(words)"
   ]
  },
  {
   "cell_type": "code",
   "execution_count": 103,
   "metadata": {
    "collapsed": false
   },
   "outputs": [
    {
     "data": {
      "text/plain": [
       "False"
      ]
     },
     "execution_count": 103,
     "metadata": {},
     "output_type": "execute_result"
    }
   ],
   "source": [
    "222 < len(words)"
   ]
  },
  {
   "cell_type": "code",
   "execution_count": null,
   "metadata": {
    "collapsed": true
   },
   "outputs": [],
   "source": []
  }
 ],
 "metadata": {
  "anaconda-cloud": {},
  "kernelspec": {
   "display_name": "Python [default]",
   "language": "python",
   "name": "python2"
  },
  "language_info": {
   "codemirror_mode": {
    "name": "ipython",
    "version": 2
   },
   "file_extension": ".py",
   "mimetype": "text/x-python",
   "name": "python",
   "nbconvert_exporter": "python",
   "pygments_lexer": "ipython2",
   "version": "2.7.12"
  }
 },
 "nbformat": 4,
 "nbformat_minor": 1
}
