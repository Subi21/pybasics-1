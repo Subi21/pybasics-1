{
 "cells": [
  {
   "cell_type": "markdown",
   "metadata": {},
   "source": [
    "## Problem\n",
    "___\n",
    "1. Find if given year is leap year or not?\n",
    "     - a leap year is divisible by four but not by 100 unless it is divisible by 400\n",
    "  \n",
    "2. Rock Paper Scissors (Game)\n",
    "     - rock breaks scissor, scissor cuts paper, paper covers rock\n",
    "     - rock vs scissor -> winner rock\n",
    "     - scissor vs paper -> winner scissor\n",
    "     - paper vs rock -. winner paper\n",
    "\n",
    "3. Implement Ceasar cipher\n",
    "    - https://en.wikipedia.org/wiki/Caesar_cipher"
   ]
  },
  {
   "cell_type": "code",
   "execution_count": 1,
   "metadata": {
    "collapsed": false
   },
   "outputs": [
    {
     "name": "stdout",
     "output_type": "stream",
     "text": [
      "Enter a year: 2000\n",
      "2000 is not a leap year\n"
     ]
    }
   ],
   "source": [
    "year = int(input(\"Enter a year: \"))\n",
    "if (year % 4):\n",
    "    print(\"{} is a leap year\".format(year))\n",
    "elif (year % 100) == 0:\n",
    "    print(\"{} is not a leap year\".format(year))\n",
    "elif (year % 400) == 0:\n",
    "    print(\"{} is a leap year\".format(year))\n",
    "else:\n",
    "   print(\"{} is not a leap year\".format(year))"
   ]
  },
  {
   "cell_type": "code",
   "execution_count": 2,
   "metadata": {
    "collapsed": false
   },
   "outputs": [
    {
     "name": "stdout",
     "output_type": "stream",
     "text": [
      "Enter a year: 2000\n",
      "2000 is a leap year\n"
     ]
    }
   ],
   "source": [
    "year = int(input(\"Enter a year: \"))\n",
    "if (year % 4) == 0:\n",
    "   if (year % 100) == 0:\n",
    "       if (year % 400) == 0:\n",
    "           print(\"{0} is a leap year\".format(year))\n",
    "       else:\n",
    "           print(\"{0} is not a leap year\".format(year))\n",
    "   else:\n",
    "       print(\"{0} is a leap year\".format(year))\n",
    "else:\n",
    "   print(\"{0} is not a leap year\".format(year))"
   ]
  },
  {
   "cell_type": "code",
   "execution_count": 4,
   "metadata": {
    "collapsed": false
   },
   "outputs": [
    {
     "name": "stdout",
     "output_type": "stream",
     "text": [
      "Rock, paper, Scissor ?paper\n",
      "you win! paper covers Rock\n"
     ]
    }
   ],
   "source": [
    "from random import randint\n",
    "game = [\"Rock\", \"paper\", \"Scissor\"]\n",
    "Gamer = game[randint(0,2)]\n",
    "player = False\n",
    "while player == False:\n",
    "    player = input(\"Rock, paper, Scissor ?\")\n",
    "    if player == Gamer:\n",
    "        print(\"Tie\")\n",
    "    elif  player == \"Rock\":\n",
    "        if Gamer == \"paper\":\n",
    "            print(\"You lose!\", Gamer , \"covers\", player)\n",
    "    elif player == \"paper\":\n",
    "        if Gamer == \"Scissor\":\n",
    "            print(\"You lose!\", Gamer, \"cuts\", player)\n",
    "        else:\n",
    "            print(\"you win!\",player, \"covers\", Gamer)\n",
    "    elif player == \"Scissor\":\n",
    "        if Gamer == \"Rock\":\n",
    "            print(\"You lose!\", Gamer, \"breaks\", player)\n",
    "        else:\n",
    "            print(\"You win !\",player, \"cut\", Gamer)\n",
    "    else:\n",
    "        print(\"unvalid\")\n",
    "player = False\n",
    "Gamer = game[randint(0,2)]"
   ]
  },
  {
   "cell_type": "code",
   "execution_count": null,
   "metadata": {
    "collapsed": true
   },
   "outputs": [],
   "source": []
  },
  {
   "cell_type": "code",
   "execution_count": null,
   "metadata": {
    "collapsed": true
   },
   "outputs": [],
   "source": []
  }
 ],
 "metadata": {
  "kernelspec": {
   "display_name": "Python 3",
   "language": "python",
   "name": "python3"
  },
  "language_info": {
   "codemirror_mode": {
    "name": "ipython",
    "version": 3
   },
   "file_extension": ".py",
   "mimetype": "text/x-python",
   "name": "python",
   "nbconvert_exporter": "python",
   "pygments_lexer": "ipython3",
   "version": "3.6.0"
  }
 },
 "nbformat": 4,
 "nbformat_minor": 2
}
